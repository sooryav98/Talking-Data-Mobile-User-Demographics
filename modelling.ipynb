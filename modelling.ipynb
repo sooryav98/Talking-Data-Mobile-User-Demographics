{
 "cells": [
  {
   "cell_type": "code",
   "execution_count": 1,
   "metadata": {},
   "outputs": [
    {
     "name": "stderr",
     "output_type": "stream",
     "text": [
      "S:\\ana\\lib\\site-packages\\sklearn\\cross_validation.py:41: DeprecationWarning: This module was deprecated in version 0.18 in favor of the model_selection module into which all the refactored classes and functions are moved. Also note that the interface of the new CV iterators are different from that of this module. This module will be removed in 0.20.\n",
      "  \"This module will be removed in 0.20.\", DeprecationWarning)\n"
     ]
    }
   ],
   "source": [
    "import pandas as pd\n",
    "import numpy as np\n",
    "%matplotlib inline\n",
    "import seaborn as sns\n",
    "import matplotlib.pyplot as plt\n",
    "import os\n",
    "from sklearn.preprocessing import LabelEncoder,StandardScaler, OneHotEncoder\n",
    "from scipy.sparse import csr_matrix, hstack\n",
    "from sklearn.linear_model import LogisticRegression\n",
    "from sklearn.cross_validation import StratifiedKFold\n",
    "from sklearn.metrics import log_loss\n",
    "from sklearn.feature_extraction.text import TfidfTransformer,TfidfVectorizer,CountVectorizer\n",
    "from sklearn.cluster import KMeans\n",
    "from xgboost import XGBClassifier\n",
    "from sklearn.calibration import CalibratedClassifierCV\n",
    "import warnings\n",
    "warnings.filterwarnings(\"ignore\")"
   ]
  },
  {
   "cell_type": "code",
   "execution_count": 2,
   "metadata": {},
   "outputs": [
    {
     "name": "stderr",
     "output_type": "stream",
     "text": [
      "Using TensorFlow backend.\n"
     ]
    }
   ],
   "source": [
    "from keras.models import Sequential\n",
    "from keras.layers import Dense, Dropout, Activation,BatchNormalization\n",
    "from keras.wrappers.scikit_learn import KerasClassifier\n",
    "from keras.utils import np_utils\n",
    "from keras.optimizers import SGD,Adagrad\n",
    "from keras.layers.advanced_activations import PReLU\n",
    "from sklearn.cross_validation import train_test_split\n",
    "from keras.callbacks import EarlyStopping,TensorBoard\n",
    "from statistics import mean"
   ]
  },
  {
   "cell_type": "code",
   "execution_count": 3,
   "metadata": {},
   "outputs": [],
   "source": [
    "gatrain = pd.read_csv(\"data/gender_age_train.csv\",index_col='device_id')\n",
    "gatest = pd.read_csv(\"data/gender_age_test.csv\",index_col='device_id')\n",
    "phone=pd.read_csv(\"data/phone_brand_device_model.csv\")\n",
    "app_label=pd.read_csv('data/app_labels.csv')\n",
    "label_cat=pd.read_csv(\"data/label_categories.csv\")\n",
    "app_events=pd.read_csv(\"data/app_events.csv\", dtype={'is_active':bool})\n",
    "events = pd.read_csv('data/events.csv',  parse_dates=['timestamp'],index_col='event_id')"
   ]
  },
  {
   "cell_type": "code",
   "execution_count": 4,
   "metadata": {},
   "outputs": [],
   "source": [
    "phone = phone.drop_duplicates('device_id',keep='first').set_index('device_id') #removing duplicate device id's"
   ]
  },
  {
   "cell_type": "markdown",
   "metadata": {},
   "source": [
    "## Section 5:Data Engineering "
   ]
  },
  {
   "cell_type": "markdown",
   "metadata": {},
   "source": [
    "Data is cleaned and prepared so that releveant features can be extracted whiloe modelling. Some of the code snippets were referred from this [kaggle starter kernel](https://www.kaggle.com/dvasyukova/a-linear-model-on-apps-and-labels)"
   ]
  },
  {
   "cell_type": "markdown",
   "metadata": {},
   "source": [
    "### 5.1: Splitting data based on missing values"
   ]
  },
  {
   "cell_type": "markdown",
   "metadata": {},
   "source": [
    "Training data and test data are divided into 2 groups:\n",
    "    1. Data which contains events information\n",
    "    2. Data which does not contain events information"
   ]
  },
  {
   "cell_type": "code",
   "execution_count": 5,
   "metadata": {},
   "outputs": [],
   "source": [
    "#https://docs.scipy.org/doc/numpy/reference/generated/numpy.in1d.html\n",
    "mask=np.in1d(gatrain.index,events[\"device_id\"].values)\n",
    "gatrain_events= gatrain[mask]\n",
    "\n",
    "mask=np.in1d(gatest.index,events[\"device_id\"].values)\n",
    "gatest_events= gatest[mask]"
   ]
  },
  {
   "cell_type": "code",
   "execution_count": 6,
   "metadata": {},
   "outputs": [],
   "source": [
    "#https://docs.scipy.org/doc/numpy/reference/generated/numpy.in1d.html\n",
    "mask=np.in1d(gatrain.index,events[\"device_id\"].values,invert=True)\n",
    "gatrain_noevents= gatrain[mask]\n",
    "\n",
    "mask=np.in1d(gatest.index,events[\"device_id\"].values,invert=True)\n",
    "gatest_noevents= gatest[mask]"
   ]
  },
  {
   "cell_type": "code",
   "execution_count": 7,
   "metadata": {},
   "outputs": [],
   "source": [
    "#Each row of is given by a unique integer as an identifier\n",
    "\n",
    "gatrain['trainrow'] = np.arange(gatrain.shape[0])\n",
    "gatest['testrow'] = np.arange(gatest.shape[0])\n",
    "\n",
    "gatrain_events['trainrow']=np.arange(gatrain_events.shape[0])\n",
    "gatest_events['testrow']=np.arange(gatest_events.shape[0])\n",
    "\n",
    "gatrain_noevents['trainrow']=np.arange(gatrain_noevents.shape[0])\n",
    "gatest_noevents['testrow']=np.arange(gatest_noevents.shape[0])"
   ]
  },
  {
   "cell_type": "code",
   "execution_count": 8,
   "metadata": {},
   "outputs": [
    {
     "name": "stdout",
     "output_type": "stream",
     "text": [
      "train data with events information: (23309, 4)\n",
      "train data without events information: (51336, 4)\n",
      "test data with events information: (35194, 1)\n",
      "test data without events information: (76877, 1)\n"
     ]
    }
   ],
   "source": [
    "print(\"train data with events information:\",gatrain_events.shape)\n",
    "print(\"train data without events information:\",gatrain_noevents.shape)\n",
    "print(\"test data with events information:\",gatest_events.shape)\n",
    "print(\"test data without events information:\",gatest_noevents.shape)"
   ]
  },
  {
   "cell_type": "markdown",
   "metadata": {},
   "source": [
    "### 5.2: Vectorising phone brand"
   ]
  },
  {
   "cell_type": "code",
   "execution_count": 9,
   "metadata": {},
   "outputs": [],
   "source": [
    "brandencoder = LabelEncoder().fit(phone.phone_brand)\n",
    "phone['brand'] = brandencoder.transform(phone['phone_brand'])\n",
    "nbrand=len(brandencoder.classes_)"
   ]
  },
  {
   "cell_type": "markdown",
   "metadata": {},
   "source": [
    "### 5.3: Vectorising  phone model"
   ]
  },
  {
   "cell_type": "code",
   "execution_count": 10,
   "metadata": {},
   "outputs": [],
   "source": [
    "m = phone.phone_brand.str.cat(phone.device_model)\n",
    "#m=phone['phone_brand'].str.cat(phone['device_model'])\n",
    "modelencoder = LabelEncoder().fit(m)\n",
    "phone['model'] = modelencoder.transform(m)\n",
    "nmodel=len(modelencoder.classes_)"
   ]
  },
  {
   "cell_type": "markdown",
   "metadata": {},
   "source": [
    "### 5.4: Feature enginnering app-id's"
   ]
  },
  {
   "cell_type": "markdown",
   "metadata": {},
   "source": [
    "Number of times each app was used in a particular device-id"
   ]
  },
  {
   "cell_type": "code",
   "execution_count": 11,
   "metadata": {
    "scrolled": true
   },
   "outputs": [
    {
     "data": {
      "text/html": [
       "<div>\n",
       "<style scoped>\n",
       "    .dataframe tbody tr th:only-of-type {\n",
       "        vertical-align: middle;\n",
       "    }\n",
       "\n",
       "    .dataframe tbody tr th {\n",
       "        vertical-align: top;\n",
       "    }\n",
       "\n",
       "    .dataframe thead th {\n",
       "        text-align: right;\n",
       "    }\n",
       "</style>\n",
       "<table border=\"1\" class=\"dataframe\">\n",
       "  <thead>\n",
       "    <tr style=\"text-align: right;\">\n",
       "      <th></th>\n",
       "      <th>device_id</th>\n",
       "      <th>app</th>\n",
       "      <th>size</th>\n",
       "      <th>trainrow</th>\n",
       "      <th>testrow</th>\n",
       "    </tr>\n",
       "  </thead>\n",
       "  <tbody>\n",
       "    <tr>\n",
       "      <th>0</th>\n",
       "      <td>-9222956879900151005</td>\n",
       "      <td>548</td>\n",
       "      <td>18</td>\n",
       "      <td>5145.0</td>\n",
       "      <td>NaN</td>\n",
       "    </tr>\n",
       "    <tr>\n",
       "      <th>1</th>\n",
       "      <td>-9222956879900151005</td>\n",
       "      <td>1096</td>\n",
       "      <td>18</td>\n",
       "      <td>5145.0</td>\n",
       "      <td>NaN</td>\n",
       "    </tr>\n",
       "    <tr>\n",
       "      <th>2</th>\n",
       "      <td>-9222956879900151005</td>\n",
       "      <td>1248</td>\n",
       "      <td>26</td>\n",
       "      <td>5145.0</td>\n",
       "      <td>NaN</td>\n",
       "    </tr>\n",
       "    <tr>\n",
       "      <th>3</th>\n",
       "      <td>-9222956879900151005</td>\n",
       "      <td>1545</td>\n",
       "      <td>12</td>\n",
       "      <td>5145.0</td>\n",
       "      <td>NaN</td>\n",
       "    </tr>\n",
       "    <tr>\n",
       "      <th>4</th>\n",
       "      <td>-9222956879900151005</td>\n",
       "      <td>1664</td>\n",
       "      <td>18</td>\n",
       "      <td>5145.0</td>\n",
       "      <td>NaN</td>\n",
       "    </tr>\n",
       "  </tbody>\n",
       "</table>\n",
       "</div>"
      ],
      "text/plain": [
       "             device_id   app  size  trainrow  testrow\n",
       "0 -9222956879900151005   548    18    5145.0      NaN\n",
       "1 -9222956879900151005  1096    18    5145.0      NaN\n",
       "2 -9222956879900151005  1248    26    5145.0      NaN\n",
       "3 -9222956879900151005  1545    12    5145.0      NaN\n",
       "4 -9222956879900151005  1664    18    5145.0      NaN"
      ]
     },
     "execution_count": 11,
     "metadata": {},
     "output_type": "execute_result"
    }
   ],
   "source": [
    "\n",
    "appencoder = LabelEncoder().fit(app_events['app_id'])\n",
    "app_events['app'] = appencoder.transform(app_events['app_id'])\n",
    "\n",
    "\n",
    "napps = len(appencoder.classes_)\n",
    "\n",
    "deviceapps = (app_events.merge(events[['device_id']], how='left',left_on='event_id',right_index=True)\n",
    "                       .groupby(['device_id','app'])['app'].agg(['size'])# grouping by device id and app and finding size of app\n",
    "                       .merge(gatrain_events[['trainrow']], how='left', left_index=True, right_index=True)#finding trainrow\n",
    "                       .merge(gatest_events[['testrow']], how='left', left_index=True, right_index=True)#finding testrow\n",
    "                       .reset_index())\n",
    "deviceapps.head()"
   ]
  },
  {
   "cell_type": "markdown",
   "metadata": {},
   "source": [
    "### 5.5:Feature engineering app label"
   ]
  },
  {
   "cell_type": "markdown",
   "metadata": {},
   "source": [
    "Simlar to above, we find number of a times an app with an unique category was used by a device id"
   ]
  },
  {
   "cell_type": "code",
   "execution_count": 12,
   "metadata": {},
   "outputs": [],
   "source": [
    "app_label = app_label.loc[app_label.app_id.isin(app_events.app_id.unique())]\n",
    "app_label['app'] = appencoder.transform(app_label.app_id)\n",
    "labelencoder = LabelEncoder().fit(app_label.label_id)\n",
    "app_label['label'] = labelencoder.transform(app_label.label_id)\n",
    "nlabels = len(labelencoder.classes_)"
   ]
  },
  {
   "cell_type": "code",
   "execution_count": 13,
   "metadata": {},
   "outputs": [
    {
     "data": {
      "text/html": [
       "<div>\n",
       "<style scoped>\n",
       "    .dataframe tbody tr th:only-of-type {\n",
       "        vertical-align: middle;\n",
       "    }\n",
       "\n",
       "    .dataframe tbody tr th {\n",
       "        vertical-align: top;\n",
       "    }\n",
       "\n",
       "    .dataframe thead th {\n",
       "        text-align: right;\n",
       "    }\n",
       "</style>\n",
       "<table border=\"1\" class=\"dataframe\">\n",
       "  <thead>\n",
       "    <tr style=\"text-align: right;\">\n",
       "      <th></th>\n",
       "      <th>device_id</th>\n",
       "      <th>label</th>\n",
       "      <th>size</th>\n",
       "      <th>trainrow</th>\n",
       "      <th>testrow</th>\n",
       "    </tr>\n",
       "  </thead>\n",
       "  <tbody>\n",
       "    <tr>\n",
       "      <th>0</th>\n",
       "      <td>-9222956879900151005</td>\n",
       "      <td>117</td>\n",
       "      <td>1</td>\n",
       "      <td>5145.0</td>\n",
       "      <td>NaN</td>\n",
       "    </tr>\n",
       "    <tr>\n",
       "      <th>1</th>\n",
       "      <td>-9222956879900151005</td>\n",
       "      <td>120</td>\n",
       "      <td>1</td>\n",
       "      <td>5145.0</td>\n",
       "      <td>NaN</td>\n",
       "    </tr>\n",
       "    <tr>\n",
       "      <th>2</th>\n",
       "      <td>-9222956879900151005</td>\n",
       "      <td>126</td>\n",
       "      <td>1</td>\n",
       "      <td>5145.0</td>\n",
       "      <td>NaN</td>\n",
       "    </tr>\n",
       "    <tr>\n",
       "      <th>3</th>\n",
       "      <td>-9222956879900151005</td>\n",
       "      <td>138</td>\n",
       "      <td>2</td>\n",
       "      <td>5145.0</td>\n",
       "      <td>NaN</td>\n",
       "    </tr>\n",
       "    <tr>\n",
       "      <th>4</th>\n",
       "      <td>-9222956879900151005</td>\n",
       "      <td>147</td>\n",
       "      <td>2</td>\n",
       "      <td>5145.0</td>\n",
       "      <td>NaN</td>\n",
       "    </tr>\n",
       "  </tbody>\n",
       "</table>\n",
       "</div>"
      ],
      "text/plain": [
       "             device_id  label  size  trainrow  testrow\n",
       "0 -9222956879900151005    117     1    5145.0      NaN\n",
       "1 -9222956879900151005    120     1    5145.0      NaN\n",
       "2 -9222956879900151005    126     1    5145.0      NaN\n",
       "3 -9222956879900151005    138     2    5145.0      NaN\n",
       "4 -9222956879900151005    147     2    5145.0      NaN"
      ]
     },
     "execution_count": 13,
     "metadata": {},
     "output_type": "execute_result"
    }
   ],
   "source": [
    "devicelabels = (deviceapps[['device_id','app']]\n",
    "                .merge(app_label[['app','label']])\n",
    "                .groupby(['device_id','label'])['app'].agg(['size'])\n",
    "                .merge(gatrain_events[['trainrow']], how='left', left_index=True, right_index=True)\n",
    "                .merge(gatest_events[['testrow']], how='left', left_index=True, right_index=True)\n",
    "                .reset_index())\n",
    "devicelabels.head()"
   ]
  },
  {
   "cell_type": "markdown",
   "metadata": {},
   "source": [
    "### 5.6: Processing Time "
   ]
  },
  {
   "cell_type": "markdown",
   "metadata": {},
   "source": [
    "we are processing timestamp feature to get information such as hour and day in which device was active.\n",
    "also we are binning the hours into 4 groups which can be used as features"
   ]
  },
  {
   "cell_type": "code",
   "execution_count": 14,
   "metadata": {},
   "outputs": [],
   "source": [
    "events['hour'] = events['timestamp'].map(lambda x:pd.to_datetime(x).hour)\n",
    "events['hourbin'] = [1 if ((x>=1)&(x<=6)) else 2 if ((x>=7)&(x<=12)) else 3 if ((x>=13)&(x<=18)) else 4 for x in events['hour']]"
   ]
  },
  {
   "cell_type": "code",
   "execution_count": 15,
   "metadata": {},
   "outputs": [],
   "source": [
    "events.hour=events.hour.astype(str)\n",
    "events.hourbin=events.hourbin.astype(str)"
   ]
  },
  {
   "cell_type": "markdown",
   "metadata": {},
   "source": [
    "we know that a device could have been used multiple times while using variuos apps. Therefore we are trying to concatenate all the times(day,hour,hourbin) in which the device was being used. This will be later to vectorise training and test data to create one-hot/tf-idf features"
   ]
  },
  {
   "cell_type": "code",
   "execution_count": 16,
   "metadata": {},
   "outputs": [],
   "source": [
    "hourjoin = events.groupby(\"device_id\")[\"hour\"].apply(lambda x: \" \".join('0'+str(s) for s in x))"
   ]
  },
  {
   "cell_type": "code",
   "execution_count": 17,
   "metadata": {},
   "outputs": [],
   "source": [
    "hourbinjoin=events.groupby(\"device_id\")[\"hourbin\"].apply(lambda x: \" \".join('0'+str(s) for s in x))"
   ]
  },
  {
   "cell_type": "code",
   "execution_count": 18,
   "metadata": {},
   "outputs": [],
   "source": [
    "daysjoin=events['timestamp'].dt.day_name()\n",
    "events['day']=daysjoin.map({'Sunday':0,'Monday':1,'Tuesday':2,'Wednesday':3,'Thursday':4,'Friday':5,'Saturday':6})"
   ]
  },
  {
   "cell_type": "code",
   "execution_count": 19,
   "metadata": {},
   "outputs": [],
   "source": [
    "daysjoin = events.groupby(\"device_id\")[\"day\"].apply(lambda x: \" \".join(\"0\"+str(s) for s in x))"
   ]
  },
  {
   "cell_type": "markdown",
   "metadata": {},
   "source": [
    "### 5.7: Processing Latitudes and longitudes"
   ]
  },
  {
   "cell_type": "markdown",
   "metadata": {},
   "source": [
    "similar to above, we are concatenating all the latitudes during which device was being used.The same is done to longitudes.\n",
    "Upon analysis it was found that certain latitudes and longitudes have values zero(can be considered outliers).\n",
    "Therefore we are taking the median of latitudes of a device (median prone to outliers) which can be used as features"
   ]
  },
  {
   "cell_type": "code",
   "execution_count": 20,
   "metadata": {},
   "outputs": [],
   "source": [
    "median_lat = events.groupby(\"device_id\")[\"latitude\"].agg('median')"
   ]
  },
  {
   "cell_type": "code",
   "execution_count": 21,
   "metadata": {},
   "outputs": [],
   "source": [
    "median_lon=events.groupby(\"device_id\")[\"longitude\"].agg('median')"
   ]
  },
  {
   "cell_type": "markdown",
   "metadata": {},
   "source": [
    "#### additionally we are clustering median latitudes and median longitudes into 10 clusters "
   ]
  },
  {
   "cell_type": "code",
   "execution_count": 22,
   "metadata": {},
   "outputs": [],
   "source": [
    "com=pd.concat([median_lat, median_lon], axis=1)\n",
    "kmeans = KMeans(n_clusters=10, random_state=0).fit(com)\n",
    "clustered_geo_features=pd.Series(kmeans.labels_)\n",
    "clustered_geo_features.index=median_lon.index"
   ]
  },
  {
   "cell_type": "markdown",
   "metadata": {},
   "source": [
    "### 5.8: Processing App_active feature"
   ]
  },
  {
   "cell_type": "markdown",
   "metadata": {},
   "source": [
    "A single device id can have more than 1 eventid and a event id  can have more than one app id.So we are grouping is active feature with event id and mapping the event id from app_events to event id in events. Finally for a device id we are concatenating all the active and inactive apps "
   ]
  },
  {
   "cell_type": "code",
   "execution_count": 23,
   "metadata": {},
   "outputs": [],
   "source": [
    "apps = app_events.groupby(\"event_id\")[\"is_active\"].apply(lambda x: \" \".join(str(s) for s in x))"
   ]
  },
  {
   "cell_type": "code",
   "execution_count": 24,
   "metadata": {},
   "outputs": [],
   "source": [
    "events[\"apps_active\"] = events.index.map(apps)\n",
    "active_apps_events = events.groupby(\"device_id\")[\"apps_active\"].apply(lambda x: \" \".join(str(s) for s in x if str(s)!='nan'))\n"
   ]
  },
  {
   "cell_type": "markdown",
   "metadata": {},
   "source": [
    "# Section 6: Modelling(Approach 1)\n"
   ]
  },
  {
   "cell_type": "markdown",
   "metadata": {},
   "source": [
    "In this approach we try to create fetaures for training data as a whole(without splitting data based on misssing values) and model it."
   ]
  },
  {
   "cell_type": "markdown",
   "metadata": {},
   "source": [
    "## 6.1: Creating Features"
   ]
  },
  {
   "cell_type": "markdown",
   "metadata": {},
   "source": [
    "Reference link for using [csr-matrix](https://docs.scipy.org/doc/scipy-0.14.0/reference/generated/scipy.sparse.csr_matrix.html)"
   ]
  },
  {
   "cell_type": "markdown",
   "metadata": {},
   "source": [
    "### 6.1.1: one-hot encoding phone-brand"
   ]
  },
  {
   "cell_type": "code",
   "execution_count": 25,
   "metadata": {},
   "outputs": [],
   "source": [
    "gatrain['brand'] = phone['brand']\n",
    "gatest['brand'] = phone['brand']\n",
    "\n",
    "Xtr_brand = csr_matrix((np.ones(gatrain.shape[0]), \n",
    "                       (gatrain.trainrow, gatrain.brand)))\n",
    "Xte_brand = csr_matrix((np.ones(gatest.shape[0]), \n",
    "                       (gatest.testrow, gatest.brand)))"
   ]
  },
  {
   "cell_type": "markdown",
   "metadata": {},
   "source": [
    "### 6.1.2: one-hot encoding phone-model"
   ]
  },
  {
   "cell_type": "code",
   "execution_count": 26,
   "metadata": {},
   "outputs": [],
   "source": [
    "gatrain['model'] = phone['model']\n",
    "gatest['model'] = phone['model']\n",
    "\n",
    "Xtr_model = csr_matrix((np.ones(gatrain.shape[0]), \n",
    "                       (gatrain.trainrow, gatrain.model)))\n",
    "Xte_model = csr_matrix((np.ones(gatest.shape[0]), \n",
    "                       (gatest.testrow, gatest.model)))"
   ]
  },
  {
   "cell_type": "markdown",
   "metadata": {},
   "source": [
    "### 6.1.3: one-hot encode device apps "
   ]
  },
  {
   "cell_type": "code",
   "execution_count": 23,
   "metadata": {},
   "outputs": [],
   "source": [
    "d = deviceapps.dropna(subset=['trainrow'])\n",
    "Xtr_app = csr_matrix((np.ones(d.shape[0]), (d.trainrow, d.app)), \n",
    "                      shape=(gatrain.shape[0],napps))\n",
    "d = deviceapps.dropna(subset=['testrow'])\n",
    "Xte_app = csr_matrix((np.ones(d.shape[0]), (d.testrow, d.app)), \n",
    "                      shape=(gatest.shape[0],napps))"
   ]
  },
  {
   "cell_type": "markdown",
   "metadata": {},
   "source": [
    "### 6.1.4: one-hot encode app category/label "
   ]
  },
  {
   "cell_type": "code",
   "execution_count": 24,
   "metadata": {},
   "outputs": [],
   "source": [
    "d = devicelabels.dropna(subset=['trainrow'])\n",
    "Xtr_label = csr_matrix((np.ones(d.shape[0]), (d.trainrow, d.label)), \n",
    "                      shape=(gatrain.shape[0],nlabels))\n",
    "d = devicelabels.dropna(subset=['testrow'])\n",
    "Xte_label = csr_matrix((np.ones(d.shape[0]), (d.testrow, d.label)), \n",
    "                      shape=(gatest.shape[0],nlabels))"
   ]
  },
  {
   "cell_type": "code",
   "execution_count": 25,
   "metadata": {},
   "outputs": [
    {
     "name": "stdout",
     "output_type": "stream",
     "text": [
      "Train data shape: (74645, 21527)\n",
      "Test data shape: (112071, 21527)\n"
     ]
    }
   ],
   "source": [
    "Xtrain = hstack((Xtr_brand, Xtr_model, Xtr_app, Xtr_label), format='csr')\n",
    "Xtest =  hstack((Xte_brand, Xte_model, Xte_app, Xte_label), format='csr')\n",
    "print('Train data shape:',Xtrain.shape)\n",
    "print('Test data shape:',Xtest.shape)"
   ]
  },
  {
   "cell_type": "code",
   "execution_count": 26,
   "metadata": {},
   "outputs": [],
   "source": [
    "#applying applying label encoding on target variable\n",
    "targetencoder = LabelEncoder().fit(gatrain.group)\n",
    "y = targetencoder.transform(gatrain.group)\n",
    "nclasses = len(targetencoder.classes_)"
   ]
  },
  {
   "cell_type": "code",
   "execution_count": 22,
   "metadata": {},
   "outputs": [],
   "source": [
    "from sklearn.calibration import CalibratedClassifierCV\n",
    "from sklearn.model_selection import train_test_split"
   ]
  },
  {
   "cell_type": "code",
   "execution_count": 28,
   "metadata": {},
   "outputs": [],
   "source": [
    "#splitting data into train and validation\n",
    "xtr, xcv, ytr, ycv = train_test_split(Xtrain, y,stratify=y,test_size=0.15)"
   ]
  },
  {
   "cell_type": "markdown",
   "metadata": {},
   "source": [
    "## 6.2: Model"
   ]
  },
  {
   "cell_type": "markdown",
   "metadata": {},
   "source": [
    "### 6.2.1:Logistic regression"
   ]
  },
  {
   "cell_type": "code",
   "execution_count": 29,
   "metadata": {},
   "outputs": [
    {
     "name": "stdout",
     "output_type": "stream",
     "text": [
      "For values of C =  0.001 The log loss is: 2.41107405432861\n",
      "For values of C =  0.01 The log loss is: 2.409967633564006\n",
      "For values of C =  0.02 The log loss is: 2.412348775785886\n",
      "For values of C =  0.1 The log loss is: 2.418234892824304\n",
      "For values of C =  1 The log loss is: 2.42249858642622\n",
      "For values of C =  10 The log loss is: 2.4235729131699397\n"
     ]
    }
   ],
   "source": [
    "#using logistic regression and fitting caliberation model on top of it to get probability scores\n",
    "alpha = [0.001,0.01,0.02,0.1,1,10]\n",
    "\n",
    "\n",
    "for i in alpha:\n",
    "    clf = LogisticRegression(C=i, class_weight='balanced', multi_class='multinomial',solver='lbfgs')\n",
    "    clf.fit(xtr, ytr)\n",
    "    #Using Model Calibration\n",
    "    sig_clf = CalibratedClassifierCV(clf, method=\"sigmoid\")\n",
    "    sig_clf.fit(xtr, ytr)\n",
    "    predict_y = sig_clf.predict_proba(xcv)\n",
    "    print('For values of C = ', i, \"The log loss is:\",log_loss(ycv, predict_y))\n",
    "\n"
   ]
  },
  {
   "cell_type": "markdown",
   "metadata": {},
   "source": [
    "#### C=0.01 gives the best results"
   ]
  },
  {
   "cell_type": "code",
   "execution_count": 30,
   "metadata": {},
   "outputs": [
    {
     "name": "stdout",
     "output_type": "stream",
     "text": [
      "The train log loss for best C is: 2.41697627331442\n",
      "The validation log loss for best C is: 2.3379110492346884\n"
     ]
    }
   ],
   "source": [
    "clf = LogisticRegression(C=0.01, class_weight='balanced', multi_class='multinomial', solver='lbfgs')\n",
    "clf.fit(xtr, ytr)\n",
    "sig_clf = CalibratedClassifierCV(clf, method=\"sigmoid\")\n",
    "sig_clf.fit(xcv, ycv)\n",
    "\n",
    "predict_y = sig_clf.predict_proba(xtr)\n",
    "loss=log_loss(ytr, predict_y)\n",
    "print(\"The train log loss for best C is:\",loss)\n",
    "predict_y = sig_clf.predict_proba(xcv)\n",
    "loss=log_loss(ycv, predict_y)\n",
    "print(\"The validation log loss for best C is:\",loss)"
   ]
  },
  {
   "cell_type": "markdown",
   "metadata": {},
   "source": [
    "### 6.2.2: Neural network"
   ]
  },
  {
   "cell_type": "code",
   "execution_count": 39,
   "metadata": {},
   "outputs": [],
   "source": [
    "from keras.callbacks import EarlyStopping,TensorBoard\n",
    "early_stop=EarlyStopping(monitor='val_loss',patience=5,restore_best_weights=True)"
   ]
  },
  {
   "cell_type": "markdown",
   "metadata": {},
   "source": [
    "Model architecture referred from this [kaggle discuission forum](https://www.kaggle.com/c/talkingdata-mobile-user-demographics/discussion/23424)"
   ]
  },
  {
   "cell_type": "code",
   "execution_count": 40,
   "metadata": {},
   "outputs": [
    {
     "name": "stderr",
     "output_type": "stream",
     "text": [
      "S:\\ana\\lib\\site-packages\\ipykernel_launcher.py:2: UserWarning: Update your `Dense` call to the Keras 2 API: `Dense(150, input_dim=21527, kernel_initializer=\"normal\")`\n",
      "  \n",
      "S:\\ana\\lib\\site-packages\\ipykernel_launcher.py:5: UserWarning: Update your `Dense` call to the Keras 2 API: `Dense(50, input_dim=21527, kernel_initializer=\"normal\")`\n",
      "  \"\"\"\n",
      "S:\\ana\\lib\\site-packages\\ipykernel_launcher.py:8: UserWarning: Update your `Dense` call to the Keras 2 API: `Dense(12, activation=\"softmax\", kernel_initializer=\"normal\")`\n",
      "  \n"
     ]
    }
   ],
   "source": [
    "model = Sequential()\n",
    "model.add(Dense(150, input_dim=xtr.shape[1], init='normal'))\n",
    "model.add(PReLU())\n",
    "model.add(Dropout(0.4))\n",
    "model.add(Dense(50, input_dim=xtr.shape[1], init='normal'))\n",
    "model.add(PReLU())\n",
    "model.add(Dropout(0.2))\n",
    "model.add(Dense(12, init='normal', activation='softmax'))\n",
    "model.compile(loss='sparse_categorical_crossentropy', optimizer='adam', metrics=['accuracy'])"
   ]
  },
  {
   "cell_type": "code",
   "execution_count": 41,
   "metadata": {},
   "outputs": [
    {
     "name": "stderr",
     "output_type": "stream",
     "text": [
      "S:\\ana\\lib\\site-packages\\ipykernel_launcher.py:1: UserWarning: The `nb_epoch` argument in `fit` has been renamed `epochs`.\n",
      "  \"\"\"Entry point for launching an IPython kernel.\n"
     ]
    },
    {
     "name": "stdout",
     "output_type": "stream",
     "text": [
      "Train on 63448 samples, validate on 11197 samples\n",
      "Epoch 1/15\n",
      "63448/63448 [==============================] - 170s 3ms/step - loss: 2.4177 - acc: 0.1386 - val_loss: 2.3995 - val_acc: 0.1482\n",
      "Epoch 2/15\n",
      "63448/63448 [==============================] - 166s 3ms/step - loss: 2.3956 - acc: 0.1493 - val_loss: 2.3970 - val_acc: 0.1542\n",
      "Epoch 3/15\n",
      "63448/63448 [==============================] - 169s 3ms/step - loss: 2.3815 - acc: 0.1563 - val_loss: 2.4034 - val_acc: 0.1493\n",
      "Epoch 4/15\n",
      "63448/63448 [==============================] - 167s 3ms/step - loss: 2.3591 - acc: 0.1661 - val_loss: 2.4038 - val_acc: 0.1548\n",
      "Epoch 5/15\n",
      "63448/63448 [==============================] - 168s 3ms/step - loss: 2.3327 - acc: 0.1755 - val_loss: 2.4164 - val_acc: 0.1564\n",
      "Epoch 6/15\n",
      "63448/63448 [==============================] - 167s 3ms/step - loss: 2.3000 - acc: 0.1871 - val_loss: 2.4484 - val_acc: 0.1541\n",
      "Epoch 7/15\n",
      "63448/63448 [==============================] - 169s 3ms/step - loss: 2.2653 - acc: 0.2013 - val_loss: 2.4502 - val_acc: 0.1490\n"
     ]
    }
   ],
   "source": [
    "fit= model.fit(xtr, ytr,nb_epoch=15,validation_data=(xcv, ycv),callbacks=[early_stop])"
   ]
  },
  {
   "cell_type": "markdown",
   "metadata": {},
   "source": [
    "#### best validation log loss was 2.3990 at epoch 2 after which model overfits."
   ]
  },
  {
   "cell_type": "code",
   "execution_count": 46,
   "metadata": {},
   "outputs": [
    {
     "name": "stdout",
     "output_type": "stream",
     "text": [
      "log loss for validation data: 2.3969534551542635\n"
     ]
    }
   ],
   "source": [
    "pred=model.predict(xcv)\n",
    "loss=log_loss(ycv,pred)\n",
    "print(\"log loss for validation data:\",loss)"
   ]
  },
  {
   "cell_type": "markdown",
   "metadata": {},
   "source": [
    "### 6.2.3: Conslusions from approach 1:"
   ]
  },
  {
   "cell_type": "markdown",
   "metadata": {},
   "source": [
    "1. The log-loss is reaching about 2.33 for validation data\n",
    "2. validation log loss for neural network is about 2.39\n",
    "3. Adding new features  and sticking to this approach might not drastically improve results"
   ]
  },
  {
   "cell_type": "markdown",
   "metadata": {},
   "source": [
    "# Section 7: Modelling (Approach 2)"
   ]
  },
  {
   "cell_type": "markdown",
   "metadata": {},
   "source": [
    "Approach reffered from this [kaggle deiscuission forum](https://www.kaggle.com/c/talkingdata-mobile-user-demographics/discussion/23424)"
   ]
  },
  {
   "cell_type": "markdown",
   "metadata": {},
   "source": [
    "Step 1: Split data into data which contains events and data which does not contain events\n",
    "\n",
    "Step 2: Apply seperate model on the split data\n",
    "    1. For devices without events: model using features phone model and phone brand(whole training data) and predict for test data without events\n",
    "    2. For devices without: model using phone brand , phone ,features from evnts file(time, geographical) using training data which has events information and predict with   test data with events\n",
    "    \n",
    "Step 3: concatenate the predictions\n",
    "               "
   ]
  },
  {
   "cell_type": "markdown",
   "metadata": {},
   "source": [
    "## 7.1:devices without events"
   ]
  },
  {
   "cell_type": "markdown",
   "metadata": {},
   "source": [
    "### 7.1.1: Creating features"
   ]
  },
  {
   "cell_type": "code",
   "execution_count": 27,
   "metadata": {},
   "outputs": [],
   "source": [
    "Xtrain_whole = hstack((Xtr_brand, Xtr_model), format='csr')\n",
    "\n",
    "targetencoder = LabelEncoder().fit(gatrain.group)\n",
    "y = targetencoder.transform(gatrain.group)"
   ]
  },
  {
   "cell_type": "code",
   "execution_count": 28,
   "metadata": {},
   "outputs": [],
   "source": [
    "gatest_noevents['model']=phone['model']\n",
    "gatest_noevents['brand']=phone['brand']"
   ]
  },
  {
   "cell_type": "code",
   "execution_count": 29,
   "metadata": {},
   "outputs": [],
   "source": [
    "gatest_noevents_model = csr_matrix((np.ones(gatest_noevents.shape[0]), \n",
    "                       (gatest_noevents.testrow, gatest_noevents.model)))\n",
    "\n",
    "gatest_noevents_brand= csr_matrix((np.ones(gatest_noevents.shape[0]), \n",
    "                       (gatest_noevents.testrow, gatest_noevents.brand)))"
   ]
  },
  {
   "cell_type": "code",
   "execution_count": 30,
   "metadata": {},
   "outputs": [],
   "source": [
    "xtest_noevents=hstack((gatest_noevents_brand, gatest_noevents_model), format='csr')"
   ]
  },
  {
   "cell_type": "code",
   "execution_count": 31,
   "metadata": {},
   "outputs": [
    {
     "name": "stdout",
     "output_type": "stream",
     "text": [
      "xtrain shape: (74645, 1798)\n",
      "ytrain shape: (74645,)\n",
      "xtest shape: (76877, 1798)\n"
     ]
    }
   ],
   "source": [
    "print(\"xtrain shape:\",Xtrain_whole.shape)\n",
    "print(\"ytrain shape:\",y.shape)\n",
    "\n",
    "print(\"xtest shape:\",xtest_noevents.shape)"
   ]
  },
  {
   "cell_type": "code",
   "execution_count": 32,
   "metadata": {},
   "outputs": [],
   "source": [
    "xtr, xcv, ytr, ycv = train_test_split(Xtrain_whole, y,stratify=y,test_size=0.15,random_state=18)"
   ]
  },
  {
   "cell_type": "markdown",
   "metadata": {},
   "source": [
    "### 7.1.2:Model-1(Logistic regression):"
   ]
  },
  {
   "cell_type": "code",
   "execution_count": 32,
   "metadata": {},
   "outputs": [
    {
     "name": "stdout",
     "output_type": "stream",
     "text": [
      "For values of C =  0.001 The validation log loss is: 2.4030020103020036\n",
      "For values of C =  0.01 The validation log loss is: 2.39641152579951\n",
      "For values of C =  0.02 The validation log loss is: 2.3940695248817785\n",
      "For values of C =  0.1 The validation log loss is: 2.3896730084069544\n",
      "For values of C =  0.15 The validation log loss is: 2.3891201368497037\n",
      "For values of C =  1 The validation log loss is: 2.39105667945638\n",
      "For values of C =  10 The validation log loss is: 2.398847882073424\n"
     ]
    }
   ],
   "source": [
    "# Train a Logistic regression+Calibration model using text features whicha re on-hot encoded\n",
    "alpha = [0.001,0.01,0.02,0.1,0.15,1,10]\n",
    "\n",
    "\n",
    "for i in alpha:\n",
    "    clf = LogisticRegression(C=i, class_weight='balanced', multi_class='multinomial',solver='lbfgs')\n",
    "    clf.fit(xtr, ytr)\n",
    "    #Using Model Calibration\n",
    "    sig_clf = CalibratedClassifierCV(clf, method=\"sigmoid\")\n",
    "    sig_clf.fit(xtr, ytr)\n",
    "    predict_y = sig_clf.predict_proba(xcv)\n",
    "    print('For values of C = ', i, \"The validation log loss is:\",log_loss(ycv, predict_y))\n",
    "\n"
   ]
  },
  {
   "cell_type": "markdown",
   "metadata": {},
   "source": [
    "#### C=0.15 gives least log loss"
   ]
  },
  {
   "cell_type": "code",
   "execution_count": 55,
   "metadata": {},
   "outputs": [
    {
     "name": "stdout",
     "output_type": "stream",
     "text": [
      "The train log loss for best C is: 2.362802878894095\n",
      "The validation log loss for best C is: 2.3891201368497037\n"
     ]
    }
   ],
   "source": [
    "clf = LogisticRegression(C=0.15, class_weight='balanced', multi_class='multinomial', solver='lbfgs')\n",
    "clf.fit(xtr, ytr)\n",
    "sig_clf = CalibratedClassifierCV(clf, method=\"sigmoid\")\n",
    "sig_clf.fit(xtr, ytr)\n",
    "\n",
    "predict_y = sig_clf.predict_proba(xtr)\n",
    "loss=log_loss(ytr, predict_y)\n",
    "print(\"The train log loss for best C is:\",loss)\n",
    "predict_y = sig_clf.predict_proba(xcv)\n",
    "loss=log_loss(ycv, predict_y)\n",
    "print(\"The validation log loss for best C is:\",loss)"
   ]
  },
  {
   "cell_type": "code",
   "execution_count": 56,
   "metadata": {},
   "outputs": [],
   "source": [
    "no_events_pred_lr=sig_clf.predict_proba(xtest_noevents)"
   ]
  },
  {
   "cell_type": "code",
   "execution_count": 42,
   "metadata": {},
   "outputs": [],
   "source": [
    "from sklearn.externals import joblib as jobl\n",
    "from joblib import dump"
   ]
  },
  {
   "cell_type": "code",
   "execution_count": 93,
   "metadata": {},
   "outputs": [],
   "source": [
    "np.save('results/lr_noevents',no_events_pred_lr)"
   ]
  },
  {
   "cell_type": "markdown",
   "metadata": {},
   "source": [
    "### 7.1.3:Neural Network 1"
   ]
  },
  {
   "cell_type": "markdown",
   "metadata": {},
   "source": [
    "Model architecture from this [kaggle deiscuission forum](https://www.kaggle.com/c/talkingdata-mobile-user-demographics/discussion/23424)"
   ]
  },
  {
   "cell_type": "code",
   "execution_count": 33,
   "metadata": {},
   "outputs": [],
   "source": [
    "def noevents_nn_model1(input_shape):\n",
    "    model = Sequential()\n",
    "    model.add(Dense(256, input_dim=input_shape))\n",
    "    model.add(PReLU())\n",
    "    model.add(BatchNormalization())\n",
    "    model.add(Dropout(0.5))\n",
    "    model.add(Dense(64))\n",
    "    model.add(PReLU())\n",
    "    model.add(BatchNormalization())\n",
    "    model.add(Dropout(0.5))\n",
    "    model.add(Dense(12))\n",
    "    model.add(Activation('softmax'))\n",
    "    model.compile(loss='categorical_crossentropy',\n",
    "              optimizer='adam',\n",
    "              metrics=['accuracy'])\n",
    "    return model"
   ]
  },
  {
   "cell_type": "code",
   "execution_count": 34,
   "metadata": {},
   "outputs": [
    {
     "name": "stdout",
     "output_type": "stream",
     "text": [
      "WARNING:tensorflow:From S:\\ana\\lib\\site-packages\\tensorflow\\python\\framework\\op_def_library.py:263: colocate_with (from tensorflow.python.framework.ops) is deprecated and will be removed in a future version.\n",
      "Instructions for updating:\n",
      "Colocations handled automatically by placer.\n",
      "WARNING:tensorflow:From S:\\ana\\lib\\site-packages\\keras\\backend\\tensorflow_backend.py:3445: calling dropout (from tensorflow.python.ops.nn_ops) with keep_prob is deprecated and will be removed in a future version.\n",
      "Instructions for updating:\n",
      "Please use `rate` instead of `keep_prob`. Rate should be set to `rate = 1 - keep_prob`.\n",
      "_________________________________________________________________\n",
      "Layer (type)                 Output Shape              Param #   \n",
      "=================================================================\n",
      "dense_1 (Dense)              (None, 256)               460544    \n",
      "_________________________________________________________________\n",
      "p_re_lu_1 (PReLU)            (None, 256)               256       \n",
      "_________________________________________________________________\n",
      "batch_normalization_1 (Batch (None, 256)               1024      \n",
      "_________________________________________________________________\n",
      "dropout_1 (Dropout)          (None, 256)               0         \n",
      "_________________________________________________________________\n",
      "dense_2 (Dense)              (None, 64)                16448     \n",
      "_________________________________________________________________\n",
      "p_re_lu_2 (PReLU)            (None, 64)                64        \n",
      "_________________________________________________________________\n",
      "batch_normalization_2 (Batch (None, 64)                256       \n",
      "_________________________________________________________________\n",
      "dropout_2 (Dropout)          (None, 64)                0         \n",
      "_________________________________________________________________\n",
      "dense_3 (Dense)              (None, 12)                780       \n",
      "_________________________________________________________________\n",
      "activation_1 (Activation)    (None, 12)                0         \n",
      "=================================================================\n",
      "Total params: 479,372\n",
      "Trainable params: 478,732\n",
      "Non-trainable params: 640\n",
      "_________________________________________________________________\n"
     ]
    }
   ],
   "source": [
    "model_sum=noevents_nn_model1(xtr.shape[1])\n",
    "model_sum.summary()"
   ]
  },
  {
   "cell_type": "code",
   "execution_count": 35,
   "metadata": {},
   "outputs": [],
   "source": [
    "early_stop=EarlyStopping(monitor='val_loss',patience=5,restore_best_weights=True)"
   ]
  },
  {
   "cell_type": "markdown",
   "metadata": {},
   "source": [
    "A neural network ensemble was utilised to get better results. Refer [this](https://machinelearningmastery.com/model-averaging-ensemble-for-deep-learning-neural-networks/) for more information"
   ]
  },
  {
   "cell_type": "code",
   "execution_count": 37,
   "metadata": {},
   "outputs": [],
   "source": [
    "def noevents_average_nn_1(state):\n",
    "    \"\"\"\n",
    "    Takes a list of Random Seeds, splits the data into Train and CV based on Seed, trains model and takes average of \n",
    "    predictions while testing  \n",
    "    \"\"\"\n",
    "    model_list=[]\n",
    "    loss_list=[]\n",
    "    avg_cv_loss=0\n",
    "    for i in range(len(state)):\n",
    "        xtr, xcv, ytr, ycv = train_test_split(Xtrain_whole, y,stratify=y,test_size=0.15,random_state=state[i])\n",
    "        ytr=np_utils.to_categorical(ytr)\n",
    "        ycv=np_utils.to_categorical(ycv)\n",
    "        model=noevents_nn_model1(xtr.shape[1])\n",
    "        model.fit(xtr, ytr, batch_size=256, epochs=20, verbose=1, validation_data=(xcv, ycv),callbacks=[early_stop])\n",
    "        model.save('saved_models/noevents/nn'+str(i+1))\n",
    "        pred=model.predict_proba(xcv)\n",
    "        cv_loss=log_loss(ycv, pred)\n",
    "        print(\"Validation Log Loss of  Model in Current Run: \",cv_loss)\n",
    "        model_list.append(model)\n",
    "        loss_list.append(cv_loss)\n",
    "    avg_cv_loss=mean(loss_list)\n",
    "    print(\"Average CV Loss of \"+str(len(state))+\" Runs :\",avg_cv_loss)\n",
    "    return(model_list)\n"
   ]
  },
  {
   "cell_type": "code",
   "execution_count": 38,
   "metadata": {
    "scrolled": true
   },
   "outputs": [
    {
     "name": "stdout",
     "output_type": "stream",
     "text": [
      "WARNING:tensorflow:From S:\\ana\\lib\\site-packages\\tensorflow\\python\\ops\\math_ops.py:3066: to_int32 (from tensorflow.python.ops.math_ops) is deprecated and will be removed in a future version.\n",
      "Instructions for updating:\n",
      "Use tf.cast instead.\n",
      "Train on 63448 samples, validate on 11197 samples\n",
      "Epoch 1/20\n",
      "63448/63448 [==============================] - 5s 74us/step - loss: 2.9367 - acc: 0.1069 - val_loss: 2.4152 - val_acc: 0.1473\n",
      "Epoch 2/20\n",
      "63448/63448 [==============================] - 4s 56us/step - loss: 2.4932 - acc: 0.1292 - val_loss: 2.3989 - val_acc: 0.1512\n",
      "Epoch 3/20\n",
      "63448/63448 [==============================] - 4s 56us/step - loss: 2.4199 - acc: 0.1462 - val_loss: 2.3960 - val_acc: 0.1512\n",
      "Epoch 4/20\n",
      "63448/63448 [==============================] - 4s 57us/step - loss: 2.4005 - acc: 0.1530 - val_loss: 2.3941 - val_acc: 0.1535\n",
      "Epoch 5/20\n",
      "63448/63448 [==============================] - 4s 56us/step - loss: 2.3921 - acc: 0.1551 - val_loss: 2.3920 - val_acc: 0.1545\n",
      "Epoch 6/20\n",
      "63448/63448 [==============================] - 4s 57us/step - loss: 2.3840 - acc: 0.1597 - val_loss: 2.3914 - val_acc: 0.1541\n",
      "Epoch 7/20\n",
      "63448/63448 [==============================] - 4s 56us/step - loss: 2.3803 - acc: 0.1599 - val_loss: 2.3920 - val_acc: 0.1557\n",
      "Epoch 8/20\n",
      "63448/63448 [==============================] - 4s 56us/step - loss: 2.3747 - acc: 0.1625 - val_loss: 2.3927 - val_acc: 0.1553\n",
      "Epoch 9/20\n",
      "63448/63448 [==============================] - 4s 60us/step - loss: 2.3713 - acc: 0.1644 - val_loss: 2.3915 - val_acc: 0.1525\n",
      "Epoch 10/20\n",
      "63448/63448 [==============================] - 4s 67us/step - loss: 2.3651 - acc: 0.1694 - val_loss: 2.3936 - val_acc: 0.1550\n",
      "Epoch 11/20\n",
      "63448/63448 [==============================] - 4s 59us/step - loss: 2.3595 - acc: 0.1715 - val_loss: 2.3953 - val_acc: 0.1541\n",
      "Validation Log Loss of  Model in Current Run:  2.391441100834203\n",
      "Train on 63448 samples, validate on 11197 samples\n",
      "Epoch 1/20\n",
      "63448/63448 [==============================] - 4s 68us/step - loss: 2.8895 - acc: 0.1039 - val_loss: 2.4072 - val_acc: 0.1462\n",
      "Epoch 2/20\n",
      "63448/63448 [==============================] - 4s 63us/step - loss: 2.4855 - acc: 0.1309 - val_loss: 2.3964 - val_acc: 0.1551\n",
      "Epoch 3/20\n",
      "63448/63448 [==============================] - 4s 60us/step - loss: 2.4171 - acc: 0.1442 - val_loss: 2.3927 - val_acc: 0.1556\n",
      "Epoch 4/20\n",
      "63448/63448 [==============================] - 4s 60us/step - loss: 2.4004 - acc: 0.1514 - val_loss: 2.3903 - val_acc: 0.1563\n",
      "Epoch 5/20\n",
      "63448/63448 [==============================] - 4s 61us/step - loss: 2.3903 - acc: 0.1570 - val_loss: 2.3885 - val_acc: 0.1578\n",
      "Epoch 6/20\n",
      "63448/63448 [==============================] - 4s 64us/step - loss: 2.3838 - acc: 0.1590 - val_loss: 2.3872 - val_acc: 0.1573\n",
      "Epoch 7/20\n",
      "63448/63448 [==============================] - 4s 63us/step - loss: 2.3777 - acc: 0.1620 - val_loss: 2.3891 - val_acc: 0.1598\n",
      "Epoch 8/20\n",
      "63448/63448 [==============================] - 4s 60us/step - loss: 2.3737 - acc: 0.1662 - val_loss: 2.3888 - val_acc: 0.1586\n",
      "Epoch 9/20\n",
      "63448/63448 [==============================] - 4s 60us/step - loss: 2.3677 - acc: 0.1657 - val_loss: 2.3905 - val_acc: 0.1567\n",
      "Epoch 10/20\n",
      "63448/63448 [==============================] - 4s 60us/step - loss: 2.3636 - acc: 0.1653 - val_loss: 2.3933 - val_acc: 0.1554\n",
      "Epoch 11/20\n",
      "63448/63448 [==============================] - 4s 60us/step - loss: 2.3577 - acc: 0.1683 - val_loss: 2.3956 - val_acc: 0.1574\n",
      "Validation Log Loss of  Model in Current Run:  2.3871870453926007\n",
      "Train on 63448 samples, validate on 11197 samples\n",
      "Epoch 1/20\n",
      "63448/63448 [==============================] - 5s 71us/step - loss: 2.9260 - acc: 0.1029 - val_loss: 2.4095 - val_acc: 0.1500\n",
      "Epoch 2/20\n",
      "63448/63448 [==============================] - 4s 63us/step - loss: 2.4849 - acc: 0.1302 - val_loss: 2.3934 - val_acc: 0.1599\n",
      "Epoch 3/20\n",
      "63448/63448 [==============================] - 4s 60us/step - loss: 2.4164 - acc: 0.1450 - val_loss: 2.3902 - val_acc: 0.1560\n",
      "Epoch 4/20\n",
      "63448/63448 [==============================] - 4s 60us/step - loss: 2.3977 - acc: 0.1511 - val_loss: 2.3885 - val_acc: 0.1550\n",
      "Epoch 5/20\n",
      "63448/63448 [==============================] - 4s 60us/step - loss: 2.3906 - acc: 0.1551 - val_loss: 2.3867 - val_acc: 0.1575\n",
      "Epoch 6/20\n",
      "63448/63448 [==============================] - 4s 61us/step - loss: 2.3831 - acc: 0.1592 - val_loss: 2.3870 - val_acc: 0.1552\n",
      "Epoch 7/20\n",
      "63448/63448 [==============================] - 4s 60us/step - loss: 2.3765 - acc: 0.1632 - val_loss: 2.3873 - val_acc: 0.1584\n",
      "Epoch 8/20\n",
      "63448/63448 [==============================] - 4s 61us/step - loss: 2.3711 - acc: 0.1655 - val_loss: 2.3855 - val_acc: 0.1594\n",
      "Epoch 9/20\n",
      "63448/63448 [==============================] - 4s 64us/step - loss: 2.3655 - acc: 0.1680 - val_loss: 2.3877 - val_acc: 0.1561\n",
      "Epoch 10/20\n",
      "63448/63448 [==============================] - 4s 65us/step - loss: 2.3615 - acc: 0.1686 - val_loss: 2.3894 - val_acc: 0.1544\n",
      "Epoch 11/20\n",
      "63448/63448 [==============================] - 4s 60us/step - loss: 2.3578 - acc: 0.1674 - val_loss: 2.3911 - val_acc: 0.1562\n",
      "Epoch 12/20\n",
      "63448/63448 [==============================] - 4s 61us/step - loss: 2.3554 - acc: 0.1716 - val_loss: 2.3915 - val_acc: 0.1550\n",
      "Epoch 13/20\n",
      "63448/63448 [==============================] - 4s 62us/step - loss: 2.3510 - acc: 0.1714 - val_loss: 2.3946 - val_acc: 0.1545\n",
      "Validation Log Loss of  Model in Current Run:  2.385463933588256\n",
      "Train on 63448 samples, validate on 11197 samples\n",
      "Epoch 1/20\n",
      "63448/63448 [==============================] - 5s 72us/step - loss: 2.9305 - acc: 0.1047 - val_loss: 2.4091 - val_acc: 0.1521\n",
      "Epoch 2/20\n",
      "63448/63448 [==============================] - 4s 63us/step - loss: 2.4876 - acc: 0.1313 - val_loss: 2.3949 - val_acc: 0.1564\n",
      "Epoch 3/20\n",
      "63448/63448 [==============================] - 4s 61us/step - loss: 2.4177 - acc: 0.1440 - val_loss: 2.3928 - val_acc: 0.1563\n",
      "Epoch 4/20\n",
      "63448/63448 [==============================] - 4s 60us/step - loss: 2.3980 - acc: 0.1513 - val_loss: 2.3905 - val_acc: 0.1594\n",
      "Epoch 5/20\n",
      "63448/63448 [==============================] - 4s 61us/step - loss: 2.3898 - acc: 0.1541 - val_loss: 2.3888 - val_acc: 0.1594\n",
      "Epoch 6/20\n",
      "63448/63448 [==============================] - 4s 60us/step - loss: 2.3843 - acc: 0.1596 - val_loss: 2.3885 - val_acc: 0.1558\n",
      "Epoch 7/20\n",
      "63448/63448 [==============================] - 4s 60us/step - loss: 2.3793 - acc: 0.1609 - val_loss: 2.3897 - val_acc: 0.1563\n",
      "Epoch 8/20\n",
      "63448/63448 [==============================] - 4s 60us/step - loss: 2.3728 - acc: 0.1638 - val_loss: 2.3912 - val_acc: 0.1577\n",
      "Epoch 9/20\n",
      "63448/63448 [==============================] - 4s 60us/step - loss: 2.3677 - acc: 0.1662 - val_loss: 2.3914 - val_acc: 0.1558\n",
      "Epoch 10/20\n",
      "63448/63448 [==============================] - 4s 60us/step - loss: 2.3640 - acc: 0.1671 - val_loss: 2.3922 - val_acc: 0.1560\n",
      "Epoch 11/20\n",
      "63448/63448 [==============================] - 4s 60us/step - loss: 2.3605 - acc: 0.1662 - val_loss: 2.3937 - val_acc: 0.1562\n",
      "Validation Log Loss of  Model in Current Run:  2.38853402311082\n",
      "Train on 63448 samples, validate on 11197 samples\n",
      "Epoch 1/20\n",
      "63448/63448 [==============================] - 5s 73us/step - loss: 2.8767 - acc: 0.1044 - val_loss: 2.4095 - val_acc: 0.1435\n",
      "Epoch 2/20\n",
      "63448/63448 [==============================] - 4s 62us/step - loss: 2.4765 - acc: 0.1307 - val_loss: 2.3959 - val_acc: 0.1472\n",
      "Epoch 3/20\n",
      "63448/63448 [==============================] - 4s 61us/step - loss: 2.4161 - acc: 0.1453 - val_loss: 2.3926 - val_acc: 0.1529\n",
      "Epoch 4/20\n",
      "63448/63448 [==============================] - 4s 60us/step - loss: 2.3972 - acc: 0.1518 - val_loss: 2.3913 - val_acc: 0.1544\n",
      "Epoch 5/20\n",
      "63448/63448 [==============================] - 4s 60us/step - loss: 2.3897 - acc: 0.1565 - val_loss: 2.3894 - val_acc: 0.1564\n",
      "Epoch 6/20\n",
      "63448/63448 [==============================] - 4s 60us/step - loss: 2.3828 - acc: 0.1585 - val_loss: 2.3884 - val_acc: 0.1566\n",
      "Epoch 7/20\n",
      "63448/63448 [==============================] - 4s 60us/step - loss: 2.3765 - acc: 0.1620 - val_loss: 2.3892 - val_acc: 0.1547\n",
      "Epoch 8/20\n",
      "63448/63448 [==============================] - 4s 60us/step - loss: 2.3722 - acc: 0.1642 - val_loss: 2.3881 - val_acc: 0.1568\n",
      "Epoch 9/20\n",
      "63448/63448 [==============================] - 4s 60us/step - loss: 2.3673 - acc: 0.1656 - val_loss: 2.3908 - val_acc: 0.1559\n",
      "Epoch 10/20\n",
      "63448/63448 [==============================] - 4s 60us/step - loss: 2.3628 - acc: 0.1691 - val_loss: 2.3931 - val_acc: 0.1529\n",
      "Epoch 11/20\n",
      "63448/63448 [==============================] - 4s 60us/step - loss: 2.3582 - acc: 0.1682 - val_loss: 2.3924 - val_acc: 0.1559\n",
      "Epoch 12/20\n",
      "63448/63448 [==============================] - 4s 61us/step - loss: 2.3546 - acc: 0.1702 - val_loss: 2.3944 - val_acc: 0.1549\n",
      "Epoch 13/20\n",
      "63448/63448 [==============================] - 4s 60us/step - loss: 2.3500 - acc: 0.1705 - val_loss: 2.3958 - val_acc: 0.1517\n",
      "Validation Log Loss of  Model in Current Run:  2.3881458399859437\n",
      "Average CV Loss of 5 Runs : 2.3881543885823646\n"
     ]
    }
   ],
   "source": [
    "random_seeds=[9,18,42,86,103]\n",
    "model_list_1= noevents_average_nn_1(random_seeds)"
   ]
  },
  {
   "cell_type": "code",
   "execution_count": 39,
   "metadata": {},
   "outputs": [
    {
     "name": "stdout",
     "output_type": "stream",
     "text": [
      "Train Average Log-Loss:  2.350490308773346\n"
     ]
    }
   ],
   "source": [
    "avg_pred=np.zeros((xtr.shape[0],12))\n",
    "for i in range(len(model_list_1)):\n",
    "    train_pred=model_list_1[i].predict_proba(xtr)\n",
    "    avg_pred+=train_pred\n",
    "avg_pred/=len(model_list_1)\n",
    "print(\"Train Average Log-Loss: \",log_loss(ytr, avg_pred))"
   ]
  },
  {
   "cell_type": "code",
   "execution_count": 40,
   "metadata": {},
   "outputs": [
    {
     "name": "stdout",
     "output_type": "stream",
     "text": [
      "Validation Average Log-Loss:  2.3547159292952924\n"
     ]
    }
   ],
   "source": [
    "avg_pred=np.zeros((xcv.shape[0],12))\n",
    "for i in range(len(model_list_1)):\n",
    "    cv_pred=model_list_1[i].predict_proba(xcv)\n",
    "    avg_pred+=cv_pred\n",
    "avg_pred/=len(model_list_1)\n",
    "print(\"Validation Average Log-Loss: \",log_loss(ycv, avg_pred))"
   ]
  },
  {
   "cell_type": "code",
   "execution_count": 91,
   "metadata": {},
   "outputs": [],
   "source": [
    "avg_pred=np.zeros((xtest_noevents.shape[0],12))\n",
    "for i in range(len(model_list_1)):\n",
    "    test_pred=model_list_1[i].predict_proba(xtest_noevents)\n",
    "    avg_pred+=test_pred\n",
    "avg_pred/=len(model_list_1)"
   ]
  },
  {
   "cell_type": "code",
   "execution_count": 96,
   "metadata": {},
   "outputs": [],
   "source": [
    "np.save('results/nn1_noevents',avg_pred)"
   ]
  },
  {
   "cell_type": "markdown",
   "metadata": {},
   "source": [
    "#### Observations:"
   ]
  },
  {
   "cell_type": "markdown",
   "metadata": {},
   "source": [
    "1. The train and validation log-loss are 2.351 and 2.354 respectively\n",
    "2. the validation log-loss is better than the logistic regression model (section 7.1.2)"
   ]
  },
  {
   "cell_type": "markdown",
   "metadata": {},
   "source": [
    "### 7.1.4: Neural Network 2"
   ]
  },
  {
   "cell_type": "markdown",
   "metadata": {},
   "source": [
    "Model architecture from this [kaggle deiscuission forum](https://www.kaggle.com/c/talkingdata-mobile-user-demographics/discussion/23424)"
   ]
  },
  {
   "cell_type": "code",
   "execution_count": 100,
   "metadata": {},
   "outputs": [],
   "source": [
    "def noevents_nn_model2(input_dim,output_dim, learRate=0.0025):\n",
    "    \n",
    "    model = Sequential()\n",
    "    model.add(Dense(500, input_shape=(input_dim,), init='uniform'))\n",
    "    model.add(PReLU(init='zero'))\n",
    "    model.add(Dropout(0.82))\n",
    "    model.add(Dense(output_dim, init='uniform'))\n",
    "    model.add(Activation('softmax'))\n",
    "    opt = Adagrad(lr=learRate, epsilon=1e-08)\n",
    "    model.compile(loss='categorical_crossentropy',\n",
    "                  optimizer=opt,\n",
    "                  metrics=['accuracy'])\n",
    "    return model"
   ]
  },
  {
   "cell_type": "code",
   "execution_count": 101,
   "metadata": {},
   "outputs": [
    {
     "name": "stdout",
     "output_type": "stream",
     "text": [
      "_________________________________________________________________\n",
      "Layer (type)                 Output Shape              Param #   \n",
      "=================================================================\n",
      "dense_148 (Dense)            (None, 500)               10788500  \n",
      "_________________________________________________________________\n",
      "p_re_lu_106 (PReLU)          (None, 500)               500       \n",
      "_________________________________________________________________\n",
      "dropout_148 (Dropout)        (None, 500)               0         \n",
      "_________________________________________________________________\n",
      "dense_149 (Dense)            (None, 12)                6012      \n",
      "_________________________________________________________________\n",
      "activation_22 (Activation)   (None, 12)                0         \n",
      "=================================================================\n",
      "Total params: 10,795,012\n",
      "Trainable params: 10,795,012\n",
      "Non-trainable params: 0\n",
      "_________________________________________________________________\n"
     ]
    }
   ],
   "source": [
    "model_sum=noevents_nn_model2(xtr.shape[1],12)\n",
    "model_sum.summary()"
   ]
  },
  {
   "cell_type": "code",
   "execution_count": 110,
   "metadata": {},
   "outputs": [],
   "source": [
    "early_stop=EarlyStopping(monitor='val_loss',patience=5,restore_best_weights=True)"
   ]
  },
  {
   "cell_type": "markdown",
   "metadata": {},
   "source": [
    "A neural network ensmeble was utilised to get better results. Refer [this](https://machinelearningmastery.com/model-averaging-ensemble-for-deep-learning-neural-networks/) for more information"
   ]
  },
  {
   "cell_type": "code",
   "execution_count": 114,
   "metadata": {},
   "outputs": [],
   "source": [
    "def noevents_average_nn_2(state):\n",
    "    \"\"\"\n",
    "    Takes a list of Random Seeds, splits the data into Train and CV based on Seed, trains model and takes average of \n",
    "    predictions while testing  \n",
    "    \"\"\"\n",
    "    model_list=[]\n",
    "    loss_list=[]\n",
    "    avg_cv_loss=0\n",
    "    for i in range(len(state)):\n",
    "        xtr, xcv, ytr, ycv = train_test_split(Xtrain_whole, y,stratify=y,test_size=0.15,random_state=state[i])\n",
    "        ytr=np_utils.to_categorical(ytr)\n",
    "        ycv=np_utils.to_categorical(ycv)\n",
    "        model=noevents_nn_model2(xtr.shape[1],12)\n",
    "        #logdir = os.path.join(\"logs\",\"noevents_nn1.\"+str(i+1))\n",
    "        #t_callback=TensorBoard(log_dir=logdir)\n",
    "        model.fit(xtr, ytr, batch_size=256, epochs=30, verbose=1, validation_data=(xcv, ycv),callbacks=[early_stop])\n",
    "        pred=model.predict_proba(xcv)\n",
    "        cv_loss=log_loss(ycv, pred)\n",
    "        print(\"Validation Log Loss of  Model in Current Run: \",cv_loss)\n",
    "        model_list.append(model)\n",
    "        loss_list.append(cv_loss)\n",
    "    avg_cv_loss=mean(loss_list)\n",
    "    print(\"Average CV Loss of \"+str(len(state))+\" Runs :\",avg_cv_loss)\n",
    "    return(model_list)\n"
   ]
  },
  {
   "cell_type": "code",
   "execution_count": 115,
   "metadata": {
    "scrolled": true
   },
   "outputs": [
    {
     "name": "stderr",
     "output_type": "stream",
     "text": [
      "S:\\ana\\lib\\site-packages\\ipykernel_launcher.py:4: UserWarning: Update your `Dense` call to the Keras 2 API: `Dense(500, input_shape=(1798,), kernel_initializer=\"uniform\")`\n",
      "  after removing the cwd from sys.path.\n",
      "S:\\ana\\lib\\site-packages\\ipykernel_launcher.py:5: UserWarning: Update your `PReLU` call to the Keras 2 API: `PReLU(alpha_initializer=\"zero\")`\n",
      "  \"\"\"\n",
      "S:\\ana\\lib\\site-packages\\ipykernel_launcher.py:7: UserWarning: Update your `Dense` call to the Keras 2 API: `Dense(12, kernel_initializer=\"uniform\")`\n",
      "  import sys\n"
     ]
    },
    {
     "name": "stdout",
     "output_type": "stream",
     "text": [
      "Train on 63448 samples, validate on 11197 samples\n",
      "Epoch 1/30\n",
      "63448/63448 [==============================] - 6s 88us/step - loss: 2.4321 - acc: 0.1346 - val_loss: 2.4171 - val_acc: 0.1389\n",
      "Epoch 2/30\n",
      "63448/63448 [==============================] - 5s 75us/step - loss: 2.4143 - acc: 0.1431 - val_loss: 2.4116 - val_acc: 0.1415\n",
      "Epoch 3/30\n",
      "63448/63448 [==============================] - 5s 76us/step - loss: 2.4093 - acc: 0.1446 - val_loss: 2.4083 - val_acc: 0.1444\n",
      "Epoch 4/30\n",
      "63448/63448 [==============================] - 5s 76us/step - loss: 2.4059 - acc: 0.1455 - val_loss: 2.4060 - val_acc: 0.1458\n",
      "Epoch 5/30\n",
      "63448/63448 [==============================] - 6s 95us/step - loss: 2.4028 - acc: 0.1503 - val_loss: 2.4043 - val_acc: 0.1456\n",
      "Epoch 6/30\n",
      "63448/63448 [==============================] - 5s 85us/step - loss: 2.4012 - acc: 0.1488 - val_loss: 2.4031 - val_acc: 0.1475\n",
      "Epoch 7/30\n",
      "63448/63448 [==============================] - 5s 79us/step - loss: 2.3981 - acc: 0.1510 - val_loss: 2.4020 - val_acc: 0.1470\n",
      "Epoch 8/30\n",
      "63448/63448 [==============================] - 5s 80us/step - loss: 2.3970 - acc: 0.1514 - val_loss: 2.4012 - val_acc: 0.1475\n",
      "Epoch 9/30\n",
      "63448/63448 [==============================] - 5s 81us/step - loss: 2.3970 - acc: 0.1513 - val_loss: 2.4005 - val_acc: 0.1492: 3s - loss: 2.3986 - a - ETA: 2s - loss: 2.3984 - acc: 0 - ETA: 2s - loss: 2.3976 - acc:  \n",
      "Epoch 10/30\n",
      "63448/63448 [==============================] - 5s 81us/step - loss: 2.3947 - acc: 0.1530 - val_loss: 2.3998 - val_acc: 0.1522.3922 - acc: - ETA: 2s - loss: 2.3931 - acc: 0.1 - - ETA: 0s - loss: 2.3937 - a\n",
      "Epoch 11/30\n",
      "63448/63448 [==============================] - 5s 80us/step - loss: 2.3935 - acc: 0.1541 - val_loss: 2.3993 - val_acc: 0.1525\n",
      "Epoch 12/30\n",
      "63448/63448 [==============================] - 5s 78us/step - loss: 2.3926 - acc: 0.1550 - val_loss: 2.3988 - val_acc: 0.1517A: 1s - lo\n",
      "Epoch 13/30\n",
      "63448/63448 [==============================] - 5s 78us/step - loss: 2.3923 - acc: 0.1557 - val_loss: 2.3983 - val_acc: 0.1524\n",
      "Epoch 14/30\n",
      "63448/63448 [==============================] - 5s 77us/step - loss: 2.3917 - acc: 0.1565 - val_loss: 2.3979 - val_acc: 0.1533\n",
      "Epoch 15/30\n",
      "63448/63448 [==============================] - 5s 78us/step - loss: 2.3903 - acc: 0.1570 - val_loss: 2.3976 - val_acc: 0.1521: 2.3 - ETA: 0s - loss: 2.3904\n",
      "Epoch 16/30\n",
      "63448/63448 [==============================] - 5s 78us/step - loss: 2.3890 - acc: 0.1575 - val_loss: 2.3973 - val_acc: 0.1525 loss: 2.3890 - acc: 0.1 - ETA: 2s - loss: 2.3890 - acc - ETA: 1s - loss: 2.3888 - acc: 0.157 - ETA: 1s - loss: 2.3887 - acc: 0.1 - ETA: 1s - \n",
      "Epoch 17/30\n",
      "63448/63448 [==============================] - 5s 77us/step - loss: 2.3886 - acc: 0.1582 - val_loss: 2.3970 - val_acc: 0.1533.3866 - acc: 0.164 - ETA: 3s - loss: 2.3865  - ETA: 2s - loss: 2.38 - ETA: 1s \n",
      "Epoch 18/30\n",
      "63448/63448 [==============================] - 5s 77us/step - loss: 2.3877 - acc: 0.1601 - val_loss: 2.3966 - val_acc: 0.1534\n",
      "Epoch 19/30\n",
      "63448/63448 [==============================] - 5s 77us/step - loss: 2.3875 - acc: 0.1598 - val_loss: 2.3964 - val_acc: 0.1533A: 2s - loss: 2.3886 - acc: 0 - ETA: 2s - loss: 2.3870 - a - ETA: 1s - loss: 2.3853 - acc: 0. - ETA: 1s - loss - ETA: 0s - loss: 2.3874 - acc: \n",
      "Epoch 20/30\n",
      "63448/63448 [==============================] - 5s 77us/step - loss: 2.3866 - acc: 0.1581 - val_loss: 2.3961 - val_acc: 0.1532A: 3s -  - ETA: 1s - loss: 2. - ETA: 0s - loss: 2.3875 - acc:  - ETA: 0s - loss: 2.3870 - acc: 0.157 - ETA: 0s - loss: 2.3868 - acc:\n",
      "Epoch 21/30\n",
      "63448/63448 [==============================] - 5s 78us/step - loss: 2.3854 - acc: 0.1595 - val_loss: 2.3958 - val_acc: 0.1529\n",
      "Epoch 22/30\n",
      "63448/63448 [==============================] - 5s 78us/step - loss: 2.3854 - acc: 0.1606 - val_loss: 2.3956 - val_acc: 0.1535\n",
      "Epoch 23/30\n",
      "63448/63448 [==============================] - 5s 78us/step - loss: 2.3853 - acc: 0.1608 - val_loss: 2.3954 - val_acc: 0.1541\n",
      "Epoch 24/30\n",
      "63448/63448 [==============================] - 5s 77us/step - loss: 2.3843 - acc: 0.1604 - val_loss: 2.3952 - val_acc: 0.1549\n",
      "Epoch 25/30\n",
      "63448/63448 [==============================] - 5s 77us/step - loss: 2.3841 - acc: 0.1609 - val_loss: 2.3950 - val_acc: 0.1546\n",
      "Epoch 26/30\n",
      "63448/63448 [==============================] - 5s 78us/step - loss: 2.3840 - acc: 0.1629 - val_loss: 2.3948 - val_acc: 0.1550\n",
      "Epoch 27/30\n",
      "63448/63448 [==============================] - 5s 78us/step - loss: 2.3822 - acc: 0.1617 - val_loss: 2.3946 - val_acc: 0.1543\n",
      "Epoch 28/30\n",
      "63448/63448 [==============================] - 5s 78us/step - loss: 2.3820 - acc: 0.1621 - val_loss: 2.3944 - val_acc: 0.1543loss: 2.3802 - acc:\n",
      "Epoch 29/30\n",
      "63448/63448 [==============================] - 5s 78us/step - loss: 2.3817 - acc: 0.1640 - val_loss: 2.3942 - val_acc: 0.15480.1\n",
      "Epoch 30/30\n",
      "63448/63448 [==============================] - 5s 78us/step - loss: 2.3814 - acc: 0.1625 - val_loss: 2.3940 - val_acc: 0.1549\n",
      "Validation Log Loss of  Model in Current Run:  2.3940425469660913\n"
     ]
    },
    {
     "name": "stderr",
     "output_type": "stream",
     "text": [
      "S:\\ana\\lib\\site-packages\\ipykernel_launcher.py:4: UserWarning: Update your `Dense` call to the Keras 2 API: `Dense(500, input_shape=(1798,), kernel_initializer=\"uniform\")`\n",
      "  after removing the cwd from sys.path.\n",
      "S:\\ana\\lib\\site-packages\\ipykernel_launcher.py:5: UserWarning: Update your `PReLU` call to the Keras 2 API: `PReLU(alpha_initializer=\"zero\")`\n",
      "  \"\"\"\n",
      "S:\\ana\\lib\\site-packages\\ipykernel_launcher.py:7: UserWarning: Update your `Dense` call to the Keras 2 API: `Dense(12, kernel_initializer=\"uniform\")`\n",
      "  import sys\n"
     ]
    },
    {
     "name": "stdout",
     "output_type": "stream",
     "text": [
      "Train on 63448 samples, validate on 11197 samples\n",
      "Epoch 1/30\n",
      "63448/63448 [==============================] - 6s 90us/step - loss: 2.4333 - acc: 0.1327 - val_loss: 2.4172 - val_acc: 0.1464\n",
      "Epoch 2/30\n",
      "63448/63448 [==============================] - 5s 80us/step - loss: 2.4157 - acc: 0.1427 - val_loss: 2.4113 - val_acc: 0.1473A: 1s - loss: 2.4171 - acc: - ETA: 1s - loss: 2.4170 - acc: 0.14 - ETA: 1s - loss: 2.4166 - acc: 0. - ETA: 1s - loss: 2.4163 - a - ETA: 0s - loss: 2.4158 - acc:\n",
      "Epoch 3/30\n",
      "63448/63448 [==============================] - 5s 77us/step - loss: 2.4103 - acc: 0.1454 - val_loss: 2.4075 - val_acc: 0.1471: 0s - loss: 2.4112 - acc\n",
      "Epoch 4/30\n",
      "63448/63448 [==============================] - 5s 77us/step - loss: 2.4066 - acc: 0.1467 - val_loss: 2.4049 - val_acc: 0.145659 - acc: 0.14 - ETA: 2s - loss: 2.4063 - ac - ETA: 1s\n",
      "Epoch 5/30\n",
      "63448/63448 [==============================] - 5s 77us/step - loss: 2.4043 - acc: 0.1472 - val_loss: 2.4029 - val_acc: 0.1464044 - acc: 0 - ETA: 0s - loss: 2.4048 - ac\n",
      "Epoch 6/30\n",
      "63448/63448 [==============================] - 5s 77us/step - loss: 2.4017 - acc: 0.1488 - val_loss: 2.4013 - val_acc: 0.1462: 2.4031 - - ETA: 0s - loss: 2.4023 - acc: 0.148 - ETA: 0s - loss: 2.4023 -\n",
      "Epoch 7/30\n",
      "63448/63448 [==============================] - 5s 77us/step - loss: 2.4003 - acc: 0.1487 - val_loss: 2.4001 - val_acc: 0.1511\n",
      "Epoch 8/30\n",
      "63448/63448 [==============================] - 5s 76us/step - loss: 2.3984 - acc: 0.1516 - val_loss: 2.3990 - val_acc: 0.1518\n",
      "Epoch 9/30\n",
      "63448/63448 [==============================] - 5s 77us/step - loss: 2.3970 - acc: 0.1509 - val_loss: 2.3981 - val_acc: 0.1540\n",
      "Epoch 10/30\n",
      "63448/63448 [==============================] - 5s 76us/step - loss: 2.3954 - acc: 0.1537 - val_loss: 2.3973 - val_acc: 0.1557\n",
      "Epoch 11/30\n",
      "63448/63448 [==============================] - 5s 81us/step - loss: 2.3947 - acc: 0.1539 - val_loss: 2.3967 - val_acc: 0.1550\n",
      "Epoch 12/30\n",
      "63448/63448 [==============================] - 5s 80us/step - loss: 2.3930 - acc: 0.1562 - val_loss: 2.3961 - val_acc: 0.1549\n",
      "Epoch 13/30\n",
      "63448/63448 [==============================] - 5s 77us/step - loss: 2.3936 - acc: 0.1552 - val_loss: 2.3956 - val_acc: 0.1555\n",
      "Epoch 14/30\n",
      "63448/63448 [==============================] - 5s 77us/step - loss: 2.3909 - acc: 0.1586 - val_loss: 2.3951 - val_acc: 0.1557\n",
      "Epoch 15/30\n",
      "63448/63448 [==============================] - 5s 77us/step - loss: 2.3900 - acc: 0.1557 - val_loss: 2.3946 - val_acc: 0.1541\n",
      "Epoch 16/30\n",
      "63448/63448 [==============================] - 5s 77us/step - loss: 2.3903 - acc: 0.1580 - val_loss: 2.3942 - val_acc: 0.1547\n",
      "Epoch 17/30\n",
      "63448/63448 [==============================] - 5s 77us/step - loss: 2.3890 - acc: 0.1585 - val_loss: 2.3939 - val_acc: 0.1550\n",
      "Epoch 18/30\n",
      "63448/63448 [==============================] - 5s 77us/step - loss: 2.3887 - acc: 0.1583 - val_loss: 2.3935 - val_acc: 0.1550ETA: 0s - loss: 2.3889 - acc: 0.15\n",
      "Epoch 19/30\n",
      "63448/63448 [==============================] - 5s 77us/step - loss: 2.3878 - acc: 0.1594 - val_loss: 2.3932 - val_acc: 0.1547s - loss: 2.3876 - acc:\n",
      "Epoch 20/30\n",
      "63448/63448 [==============================] - 5s 76us/step - loss: 2.3874 - acc: 0.1596 - val_loss: 2.3929 - val_acc: 0.1549\n",
      "Epoch 21/30\n",
      "63448/63448 [==============================] - 5s 77us/step - loss: 2.3869 - acc: 0.1598 - val_loss: 2.3926 - val_acc: 0.1562\n",
      "Epoch 22/30\n",
      "63448/63448 [==============================] - 5s 77us/step - loss: 2.3858 - acc: 0.1603 - val_loss: 2.3923 - val_acc: 0.1562\n",
      "Epoch 23/30\n",
      "63448/63448 [==============================] - 5s 76us/step - loss: 2.3856 - acc: 0.1611 - val_loss: 2.3921 - val_acc: 0.156438 - ETA: 1s - loss: 2.3855 - acc: 0.162 - ETA: 1s\n",
      "Epoch 24/30\n",
      "63448/63448 [==============================] - 5s 77us/step - loss: 2.3844 - acc: 0.1616 - val_loss: 2.3918 - val_acc: 0.1566\n",
      "Epoch 25/30\n",
      "63448/63448 [==============================] - 5s 76us/step - loss: 2.3841 - acc: 0.1620 - val_loss: 2.3916 - val_acc: 0.1560\n",
      "Epoch 26/30\n",
      "63448/63448 [==============================] - 5s 76us/step - loss: 2.3836 - acc: 0.1625 - val_loss: 2.3914 - val_acc: 0.1561\n",
      "Epoch 27/30\n",
      "63448/63448 [==============================] - 5s 76us/step - loss: 2.3824 - acc: 0.1627 - val_loss: 2.3912 - val_acc: 0.1564oss: 2.3825 - a\n",
      "Epoch 28/30\n",
      "63448/63448 [==============================] - 5s 77us/step - loss: 2.3821 - acc: 0.1626 - val_loss: 2.3910 - val_acc: 0.1569\n",
      "Epoch 29/30\n",
      "63448/63448 [==============================] - 5s 77us/step - loss: 2.3824 - acc: 0.1618 - val_loss: 2.3908 - val_acc: 0.1571\n",
      "Epoch 30/30\n",
      "63448/63448 [==============================] - 5s 77us/step - loss: 2.3818 - acc: 0.1629 - val_loss: 2.3906 - val_acc: 0.1577 - loss: 2.3848 - ac - ETA: 2s - loss: 2.3833 - acc:  - ETA: 2s - loss:  - ETA: 0s - loss: 2.3\n",
      "Validation Log Loss of  Model in Current Run:  2.390630612503666\n"
     ]
    },
    {
     "name": "stderr",
     "output_type": "stream",
     "text": [
      "S:\\ana\\lib\\site-packages\\ipykernel_launcher.py:4: UserWarning: Update your `Dense` call to the Keras 2 API: `Dense(500, input_shape=(1798,), kernel_initializer=\"uniform\")`\n",
      "  after removing the cwd from sys.path.\n",
      "S:\\ana\\lib\\site-packages\\ipykernel_launcher.py:5: UserWarning: Update your `PReLU` call to the Keras 2 API: `PReLU(alpha_initializer=\"zero\")`\n",
      "  \"\"\"\n",
      "S:\\ana\\lib\\site-packages\\ipykernel_launcher.py:7: UserWarning: Update your `Dense` call to the Keras 2 API: `Dense(12, kernel_initializer=\"uniform\")`\n",
      "  import sys\n"
     ]
    },
    {
     "name": "stdout",
     "output_type": "stream",
     "text": [
      "Train on 63448 samples, validate on 11197 samples\n",
      "Epoch 1/30\n",
      "63448/63448 [==============================] - 6s 92us/step - loss: 2.4316 - acc: 0.1359 - val_loss: 2.4154 - val_acc: 0.1414\n",
      "Epoch 2/30\n",
      "63448/63448 [==============================] - 5s 81us/step - loss: 2.4146 - acc: 0.1430 - val_loss: 2.4094 - val_acc: 0.1421\n",
      "Epoch 3/30\n",
      "63448/63448 [==============================] - 5s 76us/step - loss: 2.4095 - acc: 0.1459 - val_loss: 2.4057 - val_acc: 0.1452\n",
      "Epoch 4/30\n",
      "63448/63448 [==============================] - 5s 77us/step - loss: 2.4064 - acc: 0.1458 - val_loss: 2.4032 - val_acc: 0.1462\n",
      "Epoch 5/30\n",
      "63448/63448 [==============================] - 5s 78us/step - loss: 2.4033 - acc: 0.1482 - val_loss: 2.4011 - val_acc: 0.1464oss: 2.4039 - - ETA: 2s - loss: 2.4047 - - ETA: 1s - lo - ETA: 0s - loss: 2.4039 - a\n",
      "Epoch 6/30\n",
      "63448/63448 [==============================] - 5s 77us/step - loss: 2.4011 - acc: 0.1482 - val_loss: 2.3995 - val_acc: 0.1470\n",
      "Epoch 7/30\n",
      "63448/63448 [==============================] - 5s 77us/step - loss: 2.3999 - acc: 0.1495 - val_loss: 2.3982 - val_acc: 0.1491\n",
      "Epoch 8/30\n",
      "63448/63448 [==============================] - 5s 76us/step - loss: 2.3988 - acc: 0.1508 - val_loss: 2.3972 - val_acc: 0.1481oss: 2.397 - ETA: 0s - loss: 2.3982 - acc: 0.150 - ETA: 0s - loss: 2.3983 - ac\n",
      "Epoch 9/30\n",
      "63448/63448 [==============================] - 5s 77us/step - loss: 2.3969 - acc: 0.1540 - val_loss: 2.3963 - val_acc: 0.1498\n",
      "Epoch 10/30\n",
      "63448/63448 [==============================] - 5s 76us/step - loss: 2.3961 - acc: 0.1525 - val_loss: 2.3955 - val_acc: 0.1504\n",
      "Epoch 11/30\n",
      "63448/63448 [==============================] - 5s 78us/step - loss: 2.3948 - acc: 0.1527 - val_loss: 2.3948 - val_acc: 0.1496\n",
      "Epoch 12/30\n",
      "63448/63448 [==============================] - 5s 78us/step - loss: 2.3939 - acc: 0.1536 - val_loss: 2.3942 - val_acc: 0.1517A: 3s - loss: 2.3923 - - ETA: 3s - loss: 2.3950 - acc: 0.152 - ETA: 3s - loss: 2.3950  - - ETA: 0s - loss: 2.3934 - acc: 0 - ETA: 0s - loss: 2.3940 - acc: 0.15\n",
      "Epoch 13/30\n",
      "63448/63448 [==============================] - 5s 79us/step - loss: 2.3921 - acc: 0.1545 - val_loss: 2.3936 - val_acc: 0.1535.3880 - acc: 0.154 - ETA: 3s - loss: 2.3882 - acc: 0.154 - ETA:  - ETA: 1s - loss: 2.3906 - acc: 0.155 - ETA: 1s - loss: 2.3905 - ac - ETA: 0s - loss: 2.3908 - \n",
      "Epoch 14/30\n",
      "63448/63448 [==============================] - 5s 77us/step - loss: 2.3910 - acc: 0.1568 - val_loss: 2.3931 - val_acc: 0.1545\n",
      "Epoch 15/30\n",
      "63448/63448 [==============================] - 5s 79us/step - loss: 2.3915 - acc: 0.1551 - val_loss: 2.3926 - val_acc: 0.1553921 - acc: 0.156 - ETA: 1s - loss: 2.3922 - a - ETA: 0s - loss: 2.3923 - a - ETA: 0s - loss: 2.3919 - acc: 0.1\n",
      "Epoch 16/30\n",
      "63448/63448 [==============================] - 5s 77us/step - loss: 2.3911 - acc: 0.1583 - val_loss: 2.3922 - val_acc: 0.1546 1s - loss: 2.3912 - acc - ETA: 0s - loss: 2.391\n",
      "Epoch 17/30\n",
      "63448/63448 [==============================] - 5s 78us/step - loss: 2.3898 - acc: 0.1584 - val_loss: 2.3918 - val_acc: 0.1549: 2s - loss: 2.3914 - a - ETA: 2s - loss: 2.3903 - ac - ETA: 1s - loss: 2.3895 - ETA: 0s - loss: 2.3905\n",
      "Epoch 18/30\n",
      "63448/63448 [==============================] - 5s 77us/step - loss: 2.3891 - acc: 0.1592 - val_loss: 2.3914 - val_acc: 0.1553\n",
      "Epoch 19/30\n",
      "63448/63448 [==============================] - 5s 77us/step - loss: 2.3883 - acc: 0.1602 - val_loss: 2.3911 - val_acc: 0.1560\n",
      "Epoch 20/30\n",
      "63448/63448 [==============================] - 5s 77us/step - loss: 2.3877 - acc: 0.1583 - val_loss: 2.3908 - val_acc: 0.1563\n",
      "Epoch 21/30\n",
      "63448/63448 [==============================] - 5s 78us/step - loss: 2.3872 - acc: 0.1606 - val_loss: 2.3905 - val_acc: 0.1561\n",
      "Epoch 22/30\n",
      "63448/63448 [==============================] - 5s 77us/step - loss: 2.3864 - acc: 0.1595 - val_loss: 2.3902 - val_acc: 0.1564: 1s - \n",
      "Epoch 23/30\n",
      "63448/63448 [==============================] - 5s 77us/step - loss: 2.3865 - acc: 0.1611 - val_loss: 2.3899 - val_acc: 0.1559\n",
      "Epoch 24/30\n",
      "63448/63448 [==============================] - 5s 77us/step - loss: 2.3862 - acc: 0.1600 - val_loss: 2.3896 - val_acc: 0.1556  - ETA: 0s - loss: 2.3869 - ac\n",
      "Epoch 25/30\n",
      "63448/63448 [==============================] - 5s 76us/step - loss: 2.3842 - acc: 0.1604 - val_loss: 2.3894 - val_acc: 0.1566\n",
      "Epoch 26/30\n",
      "63448/63448 [==============================] - 5s 77us/step - loss: 2.3846 - acc: 0.1616 - val_loss: 2.3891 - val_acc: 0.1564\n",
      "Epoch 27/30\n",
      "63448/63448 [==============================] - 5s 77us/step - loss: 2.3842 - acc: 0.1627 - val_loss: 2.3889 - val_acc: 0.1556\n",
      "Epoch 28/30\n",
      "63448/63448 [==============================] - 5s 77us/step - loss: 2.3835 - acc: 0.1603 - val_loss: 2.3887 - val_acc: 0.1558- loss: 2.\n",
      "Epoch 29/30\n",
      "63448/63448 [==============================] - 5s 76us/step - loss: 2.3834 - acc: 0.1626 - val_loss: 2.3885 - val_acc: 0.1556\n",
      "Epoch 30/30\n",
      "63448/63448 [==============================] - 5s 76us/step - loss: 2.3830 - acc: 0.1627 - val_loss: 2.3883 - val_acc: 0.1571\n",
      "Validation Log Loss of  Model in Current Run:  2.3882841792310616\n"
     ]
    },
    {
     "name": "stderr",
     "output_type": "stream",
     "text": [
      "S:\\ana\\lib\\site-packages\\ipykernel_launcher.py:4: UserWarning: Update your `Dense` call to the Keras 2 API: `Dense(500, input_shape=(1798,), kernel_initializer=\"uniform\")`\n",
      "  after removing the cwd from sys.path.\n",
      "S:\\ana\\lib\\site-packages\\ipykernel_launcher.py:5: UserWarning: Update your `PReLU` call to the Keras 2 API: `PReLU(alpha_initializer=\"zero\")`\n",
      "  \"\"\"\n",
      "S:\\ana\\lib\\site-packages\\ipykernel_launcher.py:7: UserWarning: Update your `Dense` call to the Keras 2 API: `Dense(12, kernel_initializer=\"uniform\")`\n",
      "  import sys\n"
     ]
    },
    {
     "name": "stdout",
     "output_type": "stream",
     "text": [
      "Train on 63448 samples, validate on 11197 samples\n",
      "Epoch 1/30\n",
      "63448/63448 [==============================] - 6s 94us/step - loss: 2.4318 - acc: 0.1363 - val_loss: 2.4160 - val_acc: 0.1431\n",
      "Epoch 2/30\n",
      "63448/63448 [==============================] - 5s 81us/step - loss: 2.4151 - acc: 0.1439 - val_loss: 2.4100 - val_acc: 0.14382s - loss: 2.4148 - acc: 0.145 - ETA: 2s - loss: 2.4145 - acc: 0.14 - ETA: 2s - loss: 2. - ETA: 1s - loss: 2\n",
      "Epoch 3/30\n",
      "63448/63448 [==============================] - 5s 78us/step - loss: 2.4099 - acc: 0.1438 - val_loss: 2.4061 - val_acc: 0.1445\n",
      "Epoch 4/30\n",
      "63448/63448 [==============================] - 5s 78us/step - loss: 2.4061 - acc: 0.1478 - val_loss: 2.4035 - val_acc: 0.1471\n",
      "Epoch 5/30\n",
      "63448/63448 [==============================] - 5s 78us/step - loss: 2.4033 - acc: 0.1472 - val_loss: 2.4015 - val_acc: 0.1492\n",
      "Epoch 6/30\n",
      "63448/63448 [==============================] - 5s 78us/step - loss: 2.4012 - acc: 0.1487 - val_loss: 2.3999 - val_acc: 0.1493ss: 2.4008 -  - ETA: 0s - loss: 2.4009 - acc: 0.148\n",
      "Epoch 7/30\n",
      "63448/63448 [==============================] - 5s 78us/step - loss: 2.3999 - acc: 0.1505 - val_loss: 2.3986 - val_acc: 0.1512\n",
      "Epoch 8/30\n",
      "63448/63448 [==============================] - 5s 78us/step - loss: 2.3981 - acc: 0.1508 - val_loss: 2.3976 - val_acc: 0.1534s - loss: 2.4017 -  - ETA: 2s - loss: 2.4008 - a - ETA: 1s - loss: 2.3993 - acc - ETA: 1s - loss: 2.3996 - acc: 0.150 - ETA: 1s - loss: 2.3999 - acc: - ETA: 0s - loss: 2.3996 - acc: 0.150 - ETA: 0s - loss: 2.3993 - \n",
      "Epoch 9/30\n",
      "63448/63448 [==============================] - 5s 78us/step - loss: 2.3973 - acc: 0.1516 - val_loss: 2.3967 - val_acc: 0.1550\n",
      "Epoch 10/30\n",
      "63448/63448 [==============================] - 5s 78us/step - loss: 2.3955 - acc: 0.1541 - val_loss: 2.3960 - val_acc: 0.15550s - loss: 2.3952 -\n",
      "Epoch 11/30\n",
      "63448/63448 [==============================] - 5s 78us/step - loss: 2.3952 - acc: 0.1552 - val_loss: 2.3953 - val_acc: 0.15721s - loss: 2.3976 - a - ETA: 1s - loss\n",
      "Epoch 12/30\n",
      "63448/63448 [==============================] - 5s 78us/step - loss: 2.3935 - acc: 0.1546 - val_loss: 2.3947 - val_acc: 0.1571ss: 2.3930 - acc\n",
      "Epoch 13/30\n",
      "63448/63448 [==============================] - 5s 77us/step - loss: 2.3918 - acc: 0.1568 - val_loss: 2.3942 - val_acc: 0.1575\n",
      "Epoch 14/30\n",
      "63448/63448 [==============================] - 5s 76us/step - loss: 2.3917 - acc: 0.1556 - val_loss: 2.3937 - val_acc: 0.1583\n",
      "Epoch 15/30\n",
      "63448/63448 [==============================] - 5s 77us/step - loss: 2.3905 - acc: 0.1568 - val_loss: 2.3933 - val_acc: 0.15863927 - acc: 0.156 - ETA: 2s - l - ETA: 0s - loss: 2.390\n",
      "Epoch 16/30\n",
      "63448/63448 [==============================] - 5s 77us/step - loss: 2.3909 - acc: 0.1558 - val_loss: 2.3929 - val_acc: 0.1588\n",
      "Epoch 17/30\n",
      "63448/63448 [==============================] - 5s 77us/step - loss: 2.3897 - acc: 0.1573 - val_loss: 2.3926 - val_acc: 0.1607\n",
      "Epoch 18/30\n",
      "63448/63448 [==============================] - 5s 77us/step - loss: 2.3895 - acc: 0.1593 - val_loss: 2.3922 - val_acc: 0.1599\n",
      "Epoch 19/30\n",
      "63448/63448 [==============================] - 5s 76us/step - loss: 2.3884 - acc: 0.1589 - val_loss: 2.3919 - val_acc: 0.1608\n",
      "Epoch 20/30\n",
      "63448/63448 [==============================] - 5s 76us/step - loss: 2.3876 - acc: 0.1593 - val_loss: 2.3917 - val_acc: 0.1622\n",
      "Epoch 21/30\n",
      "63448/63448 [==============================] - 5s 77us/step - loss: 2.3871 - acc: 0.1591 - val_loss: 2.3914 - val_acc: 0.1618 - loss: 2.3871 \n",
      "Epoch 22/30\n",
      "63448/63448 [==============================] - 5s 78us/step - loss: 2.3852 - acc: 0.1591 - val_loss: 2.3911 - val_acc: 0.1619\n",
      "Epoch 23/30\n",
      "63448/63448 [==============================] - 5s 77us/step - loss: 2.3857 - acc: 0.1593 - val_loss: 2.3909 - val_acc: 0.1616\n",
      "Epoch 24/30\n",
      "63448/63448 [==============================] - 5s 77us/step - loss: 2.3855 - acc: 0.1598 - val_loss: 2.3906 - val_acc: 0.1611 ETA: 1\n",
      "Epoch 25/30\n",
      "63448/63448 [==============================] - 5s 77us/step - loss: 2.3844 - acc: 0.1616 - val_loss: 2.3904 - val_acc: 0.1617\n",
      "Epoch 26/30\n",
      "63448/63448 [==============================] - 5s 77us/step - loss: 2.3844 - acc: 0.1601 - val_loss: 2.3902 - val_acc: 0.1617\n",
      "Epoch 27/30\n",
      "63448/63448 [==============================] - 5s 77us/step - loss: 2.3826 - acc: 0.1615 - val_loss: 2.3900 - val_acc: 0.1612\n",
      "Epoch 28/30\n",
      "63448/63448 [==============================] - 5s 80us/step - loss: 2.3832 - acc: 0.1634 - val_loss: 2.3899 - val_acc: 0.1619 - ETA: 1s - loss: 2.3833 - acc: 0.16 - ETA: 0s - loss: 2.3828 - acc: 0.164 - ETA: 0s - loss: 2.383\n",
      "Epoch 29/30\n",
      "63448/63448 [==============================] - 5s 78us/step - loss: 2.3825 - acc: 0.1608 - val_loss: 2.3897 - val_acc: 0.1617\n",
      "Epoch 30/30\n",
      "63448/63448 [==============================] - 5s 77us/step - loss: 2.3820 - acc: 0.1630 - val_loss: 2.3895 - val_acc: 0.1617s: 2.3806 - ac - ETA: 0s - loss: 2.3819 \n",
      "Validation Log Loss of  Model in Current Run:  2.389530074099212\n"
     ]
    },
    {
     "name": "stderr",
     "output_type": "stream",
     "text": [
      "S:\\ana\\lib\\site-packages\\ipykernel_launcher.py:4: UserWarning: Update your `Dense` call to the Keras 2 API: `Dense(500, input_shape=(1798,), kernel_initializer=\"uniform\")`\n",
      "  after removing the cwd from sys.path.\n",
      "S:\\ana\\lib\\site-packages\\ipykernel_launcher.py:5: UserWarning: Update your `PReLU` call to the Keras 2 API: `PReLU(alpha_initializer=\"zero\")`\n",
      "  \"\"\"\n",
      "S:\\ana\\lib\\site-packages\\ipykernel_launcher.py:7: UserWarning: Update your `Dense` call to the Keras 2 API: `Dense(12, kernel_initializer=\"uniform\")`\n",
      "  import sys\n"
     ]
    },
    {
     "name": "stdout",
     "output_type": "stream",
     "text": [
      "Train on 63448 samples, validate on 11197 samples\n",
      "Epoch 1/30\n",
      "63448/63448 [==============================] - 6s 94us/step - loss: 2.4321 - acc: 0.1352 - val_loss: 2.4167 - val_acc: 0.1408\n",
      "Epoch 2/30\n",
      "63448/63448 [==============================] - 5s 79us/step - loss: 2.4144 - acc: 0.1441 - val_loss: 2.4107 - val_acc: 0.1424\n",
      "Epoch 3/30\n",
      "63448/63448 [==============================] - 5s 78us/step - loss: 2.4093 - acc: 0.1462 - val_loss: 2.4072 - val_acc: 0.1424\n",
      "Epoch 4/30\n",
      "63448/63448 [==============================] - 5s 77us/step - loss: 2.4058 - acc: 0.1467 - val_loss: 2.4048 - val_acc: 0.1419\n",
      "Epoch 5/30\n",
      "63448/63448 [==============================] - 5s 78us/step - loss: 2.4024 - acc: 0.1473 - val_loss: 2.4031 - val_acc: 0.1432\n",
      "Epoch 6/30\n",
      "63448/63448 [==============================] - 5s 81us/step - loss: 2.4008 - acc: 0.1482 - val_loss: 2.4017 - val_acc: 0.1433oss: 2.3971 - - ETA: 2s - loss: 2.3975 - ac - E - ETA: 0s - loss: 2.4004 - acc: 0.14 - ETA: 0s - loss: 2.4003 - acc: 0. - ETA: 0s - loss: 2.4008 - acc: 0.148\n",
      "Epoch 7/30\n",
      "63448/63448 [==============================] - 5s 78us/step - loss: 2.3988 - acc: 0.1506 - val_loss: 2.4006 - val_acc: 0.1442\n",
      "Epoch 8/30\n",
      "63448/63448 [==============================] - 5s 78us/step - loss: 2.3971 - acc: 0.1509 - val_loss: 2.3997 - val_acc: 0.1458\n",
      "Epoch 9/30\n",
      "63448/63448 [==============================] - 5s 78us/step - loss: 2.3962 - acc: 0.1517 - val_loss: 2.3989 - val_acc: 0.1473\n",
      "Epoch 10/30\n",
      "63448/63448 [==============================] - 5s 79us/step - loss: 2.3952 - acc: 0.1542 - val_loss: 2.3982 - val_acc: 0.1487 1s  - ETA: 0s - loss: 2.3951 - acc: 0.154\n",
      "Epoch 11/30\n",
      "63448/63448 [==============================] - 5s 79us/step - loss: 2.3943 - acc: 0.1526 - val_loss: 2.3976 - val_acc: 0.149239 - ETA: 0s - loss: 2.3935\n",
      "Epoch 12/30\n",
      "63448/63448 [==============================] - 5s 79us/step - loss: 2.3932 - acc: 0.1547 - val_loss: 2.3971 - val_acc: 0.1501.3937 - acc: 0.154 - ET - ETA: 1s - lo\n",
      "Epoch 13/30\n",
      "63448/63448 [==============================] - 5s 78us/step - loss: 2.3925 - acc: 0.1556 - val_loss: 2.3967 - val_acc: 0.1505loss: 2.3922 - acc: 0.155 - ETA: 0s - loss: 2.3921 \n",
      "Epoch 14/30\n",
      "63448/63448 [==============================] - 5s 78us/step - loss: 2.3908 - acc: 0.1565 - val_loss: 2.3962 - val_acc: 0.1504\n",
      "Epoch 15/30\n",
      "63448/63448 [==============================] - 5s 78us/step - loss: 2.3904 - acc: 0.1582 - val_loss: 2.3958 - val_acc: 0.1514\n",
      "Epoch 16/30\n",
      "63448/63448 [==============================] - 5s 77us/step - loss: 2.3897 - acc: 0.1577 - val_loss: 2.3955 - val_acc: 0.1515\n",
      "Epoch 17/30\n",
      "63448/63448 [==============================] - 5s 78us/step - loss: 2.3894 - acc: 0.1568 - val_loss: 2.3951 - val_acc: 0.1527\n",
      "Epoch 18/30\n",
      "63448/63448 [==============================] - 5s 78us/step - loss: 2.3888 - acc: 0.1573 - val_loss: 2.3948 - val_acc: 0.1520\n",
      "Epoch 19/30\n",
      "63448/63448 [==============================] - 5s 78us/step - loss: 2.3882 - acc: 0.1575 - val_loss: 2.3945 - val_acc: 0.1525\n",
      "Epoch 20/30\n",
      "63448/63448 [==============================] - 5s 77us/step - loss: 2.3875 - acc: 0.1584 - val_loss: 2.3942 - val_acc: 0.1533- loss: 2.3867 -\n",
      "Epoch 21/30\n",
      "63448/63448 [==============================] - 5s 78us/step - loss: 2.3864 - acc: 0.1606 - val_loss: 2.3940 - val_acc: 0.15382.\n",
      "Epoch 22/30\n",
      "63448/63448 [==============================] - 5s 78us/step - loss: 2.3866 - acc: 0.1601 - val_loss: 2.3937 - val_acc: 0.1550\n",
      "Epoch 23/30\n",
      "63448/63448 [==============================] - 5s 78us/step - loss: 2.3855 - acc: 0.1601 - val_loss: 2.3935 - val_acc: 0.1550\n",
      "Epoch 24/30\n",
      "63448/63448 [==============================] - 5s 78us/step - loss: 2.3857 - acc: 0.1592 - val_loss: 2.3932 - val_acc: 0.1571A: 2s - loss - ETA: 1s - loss: 2.38 - ETA: 0s - loss: 2.3860 - acc: 0.\n",
      "Epoch 25/30\n",
      "63448/63448 [==============================] - 5s 78us/step - loss: 2.3839 - acc: 0.1618 - val_loss: 2.3930 - val_acc: 0.1574ETA: 1s - loss: 2.3842 - acc: 0.161 - ETA: 1s - loss: 2.3845 - - ETA: 0s - loss: 2.3836 \n",
      "Epoch 26/30\n",
      "63448/63448 [==============================] - 5s 78us/step - loss: 2.3836 - acc: 0.1605 - val_loss: 2.3928 - val_acc: 0.1575- ETA\n",
      "Epoch 27/30\n",
      "63448/63448 [==============================] - 5s 78us/step - loss: 2.3830 - acc: 0.1610 - val_loss: 2.3926 - val_acc: 0.1575\n",
      "Epoch 28/30\n",
      "63448/63448 [==============================] - 5s 78us/step - loss: 2.3832 - acc: 0.1604 - val_loss: 2.3924 - val_acc: 0.1572ETA: 1s - loss: 2\n",
      "Epoch 29/30\n",
      "63448/63448 [==============================] - 5s 78us/step - loss: 2.3833 - acc: 0.1601 - val_loss: 2.3922 - val_acc: 0.15672.38 - ETA: 0s - loss: 2.3829 - acc: 0\n",
      "Epoch 30/30\n",
      "63448/63448 [==============================] - 5s 79us/step - loss: 2.3807 - acc: 0.1619 - val_loss: 2.3920 - val_acc: 0.1565\n",
      "Validation Log Loss of  Model in Current Run:  2.392030910082009\n",
      "Average CV Loss of 5 Runs : 2.390903664576408\n"
     ]
    }
   ],
   "source": [
    "random_seeds=[9,18,42,86,103]\n",
    "model_list_2= noevents_average_nn_2(random_seeds)"
   ]
  },
  {
   "cell_type": "code",
   "execution_count": 116,
   "metadata": {},
   "outputs": [
    {
     "name": "stdout",
     "output_type": "stream",
     "text": [
      "Train Average Log-Loss:  2.3773803963269122\n"
     ]
    }
   ],
   "source": [
    "avg_pred=np.zeros((xtr.shape[0],12))\n",
    "for i in range(len(model_list_2)):\n",
    "    train_pred=model_list_2[i].predict_proba(xtr)\n",
    "    avg_pred+=train_pred\n",
    "avg_pred/=len(model_list_2)\n",
    "print(\"Train Average Log-Loss: \",log_loss(ytr, avg_pred))"
   ]
  },
  {
   "cell_type": "code",
   "execution_count": 120,
   "metadata": {},
   "outputs": [
    {
     "name": "stdout",
     "output_type": "stream",
     "text": [
      "Validation Average Log-Loss:  2.3792368855138477\n"
     ]
    }
   ],
   "source": [
    "avg_pred=np.zeros((xcv.shape[0],12))\n",
    "for i in range(len(model_list_2)):\n",
    "    cv_pred=model_list_2[i].predict_proba(xcv)\n",
    "    avg_pred+=cv_pred\n",
    "avg_pred/=len(model_list_2)\n",
    "print(\"Validation Average Log-Loss: \",log_loss(ycv, avg_pred))"
   ]
  },
  {
   "cell_type": "code",
   "execution_count": 118,
   "metadata": {},
   "outputs": [],
   "source": [
    "avg_pred=np.zeros((xtest_noevents.shape[0],12))\n",
    "for i in range(len(model_list_2)):\n",
    "    test_pred=model_list_2[i].predict_proba(xtest_noevents)\n",
    "    avg_pred+=test_pred\n",
    "avg_pred/=len(model_list_2)"
   ]
  },
  {
   "cell_type": "code",
   "execution_count": 119,
   "metadata": {},
   "outputs": [],
   "source": [
    "np.save('results/nn2_noevents',avg_pred)"
   ]
  },
  {
   "cell_type": "markdown",
   "metadata": {},
   "source": [
    "#### Observations:"
   ]
  },
  {
   "cell_type": "markdown",
   "metadata": {},
   "source": [
    "1. The train and average log loss was 2.373 and 2.379 respectively\n",
    "2. this model performs better than logistic regression(section 7.1.2) but worse than neural network 1(section 7.1.3)"
   ]
  },
  {
   "cell_type": "markdown",
   "metadata": {},
   "source": [
    "### 7.1.5: XGboost"
   ]
  },
  {
   "cell_type": "markdown",
   "metadata": {},
   "source": [
    "Model parameters from this [kaggle deiscuission forum](https://www.kaggle.com/c/talkingdata-mobile-user-demographics/discussion/23424)"
   ]
  },
  {
   "cell_type": "code",
   "execution_count": 41,
   "metadata": {},
   "outputs": [
    {
     "name": "stdout",
     "output_type": "stream",
     "text": [
      "Train Log Loss : 2.3718201172033533\n",
      "Validation Log Loss : 2.392902321837108\n"
     ]
    }
   ],
   "source": [
    "xgb = XGBClassifier(n_estimators=350, n_jobs=-1,learning_rate=0.05, colsample_bytree=0.7, max_depth=5,subsample=0.7,objective='multi:softprob',num_class=12,eval_metric='mlogloss')\n",
    "xgb.fit(xtr, ytr)\n",
    "#Using Model Calibration\n",
    "clf = CalibratedClassifierCV(xgb, method=\"sigmoid\")\n",
    "clf.fit(xtr, ytr)\n",
    "\n",
    "pred_y=clf.predict_proba(xtr)\n",
    "print(\"Train Log Loss :\",log_loss(ytr, pred_y))\n",
    "\n",
    "\n",
    "pred_y=clf.predict_proba(xcv)\n",
    "print(\"Validation Log Loss :\",log_loss(ycv, pred_y))\n"
   ]
  },
  {
   "cell_type": "code",
   "execution_count": 44,
   "metadata": {},
   "outputs": [],
   "source": [
    "no_events_pred_lr=clf.predict_proba(xtest_noevents)"
   ]
  },
  {
   "cell_type": "code",
   "execution_count": 45,
   "metadata": {},
   "outputs": [],
   "source": [
    "np.save('results/xgb_noevents.npy',no_events_pred_lr)"
   ]
  },
  {
   "cell_type": "markdown",
   "metadata": {},
   "source": [
    "#### Observation:"
   ]
  },
  {
   "cell_type": "markdown",
   "metadata": {},
   "source": [
    "1. The train and validation log loss were 2.37 and 2.39 respectively\n",
    "2. Model does not perform as good as neural network tested above"
   ]
  },
  {
   "cell_type": "markdown",
   "metadata": {},
   "source": [
    "## 7.2: Devices with events"
   ]
  },
  {
   "cell_type": "markdown",
   "metadata": {},
   "source": [
    "### 7.2.1: Creating features"
   ]
  },
  {
   "cell_type": "markdown",
   "metadata": {},
   "source": [
    "#### 7.2.1.1: one-hot encode phone-brand"
   ]
  },
  {
   "cell_type": "code",
   "execution_count": 41,
   "metadata": {},
   "outputs": [
    {
     "name": "stdout",
     "output_type": "stream",
     "text": [
      "Train Brand One-hot Shape:  (23309, 131)\n",
      "Test Brand One-hot Shape:  (35194, 131)\n"
     ]
    }
   ],
   "source": [
    "gatrain_events['brand']=phone['brand']\n",
    "gatest_events['brand']=phone['brand']\n",
    "\n",
    "\n",
    "#https://docs.scipy.org/doc/scipy/reference/generated/scipy.sparse.csr_matrix.html\n",
    "Xtr_events_brand = csr_matrix((np.ones(gatrain_events.shape[0]), # Number of Rows/Devices\n",
    "                       (gatrain_events.trainrow, gatrain_events.brand)),shape=(gatrain_events.shape[0],nbrand))\n",
    "Xte_events_brand = csr_matrix((np.ones(gatest_events.shape[0]), # Number of Rows/Devices\n",
    "                       (gatest_events.testrow, gatest_events.brand)),shape=(gatest_events.shape[0],nbrand))\n",
    "\n",
    "print(\"Train Brand One-hot Shape: \",Xtr_events_brand.shape)\n",
    "print(\"Test Brand One-hot Shape: \",Xte_events_brand.shape)"
   ]
  },
  {
   "cell_type": "markdown",
   "metadata": {},
   "source": [
    "#### 7.2.1.2: one-hot encode phone-model"
   ]
  },
  {
   "cell_type": "code",
   "execution_count": 42,
   "metadata": {},
   "outputs": [
    {
     "name": "stdout",
     "output_type": "stream",
     "text": [
      "Train Brand One-hot Shape:  (23309, 1667)\n",
      "Test Brand One-hot Shape:  (35194, 1667)\n"
     ]
    }
   ],
   "source": [
    "gatrain_events['model']=phone['model']\n",
    "gatest_events['model']=phone['model']\n",
    "\n",
    "Xtr_events_model = csr_matrix((np.ones(gatrain_events.shape[0]), \n",
    "                       (gatrain_events.trainrow, gatrain_events.model)),shape=(gatrain_events.shape[0],nmodel))\n",
    "\n",
    "Xte_events_model = csr_matrix((np.ones(gatest_events.shape[0]), \n",
    "                       (gatest_events.testrow, gatest_events.model)),shape=(gatest_events.shape[0],nmodel))\n",
    "print(\"Train Brand One-hot Shape: \",Xtr_events_model.shape)\n",
    "print(\"Test Brand One-hot Shape: \",Xte_events_model.shape)"
   ]
  },
  {
   "cell_type": "markdown",
   "metadata": {},
   "source": [
    "#### 7.2.1.3: one-hot encoding for for device apps "
   ]
  },
  {
   "cell_type": "code",
   "execution_count": 43,
   "metadata": {},
   "outputs": [
    {
     "name": "stdout",
     "output_type": "stream",
     "text": [
      "Train Event Apps One-hot Shape:  (23309, 19237)\n",
      "Test Event Apps One-hot Shape:  (35194, 19237)\n"
     ]
    }
   ],
   "source": [
    "#Since the Deviceapps has both train and test columns merged to create Train Apps One-Hot we will Drop all Nan of Train Row\n",
    "#Once we remove Nan in Train Rows we will get the Apps in Train Data and we create CSR Matrix for those rows\n",
    "d = deviceapps.dropna(subset=['trainrow'])\n",
    "Xtr_events_app = csr_matrix((np.ones(d.shape[0]), (d.trainrow, d.app)), \n",
    "                      shape=(gatrain_events.shape[0],napps))\n",
    "\n",
    "#Since the Deviceapps has both train and test columns merged to create Test Apps One-Hot we will Drop all Nan of Test Row\n",
    "#Once we remove Nan in Test Rows we will get the Apps in Test Data and we create CSR Matrix for those rows\n",
    "d = deviceapps.dropna(subset=['testrow'])\n",
    "Xte_events_app = csr_matrix((np.ones(d.shape[0]), (d.testrow, d.app)), \n",
    "                      shape=(gatest_events.shape[0],napps))\n",
    "print(\"Train Event Apps One-hot Shape: \",Xtr_events_app.shape)\n",
    "print(\"Test Event Apps One-hot Shape: \",Xte_events_app.shape)"
   ]
  },
  {
   "cell_type": "markdown",
   "metadata": {},
   "source": [
    "#### 7.2.1.4: one-hot encoding for device labels"
   ]
  },
  {
   "cell_type": "code",
   "execution_count": 44,
   "metadata": {},
   "outputs": [
    {
     "name": "stdout",
     "output_type": "stream",
     "text": [
      "Train Event Labels One-hot Shape:  (23309, 492)\n",
      "Test Event Labels One-hot Shape:  (35194, 492)\n"
     ]
    }
   ],
   "source": [
    "#Since the Devicelabels has both train and test columns merged to create Train Labels One-Hot we will Drop all Nan of Train Row\n",
    "#Once we remove Nan in Train Rows we will get the Labels in Train Data and we create CSR Matrix for those rows\n",
    "d = devicelabels.dropna(subset=['trainrow'])\n",
    "Xtr_events_labels = csr_matrix((np.ones(d.shape[0]), (d.trainrow, d.label)), \n",
    "                      shape=(gatrain_events.shape[0],nlabels))\n",
    "#Since the Devicelabels has both train and test columns merged to create Test Labels One-Hot we will Drop all Nan of Test Row\n",
    "#Once we remove Nan in Test Rows we will get the Labels in Test Data and we create CSR Matrix for those rows\n",
    "d = devicelabels.dropna(subset=['testrow'])\n",
    "Xte_events_labels = csr_matrix((np.ones(d.shape[0]), (d.testrow, d.label)), \n",
    "                      shape=(gatest_events.shape[0],nlabels))\n",
    "print(\"Train Event Labels One-hot Shape: \",Xtr_events_labels.shape)\n",
    "print(\"Test Event Labels One-hot Shape: \",Xte_events_labels.shape)"
   ]
  },
  {
   "cell_type": "markdown",
   "metadata": {},
   "source": [
    "#### 7.2.1.5:TF-IDF features for hours"
   ]
  },
  {
   "cell_type": "code",
   "execution_count": 45,
   "metadata": {},
   "outputs": [
    {
     "name": "stdout",
     "output_type": "stream",
     "text": [
      "Train Event Hours TF-IDF Shape:  (23309, 24)\n",
      "Test Event Hours TF-IDF Shape:  (35194, 24)\n"
     ]
    }
   ],
   "source": [
    "gatrain_events[\"hourjoin\"]=gatrain_events.index.map(hourjoin)\n",
    "gatest_events[\"hourjoin\"]=gatest_events.index.map(hourjoin)\n",
    "\n",
    "vectorizer=TfidfVectorizer()\n",
    "vectorizer.fit(gatrain_events['hourjoin'].values)\n",
    "\n",
    "X_tr_hourjoin_tfidf = vectorizer.transform(gatrain_events['hourjoin'].values)\n",
    "X_te_hourjoin_tfidf = vectorizer.transform(gatest_events['hourjoin'].values)\n",
    "\n",
    "print(\"Train Event Hours TF-IDF Shape: \",X_tr_hourjoin_tfidf.shape)\n",
    "print(\"Test Event Hours TF-IDF Shape: \",X_te_hourjoin_tfidf.shape)"
   ]
  },
  {
   "cell_type": "markdown",
   "metadata": {},
   "source": [
    "#### 7.2.1.6: BOW for hours"
   ]
  },
  {
   "cell_type": "code",
   "execution_count": 46,
   "metadata": {},
   "outputs": [
    {
     "name": "stdout",
     "output_type": "stream",
     "text": [
      "After vectorizations\n",
      "Train Event Hours One-hot Shape:  (23309, 24)\n",
      "Test Event Hours One-hot Shape:  (35194, 24)\n"
     ]
    }
   ],
   "source": [
    "gatrain_events[\"hourjoin\"]=gatrain_events.index.map(hourjoin)\n",
    "gatest_events[\"hourjoin\"]=gatest_events.index.map(hourjoin)\n",
    "\n",
    "vectorizer=CountVectorizer()\n",
    "vectorizer.fit(gatrain_events['hourjoin'].values)\n",
    "\n",
    "X_tr_hourjoin_onehot = vectorizer.transform(gatrain_events['hourjoin'].values)\n",
    "X_te_hourjoin_onehot = vectorizer.transform(gatest_events['hourjoin'].values)\n",
    "print(\"After vectorizations\")\n",
    "print(\"Train Event Hours One-hot Shape: \",X_tr_hourjoin_onehot.shape)\n",
    "print(\"Test Event Hours One-hot Shape: \",X_te_hourjoin_onehot.shape)"
   ]
  },
  {
   "cell_type": "markdown",
   "metadata": {},
   "source": [
    "#### 7.2.1.7: one-hot encode hour bin"
   ]
  },
  {
   "cell_type": "code",
   "execution_count": 47,
   "metadata": {},
   "outputs": [
    {
     "name": "stdout",
     "output_type": "stream",
     "text": [
      "Train Event Hours One-hot Shape:  (23309, 4)\n",
      "Test Event Hours One-hot Shape:  (35194, 4)\n"
     ]
    }
   ],
   "source": [
    "gatrain_events[\"hourbinjoin\"]=gatrain_events.index.map(hourbinjoin)\n",
    "gatest_events[\"hourbinjoin\"]=gatest_events.index.map(hourbinjoin)\n",
    "\n",
    "vectorizer=CountVectorizer(binary=True)\n",
    "vectorizer.fit(gatrain_events['hourbinjoin'].values)\n",
    "\n",
    "X_tr_hourbinjoin_onehot = vectorizer.transform(gatrain_events['hourbinjoin'].values)\n",
    "X_te_hourbinjoin_onehot = vectorizer.transform(gatest_events['hourbinjoin'].values)\n",
    "\n",
    "print(\"Train Event Hours One-hot Shape: \",X_tr_hourbinjoin_onehot.shape)\n",
    "print(\"Test Event Hours One-hot Shape: \",X_te_hourbinjoin_onehot.shape)"
   ]
  },
  {
   "cell_type": "markdown",
   "metadata": {},
   "source": [
    "#### 7.2.1.8: TF-IDF features for event day\n"
   ]
  },
  {
   "cell_type": "code",
   "execution_count": 48,
   "metadata": {},
   "outputs": [
    {
     "name": "stdout",
     "output_type": "stream",
     "text": [
      "After vectorizations\n",
      "Train Event days TF-IDF Shape:  (23309, 7)\n",
      "Test Event days TF-IDF Shape:  (35194, 7)\n"
     ]
    }
   ],
   "source": [
    "gatrain_events[\"daysjoin\"]=gatrain_events.index.map(daysjoin)\n",
    "gatest_events[\"daysjoin\"]=gatest_events.index.map(daysjoin)\n",
    "\n",
    "vectorizer=TfidfVectorizer()\n",
    "vectorizer.fit(gatrain_events['daysjoin'].values)\n",
    "\n",
    "X_tr_daysjoin_tfidf = vectorizer.transform(gatrain_events['daysjoin'].values)\n",
    "X_te_daysjoin_tfidf = vectorizer.transform(gatest_events['daysjoin'].values)\n",
    "print(\"After vectorizations\")\n",
    "print(\"Train Event days TF-IDF Shape: \",X_tr_daysjoin_tfidf.shape)\n",
    "print(\"Test Event days TF-IDF Shape: \",X_te_daysjoin_tfidf.shape)"
   ]
  },
  {
   "cell_type": "markdown",
   "metadata": {},
   "source": [
    "#### 7.2.1.9: Standardizing latitude feature"
   ]
  },
  {
   "cell_type": "code",
   "execution_count": 49,
   "metadata": {},
   "outputs": [
    {
     "name": "stdout",
     "output_type": "stream",
     "text": [
      "Train Event Latitude Standardized Shape:  (23309, 1)\n",
      "Test Event Latitude Standardized  Shape:  (35194, 1)\n"
     ]
    }
   ],
   "source": [
    "gatrain_events[\"latitude\"]=gatrain_events.index.map(median_lat)\n",
    "gatest_events[\"latitude\"]=gatest_events.index.map(median_lat)\n",
    "\n",
    "scaler=StandardScaler()\n",
    "scaler.fit(gatrain_events['latitude'].values.reshape(-1,1))\n",
    "\n",
    "X_tr_event_lat = scaler.transform(gatrain_events['latitude'].values.reshape(-1,1))\n",
    "X_te_event_lat = scaler.transform(gatest_events['latitude'].values.reshape(-1,1))\n",
    "\n",
    "print(\"Train Event Latitude Standardized Shape: \",X_tr_event_lat.shape)\n",
    "print(\"Test Event Latitude Standardized  Shape: \",X_te_event_lat.shape)"
   ]
  },
  {
   "cell_type": "markdown",
   "metadata": {},
   "source": [
    "#### 7.2.1.10: Standardising longitude feature"
   ]
  },
  {
   "cell_type": "code",
   "execution_count": 50,
   "metadata": {},
   "outputs": [
    {
     "name": "stdout",
     "output_type": "stream",
     "text": [
      "Train Event longitude Standardized Shape:  (23309, 1)\n",
      "Test Event longitude Standardized  Shape:  (35194, 1)\n"
     ]
    }
   ],
   "source": [
    "gatrain_events[\"longitude\"]=gatrain_events.index.map(median_lon)\n",
    "gatest_events[\"longitude\"]=gatest_events.index.map(median_lon)\n",
    "\n",
    "scaler=StandardScaler()\n",
    "scaler.fit(gatrain_events['longitude'].values.reshape(-1,1))\n",
    "\n",
    "X_tr_event_lon = scaler.transform(gatrain_events['longitude'].values.reshape(-1,1))\n",
    "X_te_event_lon = scaler.transform(gatest_events['longitude'].values.reshape(-1,1))\n",
    "\n",
    "print(\"Train Event longitude Standardized Shape: \",X_tr_event_lon.shape)\n",
    "print(\"Test Event longitude Standardized  Shape: \",X_te_event_lon.shape)"
   ]
  },
  {
   "cell_type": "markdown",
   "metadata": {},
   "source": [
    "#### 7.2.1.11: one-hot encoding clustered features"
   ]
  },
  {
   "cell_type": "code",
   "execution_count": 51,
   "metadata": {},
   "outputs": [
    {
     "name": "stdout",
     "output_type": "stream",
     "text": [
      "Train Event locationbin Shape:  (23309, 10)\n",
      "Test Event locationbin Shape:  (35194, 10)\n"
     ]
    }
   ],
   "source": [
    "gatrain_events[\"locationbin\"]=gatrain_events.index.map(clustered_geo_features)\n",
    "gatest_events[\"locationbin\"]=gatest_events.index.map(clustered_geo_features)\n",
    "\n",
    "#gatrain_events.locationbin=gatrain_events.locationbin.astype(str)\n",
    "#gatest_events.locationbin=gatest_events.locationbin.astype(str)\n",
    "\n",
    "vectorizer= OneHotEncoder()\n",
    "vectorizer.fit(gatrain_events['locationbin'].values.reshape(-1,1))\n",
    "\n",
    "X_tr_clus = vectorizer.transform(gatrain_events['locationbin'].values.reshape(-1,1))\n",
    "X_te_clus = vectorizer.transform(gatest_events['locationbin'].values.reshape(-1,1))\n",
    "\n",
    "print(\"Train Event locationbin Shape: \",X_tr_clus.shape)\n",
    "print(\"Test Event locationbin Shape: \",X_te_clus.shape)"
   ]
  },
  {
   "cell_type": "markdown",
   "metadata": {},
   "source": [
    "#### 7.2.1.12: TF-IDF features for app is active"
   ]
  },
  {
   "cell_type": "code",
   "execution_count": 52,
   "metadata": {},
   "outputs": [
    {
     "name": "stdout",
     "output_type": "stream",
     "text": [
      "Train Apps Active TF-IDF Shape:  (23309, 2)\n",
      "Test Apps Active TF-IDF Shape:  (35194, 2)\n"
     ]
    }
   ],
   "source": [
    "#Mapping The Values the values to train and test dataframes\n",
    "gatrain_events['apps_active']=gatrain_events.index.map(active_apps_events)\n",
    "gatest_events['apps_active']=gatest_events.index.map(active_apps_events)\n",
    "\n",
    "vectorizer=TfidfVectorizer()\n",
    "vectorizer.fit(gatrain_events['apps_active'].values)\n",
    "\n",
    "X_tr_active = vectorizer.transform(gatrain_events['apps_active'].values)\n",
    "X_te_active = vectorizer.transform(gatest_events['apps_active'].values)\n",
    "\n",
    "print(\"Train Apps Active TF-IDF Shape: \",X_tr_active.shape)\n",
    "print(\"Test Apps Active TF-IDF Shape: \",X_te_active.shape)"
   ]
  },
  {
   "cell_type": "code",
   "execution_count": 53,
   "metadata": {},
   "outputs": [],
   "source": [
    "X_train_events=hstack((Xtr_events_brand,Xtr_events_model,Xtr_events_labels,X_tr_hourjoin_tfidf,X_tr_hourbinjoin_onehot,X_tr_daysjoin_tfidf,X_tr_event_lat,X_tr_event_lon,Xtr_events_app,X_tr_active,X_tr_clus),format='csr')\n",
    "\n",
    "X_test_events =hstack((Xte_events_brand,Xte_events_model,Xte_events_labels,X_te_hourjoin_tfidf,X_te_hourbinjoin_onehot,X_te_daysjoin_tfidf,X_te_event_lat,X_te_event_lon,Xte_events_app,X_te_active,X_te_clus),format='csr')"
   ]
  },
  {
   "cell_type": "code",
   "execution_count": 54,
   "metadata": {},
   "outputs": [],
   "source": [
    "#label encoding target variable\n",
    "targetencoder = LabelEncoder().fit(gatrain_events.group)\n",
    "y = targetencoder.transform(gatrain_events.group)"
   ]
  },
  {
   "cell_type": "code",
   "execution_count": 55,
   "metadata": {},
   "outputs": [
    {
     "name": "stdout",
     "output_type": "stream",
     "text": [
      "xtrain shape: (23309, 21576)\n",
      "ytrain shape: (23309,)\n",
      "xtest shape: (35194, 21576)\n"
     ]
    }
   ],
   "source": [
    "print(\"xtrain shape:\",X_train_events.shape)\n",
    "print(\"ytrain shape:\",y.shape)\n",
    "\n",
    "print(\"xtest shape:\",X_test_events.shape)"
   ]
  },
  {
   "cell_type": "code",
   "execution_count": 56,
   "metadata": {},
   "outputs": [],
   "source": [
    "xtr, xcv, ytr, ycv = train_test_split(X_train_events, y,stratify=y,test_size=0.2,random_state=9)"
   ]
  },
  {
   "cell_type": "code",
   "execution_count": 57,
   "metadata": {},
   "outputs": [],
   "source": [
    "#one hot encoding target variable\n",
    "ytr=np_utils.to_categorical(ytr)\n",
    "ycv=np_utils.to_categorical(ycv)"
   ]
  },
  {
   "cell_type": "markdown",
   "metadata": {},
   "source": [
    "### 7.2.1: Modelling-Neural Network 1"
   ]
  },
  {
   "cell_type": "markdown",
   "metadata": {},
   "source": [
    "Model architecture from this [kaggle deiscuission forum](https://www.kaggle.com/c/talkingdata-mobile-user-demographics/discussion/23424)"
   ]
  },
  {
   "cell_type": "code",
   "execution_count": 61,
   "metadata": {},
   "outputs": [],
   "source": [
    "def events_nn_model1(input_dim,output_dim):\n",
    "    model = Sequential()\n",
    "    model.add(Dropout(0.15, input_shape=(input_dim,)))\n",
    "    model.add(Dense(240, init='uniform'))\n",
    "    model.add(PReLU(init='zero'))\n",
    "    model.add(Dropout(0.8))\n",
    "    model.add(Dense(240, init='uniform'))\n",
    "    model.add(PReLU(init='zero', weights=None))\n",
    "    model.add(Dropout(0.35))\n",
    "    model.add(Dense(260, init='uniform'))\n",
    "    model.add(PReLU(init='zero', weights=None))\n",
    "    model.add(Dropout(0.40))\n",
    "    model.add(Dense(output_dim, init='uniform'))\n",
    "    model.add(Activation('softmax'))\n",
    "\n",
    "    opt = Adagrad(lr=0.008, epsilon=1e-08)\n",
    "    model.compile(loss='categorical_crossentropy',\n",
    "                  optimizer=opt,\n",
    "                  metrics=['accuracy'])\n",
    "    return model"
   ]
  },
  {
   "cell_type": "code",
   "execution_count": 62,
   "metadata": {},
   "outputs": [
    {
     "name": "stdout",
     "output_type": "stream",
     "text": [
      "_________________________________________________________________\n",
      "Layer (type)                 Output Shape              Param #   \n",
      "=================================================================\n",
      "dropout_17 (Dropout)         (None, 21576)             0         \n",
      "_________________________________________________________________\n",
      "dense_23 (Dense)             (None, 240)               5178480   \n",
      "_________________________________________________________________\n",
      "p_re_lu_16 (PReLU)           (None, 240)               240       \n",
      "_________________________________________________________________\n",
      "dropout_18 (Dropout)         (None, 240)               0         \n",
      "_________________________________________________________________\n",
      "dense_24 (Dense)             (None, 240)               57840     \n",
      "_________________________________________________________________\n",
      "p_re_lu_17 (PReLU)           (None, 240)               240       \n",
      "_________________________________________________________________\n",
      "dropout_19 (Dropout)         (None, 240)               0         \n",
      "_________________________________________________________________\n",
      "dense_25 (Dense)             (None, 260)               62660     \n",
      "_________________________________________________________________\n",
      "p_re_lu_18 (PReLU)           (None, 260)               260       \n",
      "_________________________________________________________________\n",
      "dropout_20 (Dropout)         (None, 260)               0         \n",
      "_________________________________________________________________\n",
      "dense_26 (Dense)             (None, 12)                3132      \n",
      "_________________________________________________________________\n",
      "activation_8 (Activation)    (None, 12)                0         \n",
      "=================================================================\n",
      "Total params: 5,302,852\n",
      "Trainable params: 5,302,852\n",
      "Non-trainable params: 0\n",
      "_________________________________________________________________\n"
     ]
    }
   ],
   "source": [
    "model_sum=events_nn_model1(xtr.shape[1],12)\n",
    "model_sum.summary()"
   ]
  },
  {
   "cell_type": "code",
   "execution_count": 63,
   "metadata": {},
   "outputs": [],
   "source": [
    "early_stop=EarlyStopping(monitor='val_loss',patience=5,restore_best_weights=True)"
   ]
  },
  {
   "cell_type": "markdown",
   "metadata": {},
   "source": [
    "A neural network ensemble was utilized for better reults. Refer [this](https://machinelearningmastery.com/model-averaging-ensemble-for-deep-learning-neural-networks/) for more information"
   ]
  },
  {
   "cell_type": "code",
   "execution_count": 70,
   "metadata": {},
   "outputs": [],
   "source": [
    "def events_average_nn_1(state):\n",
    "    \"\"\"\n",
    "    Takes a list of Random Seeds, splits the data into Train and CV based on Seed, trains model and takes average of \n",
    "    predictions while testing  \n",
    "    \"\"\"\n",
    "    model_list=[]\n",
    "    loss_list=[]\n",
    "    avg_cv_loss=0\n",
    "    for i in range((state)):\n",
    "        model=events_nn_model1(xtr.shape[1],12)\n",
    "        model.fit(xtr, ytr, batch_size=149, epochs=20, verbose=1, validation_data=(xcv, ycv),callbacks=[early_stop])\n",
    "        model.save('saved_models/events/nn1'+str(i+1))\n",
    "        pred=model.predict_proba(xcv)\n",
    "        cv_loss=log_loss(ycv, pred)\n",
    "        print(\"Validation Log Loss of  Model in Current Run: \",cv_loss)\n",
    "        model_list.append(model)\n",
    "        loss_list.append(cv_loss)\n",
    "    avg_cv_loss=mean(loss_list)\n",
    "    print(\"Average CV Loss of \"+str((state))+\" Runs :\",avg_cv_loss)\n",
    "    return(model_list)"
   ]
  },
  {
   "cell_type": "code",
   "execution_count": 65,
   "metadata": {
    "scrolled": true
   },
   "outputs": [
    {
     "name": "stdout",
     "output_type": "stream",
     "text": [
      "Train on 18647 samples, validate on 4662 samples\n",
      "Epoch 1/20\n",
      "18647/18647 [==============================] - 13s 715us/step - loss: 2.3040 - acc: 0.1782 - val_loss: 2.1488 - val_acc: 0.2477\n",
      "Epoch 2/20\n",
      "18647/18647 [==============================] - 12s 662us/step - loss: 2.1408 - acc: 0.2437 - val_loss: 2.0531 - val_acc: 0.2671\n",
      "Epoch 3/20\n",
      "18647/18647 [==============================] - 12s 661us/step - loss: 2.0713 - acc: 0.2675 - val_loss: 2.0034 - val_acc: 0.3130\n",
      "Epoch 4/20\n",
      "18647/18647 [==============================] - 12s 660us/step - loss: 2.0215 - acc: 0.2832 - val_loss: 1.9807 - val_acc: 0.3149\n",
      "Epoch 5/20\n",
      "18647/18647 [==============================] - 12s 668us/step - loss: 1.9911 - acc: 0.2935 - val_loss: 1.9789 - val_acc: 0.3016\n",
      "Epoch 6/20\n",
      "18647/18647 [==============================] - 12s 667us/step - loss: 1.9694 - acc: 0.2990 - val_loss: 1.9534 - val_acc: 0.3175\n",
      "Epoch 7/20\n",
      "18647/18647 [==============================] - 12s 669us/step - loss: 1.9392 - acc: 0.3068 - val_loss: 1.9378 - val_acc: 0.3211\n",
      "Epoch 8/20\n",
      "18647/18647 [==============================] - 12s 670us/step - loss: 1.9215 - acc: 0.3182 - val_loss: 1.9312 - val_acc: 0.3218\n",
      "Epoch 9/20\n",
      "18647/18647 [==============================] - 13s 687us/step - loss: 1.9024 - acc: 0.3225 - val_loss: 1.9237 - val_acc: 0.3265\n",
      "Epoch 10/20\n",
      "18647/18647 [==============================] - 13s 680us/step - loss: 1.8793 - acc: 0.3272 - val_loss: 1.9296 - val_acc: 0.3245\n",
      "Epoch 11/20\n",
      "18647/18647 [==============================] - 12s 668us/step - loss: 1.8623 - acc: 0.3385 - val_loss: 1.9145 - val_acc: 0.3263\n",
      "Epoch 12/20\n",
      "18647/18647 [==============================] - 12s 670us/step - loss: 1.8451 - acc: 0.3406 - val_loss: 1.9160 - val_acc: 0.3235\n",
      "Epoch 13/20\n",
      "18647/18647 [==============================] - 12s 668us/step - loss: 1.8283 - acc: 0.3434 - val_loss: 1.9159 - val_acc: 0.3278\n",
      "Epoch 14/20\n",
      "18647/18647 [==============================] - 12s 670us/step - loss: 1.8275 - acc: 0.3460 - val_loss: 1.9132 - val_acc: 0.3233\n",
      "Epoch 15/20\n",
      "18647/18647 [==============================] - 12s 668us/step - loss: 1.8068 - acc: 0.3563 - val_loss: 1.9141 - val_acc: 0.3293\n",
      "Epoch 16/20\n",
      "18647/18647 [==============================] - 13s 670us/step - loss: 1.7954 - acc: 0.3551 - val_loss: 1.9175 - val_acc: 0.3237\n",
      "Epoch 17/20\n",
      "18647/18647 [==============================] - 12s 669us/step - loss: 1.7732 - acc: 0.3633 - val_loss: 1.9158 - val_acc: 0.3273\n",
      "Epoch 18/20\n",
      "18647/18647 [==============================] - 12s 669us/step - loss: 1.7769 - acc: 0.3667 - val_loss: 1.9146 - val_acc: 0.3254\n",
      "Epoch 19/20\n",
      "18647/18647 [==============================] - 12s 669us/step - loss: 1.7633 - acc: 0.3673 - val_loss: 1.9247 - val_acc: 0.3200\n",
      "Validation Log Loss of  Model in Current Run:  1.9137567071216552\n",
      "Train on 18647 samples, validate on 4662 samples\n",
      "Epoch 1/20\n",
      "18647/18647 [==============================] - 13s 721us/step - loss: 2.2942 - acc: 0.1809 - val_loss: 2.1192 - val_acc: 0.2613\n",
      "Epoch 2/20\n",
      "18647/18647 [==============================] - 12s 670us/step - loss: 2.1333 - acc: 0.2437 - val_loss: 2.0550 - val_acc: 0.2773\n",
      "Epoch 3/20\n",
      "18647/18647 [==============================] - 12s 669us/step - loss: 2.0652 - acc: 0.2654 - val_loss: 2.0333 - val_acc: 0.2921\n",
      "Epoch 4/20\n",
      "18647/18647 [==============================] - 12s 670us/step - loss: 2.0266 - acc: 0.2771 - val_loss: 1.9971 - val_acc: 0.3001\n",
      "Epoch 5/20\n",
      "18647/18647 [==============================] - 13s 674us/step - loss: 1.9945 - acc: 0.2931 - val_loss: 1.9636 - val_acc: 0.3134\n",
      "Epoch 6/20\n",
      "18647/18647 [==============================] - 13s 694us/step - loss: 1.9624 - acc: 0.2999 - val_loss: 1.9547 - val_acc: 0.3192\n",
      "Epoch 7/20\n",
      "18647/18647 [==============================] - 13s 677us/step - loss: 1.9424 - acc: 0.3081 - val_loss: 1.9424 - val_acc: 0.3245\n",
      "Epoch 8/20\n",
      "18647/18647 [==============================] - 12s 669us/step - loss: 1.9168 - acc: 0.3160 - val_loss: 1.9341 - val_acc: 0.3245\n",
      "Epoch 9/20\n",
      "18647/18647 [==============================] - 12s 669us/step - loss: 1.8956 - acc: 0.3212 - val_loss: 1.9383 - val_acc: 0.3130\n",
      "Epoch 10/20\n",
      "18647/18647 [==============================] - 13s 671us/step - loss: 1.8782 - acc: 0.3290 - val_loss: 1.9286 - val_acc: 0.3269\n",
      "Epoch 11/20\n",
      "18647/18647 [==============================] - 12s 668us/step - loss: 1.8667 - acc: 0.3312 - val_loss: 1.9291 - val_acc: 0.3194\n",
      "Epoch 12/20\n",
      "18647/18647 [==============================] - 12s 669us/step - loss: 1.8566 - acc: 0.3344 - val_loss: 1.9254 - val_acc: 0.3252\n",
      "Epoch 13/20\n",
      "18647/18647 [==============================] - 12s 670us/step - loss: 1.8326 - acc: 0.3439 - val_loss: 1.9217 - val_acc: 0.3237\n",
      "Epoch 14/20\n",
      "18647/18647 [==============================] - 12s 669us/step - loss: 1.8216 - acc: 0.3498 - val_loss: 1.9187 - val_acc: 0.3241\n",
      "Epoch 15/20\n",
      "18647/18647 [==============================] - 12s 668us/step - loss: 1.8075 - acc: 0.3507 - val_loss: 1.9290 - val_acc: 0.3179\n",
      "Epoch 16/20\n",
      "18647/18647 [==============================] - 12s 669us/step - loss: 1.7922 - acc: 0.3533 - val_loss: 1.9221 - val_acc: 0.3215\n",
      "Epoch 17/20\n",
      "18647/18647 [==============================] - 12s 669us/step - loss: 1.7811 - acc: 0.3588 - val_loss: 1.9206 - val_acc: 0.3284\n",
      "Epoch 18/20\n",
      "18647/18647 [==============================] - 13s 680us/step - loss: 1.7619 - acc: 0.3700 - val_loss: 1.9227 - val_acc: 0.3297\n",
      "Epoch 19/20\n",
      "18647/18647 [==============================] - 12s 669us/step - loss: 1.7594 - acc: 0.3649 - val_loss: 1.9290 - val_acc: 0.3224\n",
      "Validation Log Loss of  Model in Current Run:  1.9199119457159572\n",
      "Train on 18647 samples, validate on 4662 samples\n",
      "Epoch 1/20\n",
      "18647/18647 [==============================] - 14s 730us/step - loss: 2.2867 - acc: 0.1842 - val_loss: 2.1170 - val_acc: 0.2617\n",
      "Epoch 2/20\n",
      "18647/18647 [==============================] - 13s 686us/step - loss: 2.1270 - acc: 0.2458 - val_loss: 2.0456 - val_acc: 0.3074\n",
      "Epoch 3/20\n",
      "18647/18647 [==============================] - 13s 673us/step - loss: 2.0654 - acc: 0.2703 - val_loss: 2.0106 - val_acc: 0.3074\n",
      "Epoch 4/20\n",
      "18647/18647 [==============================] - 13s 671us/step - loss: 2.0167 - acc: 0.2845 - val_loss: 1.9759 - val_acc: 0.3112\n",
      "Epoch 5/20\n",
      "18647/18647 [==============================] - 12s 668us/step - loss: 1.9910 - acc: 0.2933 - val_loss: 1.9573 - val_acc: 0.3218\n",
      "Epoch 6/20\n",
      "18647/18647 [==============================] - 12s 668us/step - loss: 1.9578 - acc: 0.3037 - val_loss: 1.9492 - val_acc: 0.3168\n",
      "Epoch 7/20\n",
      "18647/18647 [==============================] - 13s 673us/step - loss: 1.9355 - acc: 0.3097 - val_loss: 1.9435 - val_acc: 0.3235\n",
      "Epoch 8/20\n",
      "18647/18647 [==============================] - 13s 682us/step - loss: 1.9167 - acc: 0.3217 - val_loss: 1.9353 - val_acc: 0.3256\n",
      "Epoch 9/20\n",
      "18647/18647 [==============================] - 13s 684us/step - loss: 1.8941 - acc: 0.3280 - val_loss: 1.9319 - val_acc: 0.3213\n",
      "Epoch 10/20\n",
      "18647/18647 [==============================] - 12s 670us/step - loss: 1.8840 - acc: 0.3243 - val_loss: 1.9242 - val_acc: 0.3267\n",
      "Epoch 11/20\n",
      "18647/18647 [==============================] - 13s 681us/step - loss: 1.8604 - acc: 0.3369 - val_loss: 1.9209 - val_acc: 0.3286\n",
      "Epoch 12/20\n",
      "18647/18647 [==============================] - 12s 670us/step - loss: 1.8443 - acc: 0.3428 - val_loss: 1.9199 - val_acc: 0.3303\n",
      "Epoch 13/20\n",
      "18647/18647 [==============================] - 13s 671us/step - loss: 1.8317 - acc: 0.3426 - val_loss: 1.9166 - val_acc: 0.3275\n",
      "Epoch 14/20\n",
      "18647/18647 [==============================] - 12s 670us/step - loss: 1.8211 - acc: 0.3476 - val_loss: 1.9147 - val_acc: 0.3256\n",
      "Epoch 15/20\n",
      "18647/18647 [==============================] - 12s 670us/step - loss: 1.8000 - acc: 0.3542 - val_loss: 1.9192 - val_acc: 0.3282\n",
      "Epoch 16/20\n",
      "18647/18647 [==============================] - 12s 669us/step - loss: 1.7960 - acc: 0.3571 - val_loss: 1.9196 - val_acc: 0.3273\n",
      "Epoch 17/20\n",
      "18647/18647 [==============================] - 12s 670us/step - loss: 1.7761 - acc: 0.3613 - val_loss: 1.9251 - val_acc: 0.3243\n",
      "Epoch 18/20\n",
      "18647/18647 [==============================] - 12s 670us/step - loss: 1.7663 - acc: 0.3663 - val_loss: 1.9289 - val_acc: 0.3239\n",
      "Epoch 19/20\n",
      "18647/18647 [==============================] - 12s 668us/step - loss: 1.7484 - acc: 0.3713 - val_loss: 1.9281 - val_acc: 0.3282\n",
      "Validation Log Loss of  Model in Current Run:  1.915229765954917\n",
      "Train on 18647 samples, validate on 4662 samples\n",
      "Epoch 1/20\n",
      "18647/18647 [==============================] - 14s 750us/step - loss: 2.3042 - acc: 0.1778 - val_loss: 2.1451 - val_acc: 0.2559\n",
      "Epoch 2/20\n",
      "18647/18647 [==============================] - 12s 667us/step - loss: 2.1444 - acc: 0.2438 - val_loss: 2.0546 - val_acc: 0.2851\n",
      "Epoch 3/20\n",
      "18647/18647 [==============================] - 13s 672us/step - loss: 2.0712 - acc: 0.2660 - val_loss: 2.0116 - val_acc: 0.2945\n",
      "Epoch 4/20\n",
      "18647/18647 [==============================] - 12s 670us/step - loss: 2.0333 - acc: 0.2787 - val_loss: 2.0001 - val_acc: 0.3072\n",
      "Epoch 5/20\n",
      "18647/18647 [==============================] - 12s 668us/step - loss: 1.9949 - acc: 0.2900 - val_loss: 1.9656 - val_acc: 0.3164\n",
      "Epoch 6/20\n",
      "18647/18647 [==============================] - 13s 672us/step - loss: 1.9725 - acc: 0.2981 - val_loss: 1.9484 - val_acc: 0.3166\n",
      "Epoch 7/20\n",
      "18647/18647 [==============================] - 12s 669us/step - loss: 1.9401 - acc: 0.3048 - val_loss: 1.9370 - val_acc: 0.3192\n",
      "Epoch 8/20\n",
      "18647/18647 [==============================] - 12s 669us/step - loss: 1.9235 - acc: 0.3123 - val_loss: 1.9336 - val_acc: 0.3237\n",
      "Epoch 9/20\n",
      "18647/18647 [==============================] - 12s 668us/step - loss: 1.8984 - acc: 0.3227 - val_loss: 1.9337 - val_acc: 0.3196\n",
      "Epoch 10/20\n",
      "18647/18647 [==============================] - 13s 671us/step - loss: 1.8838 - acc: 0.3295 - val_loss: 1.9250 - val_acc: 0.3250\n",
      "Epoch 11/20\n",
      "18647/18647 [==============================] - 13s 671us/step - loss: 1.8678 - acc: 0.3353 - val_loss: 1.9201 - val_acc: 0.3280\n",
      "Epoch 12/20\n",
      "18647/18647 [==============================] - 12s 669us/step - loss: 1.8505 - acc: 0.3383 - val_loss: 1.9186 - val_acc: 0.3239\n",
      "Epoch 13/20\n",
      "18647/18647 [==============================] - 13s 688us/step - loss: 1.8391 - acc: 0.3396 - val_loss: 1.9188 - val_acc: 0.3269\n",
      "Epoch 14/20\n",
      "18647/18647 [==============================] - 13s 671us/step - loss: 1.8249 - acc: 0.3478 - val_loss: 1.9133 - val_acc: 0.3190\n",
      "Epoch 15/20\n",
      "18647/18647 [==============================] - 13s 678us/step - loss: 1.8129 - acc: 0.3484 - val_loss: 1.9155 - val_acc: 0.3263\n",
      "Epoch 16/20\n",
      "18647/18647 [==============================] - 13s 671us/step - loss: 1.7991 - acc: 0.3574 - val_loss: 1.9160 - val_acc: 0.3256\n",
      "Epoch 17/20\n",
      "18647/18647 [==============================] - 13s 671us/step - loss: 1.7864 - acc: 0.3576 - val_loss: 1.9186 - val_acc: 0.3256\n",
      "Epoch 18/20\n",
      "18647/18647 [==============================] - 13s 689us/step - loss: 1.7758 - acc: 0.3644 - val_loss: 1.9195 - val_acc: 0.3316\n",
      "Epoch 19/20\n",
      "18647/18647 [==============================] - 13s 682us/step - loss: 1.7558 - acc: 0.3657 - val_loss: 1.9195 - val_acc: 0.3293\n",
      "Validation Log Loss of  Model in Current Run:  1.9140068112971627\n",
      "Train on 18647 samples, validate on 4662 samples\n",
      "Epoch 1/20\n",
      "18647/18647 [==============================] - 14s 738us/step - loss: 2.3000 - acc: 0.1766 - val_loss: 2.1198 - val_acc: 0.2516\n",
      "Epoch 2/20\n",
      "18647/18647 [==============================] - 13s 680us/step - loss: 2.1375 - acc: 0.2405 - val_loss: 2.0578 - val_acc: 0.2756\n",
      "Epoch 3/20\n",
      "18647/18647 [==============================] - 13s 673us/step - loss: 2.0664 - acc: 0.2682 - val_loss: 2.0093 - val_acc: 0.3046\n",
      "Epoch 4/20\n",
      "18647/18647 [==============================] - 12s 670us/step - loss: 2.0227 - acc: 0.2830 - val_loss: 1.9804 - val_acc: 0.3095\n",
      "Epoch 5/20\n",
      "18647/18647 [==============================] - 13s 706us/step - loss: 1.9970 - acc: 0.2867 - val_loss: 1.9825 - val_acc: 0.3050\n",
      "Epoch 6/20\n",
      "18647/18647 [==============================] - 13s 683us/step - loss: 1.9655 - acc: 0.3025 - val_loss: 1.9527 - val_acc: 0.3142\n",
      "Epoch 7/20\n",
      "18647/18647 [==============================] - 13s 673us/step - loss: 1.9443 - acc: 0.3083 - val_loss: 1.9492 - val_acc: 0.3160\n",
      "Epoch 8/20\n",
      "18647/18647 [==============================] - 13s 673us/step - loss: 1.9345 - acc: 0.3100 - val_loss: 1.9379 - val_acc: 0.3207\n",
      "Epoch 9/20\n",
      "18647/18647 [==============================] - 13s 671us/step - loss: 1.9052 - acc: 0.3213 - val_loss: 1.9330 - val_acc: 0.3256\n",
      "Epoch 10/20\n",
      "18647/18647 [==============================] - 13s 684us/step - loss: 1.8877 - acc: 0.3217 - val_loss: 1.9264 - val_acc: 0.3220\n",
      "Epoch 11/20\n",
      "18647/18647 [==============================] - 13s 692us/step - loss: 1.8736 - acc: 0.3276 - val_loss: 1.9282 - val_acc: 0.3226\n",
      "Epoch 12/20\n",
      "18647/18647 [==============================] - 13s 672us/step - loss: 1.8600 - acc: 0.3342 - val_loss: 1.9255 - val_acc: 0.3265\n",
      "Epoch 13/20\n",
      "18647/18647 [==============================] - 13s 680us/step - loss: 1.8458 - acc: 0.3393 - val_loss: 1.9290 - val_acc: 0.3235\n",
      "Epoch 14/20\n",
      "18647/18647 [==============================] - 13s 673us/step - loss: 1.8238 - acc: 0.3458 - val_loss: 1.9250 - val_acc: 0.3209\n",
      "Epoch 15/20\n",
      "18647/18647 [==============================] - 13s 682us/step - loss: 1.8125 - acc: 0.3499 - val_loss: 1.9232 - val_acc: 0.3301\n",
      "Epoch 16/20\n",
      "18647/18647 [==============================] - 13s 671us/step - loss: 1.7955 - acc: 0.3566 - val_loss: 1.9250 - val_acc: 0.3284\n",
      "Epoch 17/20\n",
      "18647/18647 [==============================] - 13s 674us/step - loss: 1.7869 - acc: 0.3570 - val_loss: 1.9201 - val_acc: 0.3252\n",
      "Epoch 18/20\n",
      "18647/18647 [==============================] - 13s 672us/step - loss: 1.7782 - acc: 0.3604 - val_loss: 1.9232 - val_acc: 0.3271\n",
      "Epoch 19/20\n",
      "18647/18647 [==============================] - 13s 671us/step - loss: 1.7624 - acc: 0.3656 - val_loss: 1.9235 - val_acc: 0.3273\n",
      "Epoch 20/20\n",
      "18647/18647 [==============================] - 13s 682us/step - loss: 1.7523 - acc: 0.3702 - val_loss: 1.9294 - val_acc: 0.3233\n",
      "Validation Log Loss of  Model in Current Run:  1.931250706187588\n",
      "Train on 18647 samples, validate on 4662 samples\n",
      "Epoch 1/20\n",
      "18647/18647 [==============================] - 14s 743us/step - loss: 2.3020 - acc: 0.1755 - val_loss: 2.1719 - val_acc: 0.2447\n",
      "Epoch 2/20\n",
      "18647/18647 [==============================] - 13s 684us/step - loss: 2.1473 - acc: 0.2391 - val_loss: 2.0620 - val_acc: 0.2879\n",
      "Epoch 3/20\n",
      "18647/18647 [==============================] - 13s 670us/step - loss: 2.0769 - acc: 0.2637 - val_loss: 2.0226 - val_acc: 0.2913\n",
      "Epoch 4/20\n",
      "18647/18647 [==============================] - 12s 670us/step - loss: 2.0293 - acc: 0.2819 - val_loss: 1.9806 - val_acc: 0.3095\n",
      "Epoch 5/20\n",
      "18647/18647 [==============================] - 13s 671us/step - loss: 1.9921 - acc: 0.2883 - val_loss: 1.9677 - val_acc: 0.3106\n",
      "Epoch 6/20\n",
      "18647/18647 [==============================] - 13s 671us/step - loss: 1.9660 - acc: 0.2986 - val_loss: 1.9530 - val_acc: 0.3091\n",
      "Epoch 7/20\n",
      "18647/18647 [==============================] - 13s 672us/step - loss: 1.9441 - acc: 0.3065 - val_loss: 1.9440 - val_acc: 0.3196\n",
      "Epoch 8/20\n",
      "18647/18647 [==============================] - 13s 681us/step - loss: 1.9180 - acc: 0.3179 - val_loss: 1.9349 - val_acc: 0.3170\n",
      "Epoch 9/20\n",
      "18647/18647 [==============================] - 13s 673us/step - loss: 1.9047 - acc: 0.3195 - val_loss: 1.9398 - val_acc: 0.3130\n",
      "Epoch 10/20\n",
      "18647/18647 [==============================] - 13s 672us/step - loss: 1.8874 - acc: 0.3238 - val_loss: 1.9319 - val_acc: 0.3196\n",
      "Epoch 11/20\n",
      "18647/18647 [==============================] - 13s 675us/step - loss: 1.8691 - acc: 0.3360 - val_loss: 1.9224 - val_acc: 0.3183\n",
      "Epoch 12/20\n",
      "18647/18647 [==============================] - 13s 672us/step - loss: 1.8557 - acc: 0.3347 - val_loss: 1.9231 - val_acc: 0.3224\n",
      "Epoch 13/20\n",
      "18647/18647 [==============================] - 13s 672us/step - loss: 1.8390 - acc: 0.3421 - val_loss: 1.9157 - val_acc: 0.3267\n",
      "Epoch 14/20\n",
      "18647/18647 [==============================] - 13s 704us/step - loss: 1.8364 - acc: 0.3435 - val_loss: 1.9180 - val_acc: 0.3207\n",
      "Epoch 15/20\n",
      "18647/18647 [==============================] - 13s 674us/step - loss: 1.8119 - acc: 0.3518 - val_loss: 1.9152 - val_acc: 0.3243\n",
      "Epoch 16/20\n",
      "18647/18647 [==============================] - 13s 676us/step - loss: 1.8000 - acc: 0.3563 - val_loss: 1.9272 - val_acc: 0.3218\n",
      "Epoch 17/20\n"
     ]
    },
    {
     "name": "stdout",
     "output_type": "stream",
     "text": [
      "18647/18647 [==============================] - 12s 668us/step - loss: 1.7849 - acc: 0.3569 - val_loss: 1.9178 - val_acc: 0.3202\n",
      "Epoch 18/20\n",
      "18647/18647 [==============================] - 13s 678us/step - loss: 1.7698 - acc: 0.3635 - val_loss: 1.9196 - val_acc: 0.3226\n",
      "Epoch 19/20\n",
      "18647/18647 [==============================] - 14s 736us/step - loss: 1.7556 - acc: 0.3684 - val_loss: 1.9224 - val_acc: 0.3228\n",
      "Epoch 20/20\n",
      "18647/18647 [==============================] - 13s 674us/step - loss: 1.7484 - acc: 0.3674 - val_loss: 1.9299 - val_acc: 0.3179\n",
      "Validation Log Loss of  Model in Current Run:  1.9163242903252777\n",
      "Train on 18647 samples, validate on 4662 samples\n",
      "Epoch 1/20\n",
      "18647/18647 [==============================] - 14s 744us/step - loss: 2.2927 - acc: 0.1831 - val_loss: 2.1202 - val_acc: 0.2649\n",
      "Epoch 2/20\n",
      "18647/18647 [==============================] - 13s 678us/step - loss: 2.1295 - acc: 0.2446 - val_loss: 2.0466 - val_acc: 0.2896\n",
      "Epoch 3/20\n",
      "18647/18647 [==============================] - 13s 679us/step - loss: 2.0671 - acc: 0.2722 - val_loss: 1.9978 - val_acc: 0.3106\n",
      "Epoch 4/20\n",
      "18647/18647 [==============================] - 13s 680us/step - loss: 2.0225 - acc: 0.2811 - val_loss: 1.9880 - val_acc: 0.3190\n",
      "Epoch 5/20\n",
      "18647/18647 [==============================] - 12s 668us/step - loss: 1.9898 - acc: 0.2908 - val_loss: 1.9616 - val_acc: 0.3220\n",
      "Epoch 6/20\n",
      "18647/18647 [==============================] - 12s 668us/step - loss: 1.9672 - acc: 0.2970 - val_loss: 1.9516 - val_acc: 0.3123\n",
      "Epoch 7/20\n",
      "18647/18647 [==============================] - 12s 668us/step - loss: 1.9408 - acc: 0.3098 - val_loss: 1.9389 - val_acc: 0.3248\n",
      "Epoch 8/20\n",
      "18647/18647 [==============================] - 12s 668us/step - loss: 1.9200 - acc: 0.3161 - val_loss: 1.9370 - val_acc: 0.3179\n",
      "Epoch 9/20\n",
      "18647/18647 [==============================] - 13s 679us/step - loss: 1.8977 - acc: 0.3258 - val_loss: 1.9315 - val_acc: 0.3256\n",
      "Epoch 10/20\n",
      "18647/18647 [==============================] - 13s 672us/step - loss: 1.8805 - acc: 0.3272 - val_loss: 1.9266 - val_acc: 0.3237\n",
      "Epoch 11/20\n",
      "18647/18647 [==============================] - 12s 669us/step - loss: 1.8619 - acc: 0.3347 - val_loss: 1.9241 - val_acc: 0.3278\n",
      "Epoch 12/20\n",
      "18647/18647 [==============================] - 12s 669us/step - loss: 1.8489 - acc: 0.3408 - val_loss: 1.9176 - val_acc: 0.3284\n",
      "Epoch 13/20\n",
      "18647/18647 [==============================] - 12s 669us/step - loss: 1.8276 - acc: 0.3441 - val_loss: 1.9173 - val_acc: 0.3280\n",
      "Epoch 14/20\n",
      "18647/18647 [==============================] - 12s 668us/step - loss: 1.8108 - acc: 0.3474 - val_loss: 1.9154 - val_acc: 0.3286\n",
      "Epoch 15/20\n",
      "18647/18647 [==============================] - 13s 678us/step - loss: 1.8056 - acc: 0.3522 - val_loss: 1.9213 - val_acc: 0.3248\n",
      "Epoch 16/20\n",
      "18647/18647 [==============================] - 12s 668us/step - loss: 1.7945 - acc: 0.3565 - val_loss: 1.9199 - val_acc: 0.3228\n",
      "Epoch 17/20\n",
      "18647/18647 [==============================] - 12s 667us/step - loss: 1.7794 - acc: 0.3632 - val_loss: 1.9202 - val_acc: 0.3280\n",
      "Epoch 18/20\n",
      "18647/18647 [==============================] - 12s 668us/step - loss: 1.7659 - acc: 0.3667 - val_loss: 1.9220 - val_acc: 0.3258\n",
      "Epoch 19/20\n",
      "18647/18647 [==============================] - 12s 668us/step - loss: 1.7435 - acc: 0.3772 - val_loss: 1.9253 - val_acc: 0.3271\n",
      "Validation Log Loss of  Model in Current Run:  1.9166430982171567\n",
      "Train on 18647 samples, validate on 4662 samples\n",
      "Epoch 1/20\n",
      "18647/18647 [==============================] - 14s 753us/step - loss: 2.2807 - acc: 0.1910 - val_loss: 2.1402 - val_acc: 0.2465\n",
      "Epoch 2/20\n",
      "18647/18647 [==============================] - 13s 679us/step - loss: 2.1289 - acc: 0.2414 - val_loss: 2.0465 - val_acc: 0.2844\n",
      "Epoch 3/20\n",
      "18647/18647 [==============================] - 12s 669us/step - loss: 2.0634 - acc: 0.2693 - val_loss: 2.0114 - val_acc: 0.2917\n",
      "Epoch 4/20\n",
      "18647/18647 [==============================] - 13s 680us/step - loss: 2.0224 - acc: 0.2810 - val_loss: 1.9885 - val_acc: 0.3044\n",
      "Epoch 5/20\n",
      "18647/18647 [==============================] - 13s 684us/step - loss: 1.9924 - acc: 0.2930 - val_loss: 1.9614 - val_acc: 0.3222\n",
      "Epoch 6/20\n",
      "18647/18647 [==============================] - 12s 669us/step - loss: 1.9604 - acc: 0.3025 - val_loss: 1.9475 - val_acc: 0.3228\n",
      "Epoch 7/20\n",
      "18647/18647 [==============================] - 13s 689us/step - loss: 1.9405 - acc: 0.3083 - val_loss: 1.9540 - val_acc: 0.3102\n",
      "Epoch 8/20\n",
      "18647/18647 [==============================] - 13s 683us/step - loss: 1.9149 - acc: 0.3185 - val_loss: 1.9298 - val_acc: 0.3265\n",
      "Epoch 9/20\n",
      "18647/18647 [==============================] - 13s 676us/step - loss: 1.8934 - acc: 0.3254 - val_loss: 1.9338 - val_acc: 0.3241\n",
      "Epoch 10/20\n",
      "18647/18647 [==============================] - 13s 689us/step - loss: 1.8750 - acc: 0.3296 - val_loss: 1.9287 - val_acc: 0.3194\n",
      "Epoch 11/20\n",
      "18647/18647 [==============================] - 13s 672us/step - loss: 1.8637 - acc: 0.3316 - val_loss: 1.9216 - val_acc: 0.3303\n",
      "Epoch 12/20\n",
      "18647/18647 [==============================] - 13s 673us/step - loss: 1.8465 - acc: 0.3405 - val_loss: 1.9219 - val_acc: 0.3237\n",
      "Epoch 13/20\n",
      "18647/18647 [==============================] - 13s 683us/step - loss: 1.8290 - acc: 0.3474 - val_loss: 1.9173 - val_acc: 0.3284\n",
      "Epoch 14/20\n",
      "18647/18647 [==============================] - 13s 707us/step - loss: 1.8169 - acc: 0.3520 - val_loss: 1.9181 - val_acc: 0.3245\n",
      "Epoch 15/20\n",
      "18647/18647 [==============================] - 13s 677us/step - loss: 1.8072 - acc: 0.3532 - val_loss: 1.9161 - val_acc: 0.3226\n",
      "Epoch 16/20\n",
      "18647/18647 [==============================] - 13s 697us/step - loss: 1.7960 - acc: 0.3563 - val_loss: 1.9203 - val_acc: 0.3256\n",
      "Epoch 17/20\n",
      "18647/18647 [==============================] - 13s 680us/step - loss: 1.7756 - acc: 0.3639 - val_loss: 1.9172 - val_acc: 0.3308\n",
      "Epoch 18/20\n",
      "18647/18647 [==============================] - 13s 687us/step - loss: 1.7692 - acc: 0.3647 - val_loss: 1.9223 - val_acc: 0.3235\n",
      "Epoch 19/20\n",
      "18647/18647 [==============================] - 13s 694us/step - loss: 1.7502 - acc: 0.3696 - val_loss: 1.9249 - val_acc: 0.3245\n",
      "Epoch 20/20\n",
      "18647/18647 [==============================] - 13s 671us/step - loss: 1.7441 - acc: 0.3759 - val_loss: 1.9214 - val_acc: 0.3230\n",
      "Validation Log Loss of  Model in Current Run:  1.9168595104073367\n",
      "Train on 18647 samples, validate on 4662 samples\n",
      "Epoch 1/20\n",
      "18647/18647 [==============================] - 14s 761us/step - loss: 2.2995 - acc: 0.1770 - val_loss: 2.1325 - val_acc: 0.2535\n",
      "Epoch 2/20\n",
      "18647/18647 [==============================] - 13s 683us/step - loss: 2.1400 - acc: 0.2423 - val_loss: 2.0382 - val_acc: 0.2849\n",
      "Epoch 3/20\n",
      "18647/18647 [==============================] - 12s 670us/step - loss: 2.0710 - acc: 0.2612 - val_loss: 2.0081 - val_acc: 0.2939\n",
      "Epoch 4/20\n",
      "18647/18647 [==============================] - 13s 680us/step - loss: 2.0194 - acc: 0.2844 - val_loss: 1.9905 - val_acc: 0.3031\n",
      "Epoch 5/20\n",
      "18647/18647 [==============================] - 12s 670us/step - loss: 1.9945 - acc: 0.2931 - val_loss: 1.9651 - val_acc: 0.3164\n",
      "Epoch 6/20\n",
      "18647/18647 [==============================] - 13s 680us/step - loss: 1.9657 - acc: 0.3037 - val_loss: 1.9605 - val_acc: 0.3095\n",
      "Epoch 7/20\n",
      "18647/18647 [==============================] - 12s 670us/step - loss: 1.9382 - acc: 0.3103 - val_loss: 1.9444 - val_acc: 0.3136\n",
      "Epoch 8/20\n",
      "18647/18647 [==============================] - 13s 672us/step - loss: 1.9220 - acc: 0.3146 - val_loss: 1.9327 - val_acc: 0.3147\n",
      "Epoch 9/20\n",
      "18647/18647 [==============================] - 13s 683us/step - loss: 1.9013 - acc: 0.3233 - val_loss: 1.9436 - val_acc: 0.3185\n",
      "Epoch 10/20\n",
      "18647/18647 [==============================] - 13s 671us/step - loss: 1.8812 - acc: 0.3258 - val_loss: 1.9264 - val_acc: 0.3181\n",
      "Epoch 11/20\n",
      "18647/18647 [==============================] - 13s 674us/step - loss: 1.8597 - acc: 0.3360 - val_loss: 1.9309 - val_acc: 0.3271\n",
      "Epoch 12/20\n",
      "18647/18647 [==============================] - 13s 671us/step - loss: 1.8444 - acc: 0.3414 - val_loss: 1.9175 - val_acc: 0.3218\n",
      "Epoch 13/20\n",
      "18647/18647 [==============================] - 13s 671us/step - loss: 1.8348 - acc: 0.3481 - val_loss: 1.9145 - val_acc: 0.3198\n",
      "Epoch 14/20\n",
      "18647/18647 [==============================] - 13s 678us/step - loss: 1.8218 - acc: 0.3482 - val_loss: 1.9140 - val_acc: 0.3248\n",
      "Epoch 15/20\n",
      "18647/18647 [==============================] - 12s 670us/step - loss: 1.8091 - acc: 0.3505 - val_loss: 1.9138 - val_acc: 0.3243\n",
      "Epoch 16/20\n",
      "18647/18647 [==============================] - 12s 670us/step - loss: 1.7979 - acc: 0.3572 - val_loss: 1.9144 - val_acc: 0.3222\n",
      "Epoch 17/20\n",
      "18647/18647 [==============================] - 12s 670us/step - loss: 1.7874 - acc: 0.3592 - val_loss: 1.9113 - val_acc: 0.3267\n",
      "Epoch 18/20\n",
      "18647/18647 [==============================] - 13s 683us/step - loss: 1.7722 - acc: 0.3657 - val_loss: 1.9175 - val_acc: 0.3198\n",
      "Epoch 19/20\n",
      "18647/18647 [==============================] - 12s 669us/step - loss: 1.7532 - acc: 0.3692 - val_loss: 1.9164 - val_acc: 0.3239\n",
      "Epoch 20/20\n",
      "18647/18647 [==============================] - 13s 671us/step - loss: 1.7365 - acc: 0.3746 - val_loss: 1.9194 - val_acc: 0.3220\n",
      "Validation Log Loss of  Model in Current Run:  1.920602684337442\n",
      "Train on 18647 samples, validate on 4662 samples\n",
      "Epoch 1/20\n",
      "18647/18647 [==============================] - 14s 753us/step - loss: 2.2878 - acc: 0.1816 - val_loss: 2.1104 - val_acc: 0.2728\n",
      "Epoch 2/20\n",
      "18647/18647 [==============================] - 13s 671us/step - loss: 2.1334 - acc: 0.2433 - val_loss: 2.0894 - val_acc: 0.2703\n",
      "Epoch 3/20\n",
      "18647/18647 [==============================] - 12s 670us/step - loss: 2.0726 - acc: 0.2621 - val_loss: 2.0094 - val_acc: 0.2975\n",
      "Epoch 4/20\n",
      "18647/18647 [==============================] - 13s 670us/step - loss: 2.0198 - acc: 0.2815 - val_loss: 1.9764 - val_acc: 0.3065\n",
      "Epoch 5/20\n",
      "18647/18647 [==============================] - 13s 671us/step - loss: 1.9876 - acc: 0.2886 - val_loss: 1.9719 - val_acc: 0.3093\n",
      "Epoch 6/20\n",
      "18647/18647 [==============================] - 13s 672us/step - loss: 1.9728 - acc: 0.3005 - val_loss: 1.9517 - val_acc: 0.3127\n",
      "Epoch 7/20\n",
      "18647/18647 [==============================] - 13s 673us/step - loss: 1.9442 - acc: 0.3066 - val_loss: 1.9433 - val_acc: 0.3233\n",
      "Epoch 8/20\n",
      "18647/18647 [==============================] - 13s 671us/step - loss: 1.9259 - acc: 0.3136 - val_loss: 1.9560 - val_acc: 0.3185\n",
      "Epoch 9/20\n",
      "18647/18647 [==============================] - 13s 671us/step - loss: 1.9063 - acc: 0.3193 - val_loss: 1.9275 - val_acc: 0.3215\n",
      "Epoch 10/20\n",
      "18647/18647 [==============================] - 13s 671us/step - loss: 1.8844 - acc: 0.3259 - val_loss: 1.9279 - val_acc: 0.3211\n",
      "Epoch 11/20\n",
      "18647/18647 [==============================] - 13s 685us/step - loss: 1.8723 - acc: 0.3301 - val_loss: 1.9284 - val_acc: 0.3220\n",
      "Epoch 12/20\n",
      "18647/18647 [==============================] - 13s 674us/step - loss: 1.8494 - acc: 0.3405 - val_loss: 1.9195 - val_acc: 0.3207\n",
      "Epoch 13/20\n",
      "18647/18647 [==============================] - 13s 673us/step - loss: 1.8427 - acc: 0.3424 - val_loss: 1.9223 - val_acc: 0.3198\n",
      "Epoch 14/20\n",
      "18647/18647 [==============================] - 13s 673us/step - loss: 1.8287 - acc: 0.3451 - val_loss: 1.9185 - val_acc: 0.3250\n",
      "Epoch 15/20\n",
      "18647/18647 [==============================] - 13s 673us/step - loss: 1.8114 - acc: 0.3522 - val_loss: 1.9179 - val_acc: 0.3243\n",
      "Epoch 16/20\n",
      "18647/18647 [==============================] - 13s 690us/step - loss: 1.8026 - acc: 0.3505 - val_loss: 1.9198 - val_acc: 0.3205\n",
      "Epoch 17/20\n",
      "18647/18647 [==============================] - 13s 705us/step - loss: 1.7891 - acc: 0.3569 - val_loss: 1.9230 - val_acc: 0.3243\n",
      "Epoch 18/20\n",
      "18647/18647 [==============================] - 13s 674us/step - loss: 1.7762 - acc: 0.3591 - val_loss: 1.9210 - val_acc: 0.3316\n",
      "Epoch 19/20\n",
      "18647/18647 [==============================] - 13s 678us/step - loss: 1.7602 - acc: 0.3643 - val_loss: 1.9186 - val_acc: 0.3252\n",
      "Epoch 20/20\n",
      "18647/18647 [==============================] - 13s 676us/step - loss: 1.7454 - acc: 0.3723 - val_loss: 1.9204 - val_acc: 0.3237\n",
      "Validation Log Loss of  Model in Current Run:  1.9189568863099289\n",
      "Average CV Loss of 10 Runs : 1.9183542405874423\n"
     ]
    }
   ],
   "source": [
    "model_list_2=events_average_nn_1(10)"
   ]
  },
  {
   "cell_type": "code",
   "execution_count": 66,
   "metadata": {},
   "outputs": [
    {
     "name": "stdout",
     "output_type": "stream",
     "text": [
      "Train Average Log-Loss:  1.6005458537252866\n"
     ]
    }
   ],
   "source": [
    "avg_pred=np.zeros((xtr.shape[0],12))\n",
    "for i in range(len(model_list_2)):\n",
    "    train_pred=model_list_2[i].predict_proba(xtr)\n",
    "    avg_pred+=train_pred\n",
    "avg_pred/=len(model_list_2)\n",
    "print(\"Train Average Log-Loss: \",log_loss(ytr, avg_pred))"
   ]
  },
  {
   "cell_type": "code",
   "execution_count": 67,
   "metadata": {},
   "outputs": [
    {
     "name": "stdout",
     "output_type": "stream",
     "text": [
      "Validation Average Log-Loss:  1.9049909680840842\n"
     ]
    }
   ],
   "source": [
    "avg_pred=np.zeros((xcv.shape[0],12))\n",
    "for i in range(len(model_list_2)):\n",
    "    cv_pred=model_list_2[i].predict_proba(xcv)\n",
    "    avg_pred+=cv_pred\n",
    "avg_pred/=len(model_list_2)\n",
    "print(\"Validation Average Log-Loss: \",log_loss(ycv, avg_pred))"
   ]
  },
  {
   "cell_type": "code",
   "execution_count": 63,
   "metadata": {},
   "outputs": [],
   "source": [
    "avg_pred=np.zeros((X_test_events.shape[0],12))\n",
    "for i in range(len(model_list_2)):\n",
    "    test_pred=model_list_2[i].predict_proba(X_test_events)\n",
    "    avg_pred+=test_pred\n",
    "avg_pred/=len(model_list_2)"
   ]
  },
  {
   "cell_type": "code",
   "execution_count": 64,
   "metadata": {},
   "outputs": [],
   "source": [
    "np.save('results/nn1_events',avg_pred)"
   ]
  },
  {
   "cell_type": "markdown",
   "metadata": {},
   "source": [
    "#### Observations:\n",
    "1. train and validation log-loss was 1.66 and 1.91 respectively.\n",
    "2. as we have included more features,log-loss for devices with events is much lower than log-loss which was got when modelling without events"
   ]
  },
  {
   "cell_type": "markdown",
   "metadata": {},
   "source": [
    "### 7.2.2: Modelling Neural Network 2:"
   ]
  },
  {
   "cell_type": "markdown",
   "metadata": {},
   "source": [
    "Architecture reffered from [here](https://github.com/chechir/talking_data)"
   ]
  },
  {
   "cell_type": "code",
   "execution_count": 68,
   "metadata": {},
   "outputs": [],
   "source": [
    "def events_nn_model2(input_dim,output_dim):\n",
    "    model = Sequential()\n",
    "    model.add(Dropout(0.4, input_shape=(input_dim,)))\n",
    "    model.add(Dense(75))\n",
    "    model.add(PReLU())\n",
    "    model.add(Dropout(0.30))\n",
    "    model.add(Dense(50, init='normal', activation='tanh'))\n",
    "    model.add(PReLU())\n",
    "    model.add(Dropout(0.20))\n",
    "    model.add(Dense(output_dim, init='normal', activation='softmax'))\n",
    "    model.compile(loss='categorical_crossentropy', optimizer='adadelta', metrics=['accuracy'])\n",
    "    return model"
   ]
  },
  {
   "cell_type": "code",
   "execution_count": 69,
   "metadata": {},
   "outputs": [
    {
     "name": "stdout",
     "output_type": "stream",
     "text": [
      "_________________________________________________________________\n",
      "Layer (type)                 Output Shape              Param #   \n",
      "=================================================================\n",
      "dropout_61 (Dropout)         (None, 21576)             0         \n",
      "_________________________________________________________________\n",
      "dense_67 (Dense)             (None, 75)                1618275   \n",
      "_________________________________________________________________\n",
      "p_re_lu_49 (PReLU)           (None, 75)                75        \n",
      "_________________________________________________________________\n",
      "dropout_62 (Dropout)         (None, 75)                0         \n",
      "_________________________________________________________________\n",
      "dense_68 (Dense)             (None, 50)                3800      \n",
      "_________________________________________________________________\n",
      "p_re_lu_50 (PReLU)           (None, 50)                50        \n",
      "_________________________________________________________________\n",
      "dropout_63 (Dropout)         (None, 50)                0         \n",
      "_________________________________________________________________\n",
      "dense_69 (Dense)             (None, 12)                612       \n",
      "=================================================================\n",
      "Total params: 1,622,812\n",
      "Trainable params: 1,622,812\n",
      "Non-trainable params: 0\n",
      "_________________________________________________________________\n"
     ]
    }
   ],
   "source": [
    "model_sum=events_nn_model2(xtr.shape[1],12)\n",
    "model_sum.summary()"
   ]
  },
  {
   "cell_type": "markdown",
   "metadata": {},
   "source": [
    "A neural network ensemble was utilized for better reults. Refer [this](https://machinelearningmastery.com/model-averaging-ensemble-for-deep-learning-neural-networks/) for more information"
   ]
  },
  {
   "cell_type": "code",
   "execution_count": 71,
   "metadata": {},
   "outputs": [],
   "source": [
    "def events_average_nn_2(state):\n",
    "\n",
    "    model_list=[]\n",
    "    loss_list=[]\n",
    "    avg_cv_loss=0\n",
    "    for i in range((state)):\n",
    "        model=events_nn_model2(xtr.shape[1],12)\n",
    "        model.fit(xtr, ytr, batch_size=149, epochs=20, verbose=1, validation_data=(xcv, ycv),callbacks=[early_stop])\n",
    "        model.save('saved_models/events/nn2'+str(i+1))\n",
    "        pred=model.predict_proba(xcv)\n",
    "        cv_loss=log_loss(ycv, pred)\n",
    "        print(\"Validation Log Loss of  Model in Current Run: \",cv_loss)\n",
    "        model_list.append(model)\n",
    "        loss_list.append(cv_loss)\n",
    "    avg_cv_loss=mean(loss_list)\n",
    "    print(\"Average CV Loss of \"+str((state))+\" Runs :\",avg_cv_loss)\n",
    "    return(model_list)"
   ]
  },
  {
   "cell_type": "code",
   "execution_count": 72,
   "metadata": {
    "scrolled": true
   },
   "outputs": [
    {
     "name": "stdout",
     "output_type": "stream",
     "text": [
      "Train on 18647 samples, validate on 4662 samples\n",
      "Epoch 1/20\n",
      "18647/18647 [==============================] - 10s 552us/step - loss: 2.3288 - acc: 0.1710 - val_loss: 2.2148 - val_acc: 0.1971\n",
      "Epoch 2/20\n",
      "18647/18647 [==============================] - 9s 479us/step - loss: 2.1543 - acc: 0.2370 - val_loss: 2.0538 - val_acc: 0.2915\n",
      "Epoch 3/20\n",
      "18647/18647 [==============================] - 9s 480us/step - loss: 2.0850 - acc: 0.2644 - val_loss: 2.0111 - val_acc: 0.3001\n",
      "Epoch 4/20\n",
      "18647/18647 [==============================] - 9s 481us/step - loss: 2.0452 - acc: 0.2811 - val_loss: 2.0480 - val_acc: 0.2917\n",
      "Epoch 5/20\n",
      "18647/18647 [==============================] - 9s 483us/step - loss: 2.0171 - acc: 0.2899 - val_loss: 1.9622 - val_acc: 0.3198\n",
      "Epoch 6/20\n",
      "18647/18647 [==============================] - 9s 500us/step - loss: 1.9927 - acc: 0.3023 - val_loss: 1.9699 - val_acc: 0.3014\n",
      "Epoch 7/20\n",
      "18647/18647 [==============================] - 9s 493us/step - loss: 1.9753 - acc: 0.3019 - val_loss: 1.9531 - val_acc: 0.3190\n",
      "Epoch 8/20\n",
      "18647/18647 [==============================] - 9s 488us/step - loss: 1.9561 - acc: 0.3114 - val_loss: 1.9420 - val_acc: 0.3170\n",
      "Epoch 9/20\n",
      "18647/18647 [==============================] - 9s 491us/step - loss: 1.9335 - acc: 0.3195 - val_loss: 1.9389 - val_acc: 0.3248\n",
      "Epoch 10/20\n",
      "18647/18647 [==============================] - 9s 495us/step - loss: 1.9273 - acc: 0.3188 - val_loss: 1.9234 - val_acc: 0.3271\n",
      "Epoch 11/20\n",
      "18647/18647 [==============================] - 9s 489us/step - loss: 1.9058 - acc: 0.3288 - val_loss: 1.9319 - val_acc: 0.3260\n",
      "Epoch 12/20\n",
      "18647/18647 [==============================] - 9s 490us/step - loss: 1.8991 - acc: 0.3294 - val_loss: 1.9365 - val_acc: 0.3252\n",
      "Epoch 13/20\n",
      "18647/18647 [==============================] - 9s 489us/step - loss: 1.8780 - acc: 0.3389 - val_loss: 1.9154 - val_acc: 0.3295\n",
      "Epoch 14/20\n",
      "18647/18647 [==============================] - 9s 489us/step - loss: 1.8668 - acc: 0.3420 - val_loss: 1.9525 - val_acc: 0.3218\n",
      "Epoch 15/20\n",
      "18647/18647 [==============================] - 9s 490us/step - loss: 1.8614 - acc: 0.3436 - val_loss: 1.9254 - val_acc: 0.3267\n",
      "Epoch 16/20\n",
      "18647/18647 [==============================] - 9s 507us/step - loss: 1.8379 - acc: 0.3501 - val_loss: 1.9210 - val_acc: 0.3282\n",
      "Epoch 17/20\n",
      "18647/18647 [==============================] - 9s 496us/step - loss: 1.8369 - acc: 0.3494 - val_loss: 1.9458 - val_acc: 0.3209\n",
      "Epoch 18/20\n",
      "18647/18647 [==============================] - 9s 503us/step - loss: 1.8156 - acc: 0.3573 - val_loss: 1.9301 - val_acc: 0.3258\n",
      "Validation Log Loss of  Model in Current Run:  1.9153765213113647\n",
      "Train on 18647 samples, validate on 4662 samples\n",
      "Epoch 1/20\n",
      "18647/18647 [==============================] - 11s 566us/step - loss: 2.3316 - acc: 0.1723 - val_loss: 2.1592 - val_acc: 0.2454\n",
      "Epoch 2/20\n",
      "18647/18647 [==============================] - 9s 490us/step - loss: 2.1540 - acc: 0.2431 - val_loss: 2.1281 - val_acc: 0.2495\n",
      "Epoch 3/20\n",
      "18647/18647 [==============================] - 9s 491us/step - loss: 2.0861 - acc: 0.2675 - val_loss: 2.0816 - val_acc: 0.2645\n",
      "Epoch 4/20\n",
      "18647/18647 [==============================] - 9s 491us/step - loss: 2.0428 - acc: 0.2787 - val_loss: 2.0265 - val_acc: 0.2844\n",
      "Epoch 5/20\n",
      "18647/18647 [==============================] - 9s 500us/step - loss: 2.0111 - acc: 0.2939 - val_loss: 1.9736 - val_acc: 0.3093\n",
      "Epoch 6/20\n",
      "18647/18647 [==============================] - 9s 488us/step - loss: 1.9952 - acc: 0.2951 - val_loss: 1.9445 - val_acc: 0.3218\n",
      "Epoch 7/20\n",
      "18647/18647 [==============================] - 9s 498us/step - loss: 1.9723 - acc: 0.3026 - val_loss: 1.9534 - val_acc: 0.3160\n",
      "Epoch 8/20\n",
      "18647/18647 [==============================] - 9s 507us/step - loss: 1.9543 - acc: 0.3076 - val_loss: 1.9795 - val_acc: 0.3074\n",
      "Epoch 9/20\n",
      "18647/18647 [==============================] - 9s 490us/step - loss: 1.9366 - acc: 0.3172 - val_loss: 1.9351 - val_acc: 0.3233\n",
      "Epoch 10/20\n",
      "18647/18647 [==============================] - 9s 489us/step - loss: 1.9176 - acc: 0.3248 - val_loss: 1.9266 - val_acc: 0.3228\n",
      "Epoch 11/20\n",
      "18647/18647 [==============================] - 9s 489us/step - loss: 1.9032 - acc: 0.3244 - val_loss: 1.9268 - val_acc: 0.3241\n",
      "Epoch 12/20\n",
      "18647/18647 [==============================] - 9s 489us/step - loss: 1.8961 - acc: 0.3296 - val_loss: 1.9506 - val_acc: 0.3183\n",
      "Epoch 13/20\n",
      "18647/18647 [==============================] - 9s 490us/step - loss: 1.8822 - acc: 0.3322 - val_loss: 1.9287 - val_acc: 0.3269\n",
      "Epoch 14/20\n",
      "18647/18647 [==============================] - 9s 488us/step - loss: 1.8666 - acc: 0.3398 - val_loss: 1.9424 - val_acc: 0.3177\n",
      "Epoch 15/20\n",
      "18647/18647 [==============================] - 9s 489us/step - loss: 1.8472 - acc: 0.3442 - val_loss: 1.9745 - val_acc: 0.3057\n",
      "Validation Log Loss of  Model in Current Run:  1.9265678207210617\n",
      "Train on 18647 samples, validate on 4662 samples\n",
      "Epoch 1/20\n",
      "18647/18647 [==============================] - 11s 569us/step - loss: 2.3126 - acc: 0.1749 - val_loss: 2.1457 - val_acc: 0.2445\n",
      "Epoch 2/20\n",
      "18647/18647 [==============================] - 9s 498us/step - loss: 2.1443 - acc: 0.2420 - val_loss: 2.0455 - val_acc: 0.2849\n",
      "Epoch 3/20\n",
      "18647/18647 [==============================] - 9s 491us/step - loss: 2.0811 - acc: 0.2678 - val_loss: 2.0149 - val_acc: 0.2952\n",
      "Epoch 4/20\n",
      "18647/18647 [==============================] - 9s 500us/step - loss: 2.0393 - acc: 0.2817 - val_loss: 1.9913 - val_acc: 0.2969\n",
      "Epoch 5/20\n",
      "18647/18647 [==============================] - 9s 500us/step - loss: 2.0084 - acc: 0.2872 - val_loss: 1.9775 - val_acc: 0.3050\n",
      "Epoch 6/20\n",
      "18647/18647 [==============================] - 9s 490us/step - loss: 1.9887 - acc: 0.2992 - val_loss: 1.9510 - val_acc: 0.3110\n",
      "Epoch 7/20\n",
      "18647/18647 [==============================] - 9s 491us/step - loss: 1.9643 - acc: 0.3047 - val_loss: 1.9649 - val_acc: 0.3145\n",
      "Epoch 8/20\n",
      "18647/18647 [==============================] - 9s 500us/step - loss: 1.9507 - acc: 0.3107 - val_loss: 1.9382 - val_acc: 0.3112\n",
      "Epoch 9/20\n",
      "18647/18647 [==============================] - 9s 490us/step - loss: 1.9421 - acc: 0.3134 - val_loss: 1.9552 - val_acc: 0.3134\n",
      "Epoch 10/20\n",
      "18647/18647 [==============================] - 9s 500us/step - loss: 1.9197 - acc: 0.3218 - val_loss: 1.9219 - val_acc: 0.3286\n",
      "Epoch 11/20\n",
      "18647/18647 [==============================] - 9s 500us/step - loss: 1.9123 - acc: 0.3195 - val_loss: 1.9577 - val_acc: 0.3138\n",
      "Epoch 12/20\n",
      "18647/18647 [==============================] - 10s 551us/step - loss: 1.8917 - acc: 0.3275 - val_loss: 1.9285 - val_acc: 0.3228\n",
      "Epoch 13/20\n",
      "18647/18647 [==============================] - 9s 500us/step - loss: 1.8788 - acc: 0.3389 - val_loss: 1.9375 - val_acc: 0.3183\n",
      "Epoch 14/20\n",
      "18647/18647 [==============================] - 9s 495us/step - loss: 1.8560 - acc: 0.3464 - val_loss: 1.9564 - val_acc: 0.3042\n",
      "Epoch 15/20\n",
      "18647/18647 [==============================] - 9s 490us/step - loss: 1.8491 - acc: 0.3456 - val_loss: 1.9303 - val_acc: 0.3228\n",
      "Validation Log Loss of  Model in Current Run:  1.9219418945552478\n",
      "Train on 18647 samples, validate on 4662 samples\n",
      "Epoch 1/20\n",
      "18647/18647 [==============================] - 11s 569us/step - loss: 2.3190 - acc: 0.1737 - val_loss: 2.2148 - val_acc: 0.2319\n",
      "Epoch 2/20\n",
      "18647/18647 [==============================] - 9s 494us/step - loss: 2.1525 - acc: 0.2406 - val_loss: 2.0719 - val_acc: 0.2823\n",
      "Epoch 3/20\n",
      "18647/18647 [==============================] - 9s 493us/step - loss: 2.0863 - acc: 0.2637 - val_loss: 2.0593 - val_acc: 0.2840\n",
      "Epoch 4/20\n",
      "18647/18647 [==============================] - 9s 491us/step - loss: 2.0475 - acc: 0.2788 - val_loss: 2.0140 - val_acc: 0.2952\n",
      "Epoch 5/20\n",
      "18647/18647 [==============================] - 9s 493us/step - loss: 2.0148 - acc: 0.2907 - val_loss: 1.9760 - val_acc: 0.3065\n",
      "Epoch 6/20\n",
      "18647/18647 [==============================] - 9s 491us/step - loss: 1.9923 - acc: 0.2985 - val_loss: 1.9576 - val_acc: 0.3061\n",
      "Epoch 7/20\n",
      "18647/18647 [==============================] - 9s 491us/step - loss: 1.9730 - acc: 0.3027 - val_loss: 1.9394 - val_acc: 0.3228\n",
      "Epoch 8/20\n",
      "18647/18647 [==============================] - 9s 492us/step - loss: 1.9541 - acc: 0.3110 - val_loss: 1.9632 - val_acc: 0.3145\n",
      "Epoch 9/20\n",
      "18647/18647 [==============================] - 9s 497us/step - loss: 1.9339 - acc: 0.3167 - val_loss: 1.9610 - val_acc: 0.3181\n",
      "Epoch 10/20\n",
      "18647/18647 [==============================] - 9s 486us/step - loss: 1.9247 - acc: 0.3188 - val_loss: 1.9634 - val_acc: 0.3177\n",
      "Epoch 11/20\n",
      "18647/18647 [==============================] - 9s 500us/step - loss: 1.9040 - acc: 0.3283 - val_loss: 1.9431 - val_acc: 0.3183\n",
      "Epoch 12/20\n",
      "18647/18647 [==============================] - 9s 495us/step - loss: 1.8933 - acc: 0.3323 - val_loss: 1.9229 - val_acc: 0.3207\n",
      "Epoch 13/20\n",
      "18647/18647 [==============================] - 9s 484us/step - loss: 1.8827 - acc: 0.3353 - val_loss: 1.9161 - val_acc: 0.3275\n",
      "Epoch 14/20\n",
      "18647/18647 [==============================] - 9s 485us/step - loss: 1.8598 - acc: 0.3450 - val_loss: 1.9289 - val_acc: 0.3187\n",
      "Epoch 15/20\n",
      "18647/18647 [==============================] - 9s 498us/step - loss: 1.8499 - acc: 0.3485 - val_loss: 1.9220 - val_acc: 0.3239\n",
      "Epoch 16/20\n",
      "18647/18647 [==============================] - 9s 485us/step - loss: 1.8392 - acc: 0.3482 - val_loss: 1.9247 - val_acc: 0.3228\n",
      "Epoch 17/20\n",
      "18647/18647 [==============================] - 9s 486us/step - loss: 1.8228 - acc: 0.3557 - val_loss: 1.9373 - val_acc: 0.3271\n",
      "Epoch 18/20\n",
      "18647/18647 [==============================] - 9s 493us/step - loss: 1.8079 - acc: 0.3587 - val_loss: 1.9307 - val_acc: 0.3205\n",
      "Validation Log Loss of  Model in Current Run:  1.9161004016246983\n",
      "Train on 18647 samples, validate on 4662 samples\n",
      "Epoch 1/20\n",
      "18647/18647 [==============================] - 11s 571us/step - loss: 2.3203 - acc: 0.1694 - val_loss: 2.1773 - val_acc: 0.2355\n",
      "Epoch 2/20\n",
      "18647/18647 [==============================] - 9s 489us/step - loss: 2.1490 - acc: 0.2412 - val_loss: 2.0848 - val_acc: 0.2679\n",
      "Epoch 3/20\n",
      "18647/18647 [==============================] - 9s 488us/step - loss: 2.0783 - acc: 0.2648 - val_loss: 2.0520 - val_acc: 0.2671\n",
      "Epoch 4/20\n",
      "18647/18647 [==============================] - 9s 489us/step - loss: 2.0394 - acc: 0.2767 - val_loss: 1.9906 - val_acc: 0.2967\n",
      "Epoch 5/20\n",
      "18647/18647 [==============================] - 9s 498us/step - loss: 2.0096 - acc: 0.2932 - val_loss: 2.0081 - val_acc: 0.2992\n",
      "Epoch 6/20\n",
      "18647/18647 [==============================] - 9s 492us/step - loss: 1.9918 - acc: 0.2990 - val_loss: 2.0074 - val_acc: 0.2997\n",
      "Epoch 7/20\n",
      "18647/18647 [==============================] - 9s 489us/step - loss: 1.9730 - acc: 0.3075 - val_loss: 1.9562 - val_acc: 0.3091\n",
      "Epoch 8/20\n",
      "18647/18647 [==============================] - 9s 488us/step - loss: 1.9472 - acc: 0.3118 - val_loss: 1.9347 - val_acc: 0.3256\n",
      "Epoch 9/20\n",
      "18647/18647 [==============================] - 9s 487us/step - loss: 1.9323 - acc: 0.3172 - val_loss: 1.9305 - val_acc: 0.3254\n",
      "Epoch 10/20\n",
      "18647/18647 [==============================] - 9s 488us/step - loss: 1.9215 - acc: 0.3184 - val_loss: 1.9269 - val_acc: 0.3215\n",
      "Epoch 11/20\n",
      "18647/18647 [==============================] - 9s 488us/step - loss: 1.9043 - acc: 0.3226 - val_loss: 1.9295 - val_acc: 0.3198\n",
      "Epoch 12/20\n",
      "18647/18647 [==============================] - 9s 488us/step - loss: 1.8881 - acc: 0.3334 - val_loss: 1.9304 - val_acc: 0.3220\n",
      "Epoch 13/20\n",
      "18647/18647 [==============================] - 9s 488us/step - loss: 1.8813 - acc: 0.3402 - val_loss: 1.9281 - val_acc: 0.3200\n",
      "Epoch 14/20\n",
      "18647/18647 [==============================] - 9s 488us/step - loss: 1.8667 - acc: 0.3419 - val_loss: 1.9334 - val_acc: 0.3187\n",
      "Epoch 15/20\n",
      "18647/18647 [==============================] - 9s 503us/step - loss: 1.8486 - acc: 0.3451 - val_loss: 1.9712 - val_acc: 0.3112\n",
      "Validation Log Loss of  Model in Current Run:  1.9269472096053022\n",
      "Train on 18647 samples, validate on 4662 samples\n",
      "Epoch 1/20\n",
      "18647/18647 [==============================] - 11s 583us/step - loss: 2.3040 - acc: 0.1845 - val_loss: 2.2948 - val_acc: 0.1894\n",
      "Epoch 2/20\n",
      "18647/18647 [==============================] - 9s 493us/step - loss: 2.1428 - acc: 0.2494 - val_loss: 2.0907 - val_acc: 0.2623\n",
      "Epoch 3/20\n",
      "18647/18647 [==============================] - 9s 500us/step - loss: 2.0705 - acc: 0.2704 - val_loss: 2.0180 - val_acc: 0.3037\n",
      "Epoch 4/20\n",
      "18647/18647 [==============================] - 9s 500us/step - loss: 2.0322 - acc: 0.2846 - val_loss: 1.9784 - val_acc: 0.3138\n",
      "Epoch 5/20\n",
      "18647/18647 [==============================] - 9s 498us/step - loss: 2.0078 - acc: 0.2911 - val_loss: 1.9620 - val_acc: 0.3153\n",
      "Epoch 6/20\n",
      "18647/18647 [==============================] - 9s 499us/step - loss: 1.9880 - acc: 0.2973 - val_loss: 1.9432 - val_acc: 0.3222\n",
      "Epoch 7/20\n",
      "18647/18647 [==============================] - 9s 499us/step - loss: 1.9674 - acc: 0.3052 - val_loss: 1.9609 - val_acc: 0.3200\n",
      "Epoch 8/20\n",
      "18647/18647 [==============================] - 9s 501us/step - loss: 1.9513 - acc: 0.3116 - val_loss: 1.9626 - val_acc: 0.3172\n",
      "Epoch 9/20\n",
      "18647/18647 [==============================] - 9s 500us/step - loss: 1.9356 - acc: 0.3173 - val_loss: 1.9295 - val_acc: 0.3179\n",
      "Epoch 10/20\n",
      "18647/18647 [==============================] - 9s 499us/step - loss: 1.9157 - acc: 0.3265 - val_loss: 1.9468 - val_acc: 0.3123\n",
      "Epoch 11/20\n",
      "18647/18647 [==============================] - 9s 500us/step - loss: 1.8984 - acc: 0.3298 - val_loss: 1.9216 - val_acc: 0.3239\n",
      "Epoch 12/20\n",
      "18647/18647 [==============================] - 10s 519us/step - loss: 1.8909 - acc: 0.3307 - val_loss: 1.9544 - val_acc: 0.3155\n",
      "Epoch 13/20\n",
      "18647/18647 [==============================] - 9s 493us/step - loss: 1.8767 - acc: 0.3358 - val_loss: 1.9563 - val_acc: 0.3168\n",
      "Epoch 14/20\n",
      "18647/18647 [==============================] - 9s 497us/step - loss: 1.8623 - acc: 0.3442 - val_loss: 1.9237 - val_acc: 0.3252\n",
      "Epoch 15/20\n",
      "18647/18647 [==============================] - 9s 496us/step - loss: 1.8547 - acc: 0.3454 - val_loss: 1.9526 - val_acc: 0.3164\n",
      "Epoch 16/20\n",
      "18647/18647 [==============================] - 9s 506us/step - loss: 1.8356 - acc: 0.3476 - val_loss: 1.9543 - val_acc: 0.3177\n",
      "Validation Log Loss of  Model in Current Run:  1.9215836479064479\n",
      "Train on 18647 samples, validate on 4662 samples\n",
      "Epoch 1/20\n",
      "18647/18647 [==============================] - 11s 574us/step - loss: 2.3245 - acc: 0.1746 - val_loss: 2.2683 - val_acc: 0.2012\n",
      "Epoch 2/20\n",
      "18647/18647 [==============================] - 9s 489us/step - loss: 2.1529 - acc: 0.2453 - val_loss: 2.0810 - val_acc: 0.2849\n",
      "Epoch 3/20\n",
      "18647/18647 [==============================] - 9s 498us/step - loss: 2.0826 - acc: 0.2669 - val_loss: 2.0272 - val_acc: 0.3052\n",
      "Epoch 4/20\n",
      "18647/18647 [==============================] - 9s 497us/step - loss: 2.0435 - acc: 0.2761 - val_loss: 2.0649 - val_acc: 0.2819\n",
      "Epoch 5/20\n",
      "18647/18647 [==============================] - 9s 493us/step - loss: 2.0103 - acc: 0.2892 - val_loss: 1.9780 - val_acc: 0.3119\n",
      "Epoch 6/20\n",
      "18647/18647 [==============================] - 9s 503us/step - loss: 1.9876 - acc: 0.2992 - val_loss: 1.9854 - val_acc: 0.3121\n",
      "Epoch 7/20\n",
      "18647/18647 [==============================] - 10s 518us/step - loss: 1.9664 - acc: 0.3060 - val_loss: 1.9570 - val_acc: 0.3155\n",
      "Epoch 8/20\n",
      "18647/18647 [==============================] - 10s 520us/step - loss: 1.9472 - acc: 0.3152 - val_loss: 1.9592 - val_acc: 0.3198\n",
      "Epoch 9/20\n",
      "18647/18647 [==============================] - 9s 494us/step - loss: 1.9335 - acc: 0.3167 - val_loss: 1.9291 - val_acc: 0.3194\n",
      "Epoch 10/20\n",
      "18647/18647 [==============================] - 9s 501us/step - loss: 1.9184 - acc: 0.3252 - val_loss: 1.9342 - val_acc: 0.3263\n",
      "Epoch 11/20\n",
      "18647/18647 [==============================] - 9s 499us/step - loss: 1.9008 - acc: 0.3299 - val_loss: 1.9564 - val_acc: 0.3115\n",
      "Epoch 12/20\n",
      "18647/18647 [==============================] - 9s 500us/step - loss: 1.8938 - acc: 0.3344 - val_loss: 1.9430 - val_acc: 0.3267\n",
      "Epoch 13/20\n",
      "18647/18647 [==============================] - 9s 494us/step - loss: 1.8734 - acc: 0.3397 - val_loss: 1.9384 - val_acc: 0.3230\n",
      "Epoch 14/20\n",
      "18647/18647 [==============================] - 9s 491us/step - loss: 1.8560 - acc: 0.3398 - val_loss: 1.9120 - val_acc: 0.3250\n",
      "Epoch 15/20\n",
      "18647/18647 [==============================] - 9s 501us/step - loss: 1.8493 - acc: 0.3465 - val_loss: 1.9251 - val_acc: 0.3202\n",
      "Epoch 16/20\n",
      "18647/18647 [==============================] - 9s 495us/step - loss: 1.8282 - acc: 0.3575 - val_loss: 1.9372 - val_acc: 0.3108\n"
     ]
    },
    {
     "name": "stdout",
     "output_type": "stream",
     "text": [
      "Epoch 17/20\n",
      "18647/18647 [==============================] - 9s 493us/step - loss: 1.8248 - acc: 0.3577 - val_loss: 2.0076 - val_acc: 0.2973\n",
      "Epoch 18/20\n",
      "18647/18647 [==============================] - 9s 493us/step - loss: 1.8091 - acc: 0.3593 - val_loss: 1.9318 - val_acc: 0.3207\n",
      "Epoch 19/20\n",
      "18647/18647 [==============================] - 9s 494us/step - loss: 1.7835 - acc: 0.3720 - val_loss: 1.9322 - val_acc: 0.3192\n",
      "Validation Log Loss of  Model in Current Run:  1.912026818029835\n",
      "Train on 18647 samples, validate on 4662 samples\n",
      "Epoch 1/20\n",
      "18647/18647 [==============================] - 11s 584us/step - loss: 2.3259 - acc: 0.1669 - val_loss: 2.2133 - val_acc: 0.2207\n",
      "Epoch 2/20\n",
      "18647/18647 [==============================] - 9s 498us/step - loss: 2.1594 - acc: 0.2402 - val_loss: 2.0918 - val_acc: 0.2703\n",
      "Epoch 3/20\n",
      "18647/18647 [==============================] - 9s 499us/step - loss: 2.0908 - acc: 0.2630 - val_loss: 2.1092 - val_acc: 0.2593\n",
      "Epoch 4/20\n",
      "18647/18647 [==============================] - 9s 489us/step - loss: 2.0484 - acc: 0.2773 - val_loss: 1.9784 - val_acc: 0.3072\n",
      "Epoch 5/20\n",
      "18647/18647 [==============================] - 9s 500us/step - loss: 2.0176 - acc: 0.2930 - val_loss: 2.0139 - val_acc: 0.2984\n",
      "Epoch 6/20\n",
      "18647/18647 [==============================] - 9s 506us/step - loss: 1.9917 - acc: 0.2982 - val_loss: 1.9721 - val_acc: 0.3142\n",
      "Epoch 7/20\n",
      "18647/18647 [==============================] - 9s 501us/step - loss: 1.9750 - acc: 0.2996 - val_loss: 1.9368 - val_acc: 0.3196\n",
      "Epoch 8/20\n",
      "18647/18647 [==============================] - 9s 500us/step - loss: 1.9495 - acc: 0.3120 - val_loss: 1.9243 - val_acc: 0.3252\n",
      "Epoch 9/20\n",
      "18647/18647 [==============================] - 9s 490us/step - loss: 1.9405 - acc: 0.3148 - val_loss: 1.9335 - val_acc: 0.3209\n",
      "Epoch 10/20\n",
      "18647/18647 [==============================] - 9s 491us/step - loss: 1.9220 - acc: 0.3189 - val_loss: 1.9588 - val_acc: 0.3121\n",
      "Epoch 11/20\n",
      "18647/18647 [==============================] - 9s 491us/step - loss: 1.9142 - acc: 0.3223 - val_loss: 1.9307 - val_acc: 0.3248\n",
      "Epoch 12/20\n",
      "18647/18647 [==============================] - 9s 496us/step - loss: 1.8987 - acc: 0.3256 - val_loss: 1.9315 - val_acc: 0.3235\n",
      "Epoch 13/20\n",
      "18647/18647 [==============================] - 9s 493us/step - loss: 1.8844 - acc: 0.3374 - val_loss: 1.9259 - val_acc: 0.3211\n",
      "Validation Log Loss of  Model in Current Run:  1.9242562270762837\n",
      "Train on 18647 samples, validate on 4662 samples\n",
      "Epoch 1/20\n",
      "18647/18647 [==============================] - 11s 585us/step - loss: 2.3232 - acc: 0.1734 - val_loss: 2.1468 - val_acc: 0.2471\n",
      "Epoch 2/20\n",
      "18647/18647 [==============================] - 9s 495us/step - loss: 2.1475 - acc: 0.2421 - val_loss: 2.0649 - val_acc: 0.2741\n",
      "Epoch 3/20\n",
      "18647/18647 [==============================] - 9s 489us/step - loss: 2.0824 - acc: 0.2669 - val_loss: 2.0579 - val_acc: 0.2872\n",
      "Epoch 4/20\n",
      "18647/18647 [==============================] - 9s 491us/step - loss: 2.0424 - acc: 0.2832 - val_loss: 1.9899 - val_acc: 0.3035\n",
      "Epoch 5/20\n",
      "18647/18647 [==============================] - 10s 520us/step - loss: 2.0106 - acc: 0.2922 - val_loss: 1.9905 - val_acc: 0.3027\n",
      "Epoch 6/20\n",
      "18647/18647 [==============================] - 9s 508us/step - loss: 1.9838 - acc: 0.3032 - val_loss: 1.9489 - val_acc: 0.3224\n",
      "Epoch 7/20\n",
      "18647/18647 [==============================] - 9s 503us/step - loss: 1.9707 - acc: 0.3022 - val_loss: 1.9364 - val_acc: 0.3205\n",
      "Epoch 8/20\n",
      "18647/18647 [==============================] - 9s 502us/step - loss: 1.9540 - acc: 0.3095 - val_loss: 1.9485 - val_acc: 0.3119\n",
      "Epoch 9/20\n",
      "18647/18647 [==============================] - 9s 492us/step - loss: 1.9344 - acc: 0.3150 - val_loss: 1.9520 - val_acc: 0.3166\n",
      "Epoch 10/20\n",
      "18647/18647 [==============================] - 9s 490us/step - loss: 1.9187 - acc: 0.3214 - val_loss: 1.9291 - val_acc: 0.3267\n",
      "Epoch 11/20\n",
      "18647/18647 [==============================] - 9s 490us/step - loss: 1.9070 - acc: 0.3301 - val_loss: 1.9556 - val_acc: 0.3162\n",
      "Epoch 12/20\n",
      "18647/18647 [==============================] - 9s 490us/step - loss: 1.8913 - acc: 0.3330 - val_loss: 1.9279 - val_acc: 0.3265\n",
      "Epoch 13/20\n",
      "18647/18647 [==============================] - 9s 490us/step - loss: 1.8772 - acc: 0.3340 - val_loss: 1.9377 - val_acc: 0.3245\n",
      "Epoch 14/20\n",
      "18647/18647 [==============================] - 9s 490us/step - loss: 1.8641 - acc: 0.3393 - val_loss: 1.9378 - val_acc: 0.3205\n",
      "Epoch 15/20\n",
      "18647/18647 [==============================] - 9s 501us/step - loss: 1.8531 - acc: 0.3424 - val_loss: 1.9463 - val_acc: 0.3181\n",
      "Epoch 16/20\n",
      "18647/18647 [==============================] - 9s 491us/step - loss: 1.8386 - acc: 0.3515 - val_loss: 1.9167 - val_acc: 0.3267\n",
      "Epoch 17/20\n",
      "18647/18647 [==============================] - 9s 503us/step - loss: 1.8221 - acc: 0.3526 - val_loss: 1.9365 - val_acc: 0.3179\n",
      "Epoch 18/20\n",
      "18647/18647 [==============================] - 9s 504us/step - loss: 1.8135 - acc: 0.3609 - val_loss: 1.9203 - val_acc: 0.3254\n",
      "Epoch 19/20\n",
      "18647/18647 [==============================] - 9s 501us/step - loss: 1.8009 - acc: 0.3660 - val_loss: 1.9544 - val_acc: 0.3140\n",
      "Epoch 20/20\n",
      "18647/18647 [==============================] - 9s 501us/step - loss: 1.7832 - acc: 0.3659 - val_loss: 1.9242 - val_acc: 0.3290\n",
      "Validation Log Loss of  Model in Current Run:  1.924154171617466\n",
      "Train on 18647 samples, validate on 4662 samples\n",
      "Epoch 1/20\n",
      "18647/18647 [==============================] - 11s 590us/step - loss: 2.3317 - acc: 0.1690 - val_loss: 2.2294 - val_acc: 0.1973\n",
      "Epoch 2/20\n",
      "18647/18647 [==============================] - 9s 492us/step - loss: 2.1563 - acc: 0.2427 - val_loss: 2.0745 - val_acc: 0.2754\n",
      "Epoch 3/20\n",
      "18647/18647 [==============================] - 9s 487us/step - loss: 2.0853 - acc: 0.2618 - val_loss: 2.0315 - val_acc: 0.2902\n",
      "Epoch 4/20\n",
      "18647/18647 [==============================] - 9s 497us/step - loss: 2.0439 - acc: 0.2776 - val_loss: 1.9915 - val_acc: 0.3119\n",
      "Epoch 5/20\n",
      "18647/18647 [==============================] - 9s 487us/step - loss: 2.0176 - acc: 0.2886 - val_loss: 1.9622 - val_acc: 0.3142\n",
      "Epoch 6/20\n",
      "18647/18647 [==============================] - 9s 487us/step - loss: 1.9907 - acc: 0.2989 - val_loss: 1.9534 - val_acc: 0.3112\n",
      "Epoch 7/20\n",
      "18647/18647 [==============================] - 9s 489us/step - loss: 1.9748 - acc: 0.3024 - val_loss: 1.9647 - val_acc: 0.3162\n",
      "Epoch 8/20\n",
      "18647/18647 [==============================] - 9s 490us/step - loss: 1.9552 - acc: 0.3122 - val_loss: 1.9326 - val_acc: 0.3278\n",
      "Epoch 9/20\n",
      "18647/18647 [==============================] - 9s 488us/step - loss: 1.9378 - acc: 0.3145 - val_loss: 1.9345 - val_acc: 0.3192\n",
      "Epoch 10/20\n",
      "18647/18647 [==============================] - 9s 488us/step - loss: 1.9264 - acc: 0.3196 - val_loss: 1.9214 - val_acc: 0.3260\n",
      "Epoch 11/20\n",
      "18647/18647 [==============================] - 9s 508us/step - loss: 1.9100 - acc: 0.3277 - val_loss: 1.9336 - val_acc: 0.3243\n",
      "Epoch 12/20\n",
      "18647/18647 [==============================] - 9s 490us/step - loss: 1.8975 - acc: 0.3291 - val_loss: 1.9411 - val_acc: 0.3226\n",
      "Epoch 13/20\n",
      "18647/18647 [==============================] - 9s 492us/step - loss: 1.8809 - acc: 0.3343 - val_loss: 1.9634 - val_acc: 0.3157\n",
      "Epoch 14/20\n",
      "18647/18647 [==============================] - 9s 502us/step - loss: 1.8679 - acc: 0.3368 - val_loss: 1.9696 - val_acc: 0.3097\n",
      "Epoch 15/20\n",
      "18647/18647 [==============================] - 9s 501us/step - loss: 1.8545 - acc: 0.3462 - val_loss: 1.9267 - val_acc: 0.3297\n",
      "Validation Log Loss of  Model in Current Run:  1.9214211361493128\n",
      "Average CV Loss of 10 Runs : 1.921037584859702\n"
     ]
    }
   ],
   "source": [
    "model_list_2=events_average_nn_2(10)"
   ]
  },
  {
   "cell_type": "code",
   "execution_count": 73,
   "metadata": {},
   "outputs": [
    {
     "name": "stdout",
     "output_type": "stream",
     "text": [
      "Train Average Log-Loss:  1.7116106420012727\n"
     ]
    }
   ],
   "source": [
    "avg_pred=np.zeros((xtr.shape[0],12))\n",
    "for i in range(len(model_list_2)):\n",
    "    train_pred=model_list_2[i].predict_proba(xtr)\n",
    "    avg_pred+=train_pred\n",
    "avg_pred/=len(model_list_2)\n",
    "print(\"Train Average Log-Loss: \",log_loss(ytr, avg_pred))"
   ]
  },
  {
   "cell_type": "code",
   "execution_count": 74,
   "metadata": {},
   "outputs": [
    {
     "name": "stdout",
     "output_type": "stream",
     "text": [
      "Validation Average Log-Loss:  1.901829995425647\n"
     ]
    }
   ],
   "source": [
    "avg_pred=np.zeros((xcv.shape[0],12))\n",
    "for i in range(len(model_list_2)):\n",
    "    cv_pred=model_list_2[i].predict_proba(xcv)\n",
    "    avg_pred+=cv_pred\n",
    "avg_pred/=len(model_list_2)\n",
    "print(\"Validation Average Log-Loss: \",log_loss(ycv, avg_pred))"
   ]
  },
  {
   "cell_type": "code",
   "execution_count": 71,
   "metadata": {},
   "outputs": [],
   "source": [
    "avg_pred=np.zeros((X_test_events.shape[0],12))\n",
    "for i in range(len(model_list_2)):\n",
    "    test_pred=model_list_2[i].predict_proba(X_test_events)\n",
    "    avg_pred+=test_pred\n",
    "avg_pred/=len(model_list_2)"
   ]
  },
  {
   "cell_type": "markdown",
   "metadata": {},
   "source": [
    "#### Observation:\n",
    "1. The train and validation loss was 1.73 and 1.90 respectively\n"
   ]
  },
  {
   "cell_type": "markdown",
   "metadata": {},
   "source": [
    "### 7.2.3: XGboost\n"
   ]
  },
  {
   "cell_type": "code",
   "execution_count": 81,
   "metadata": {},
   "outputs": [
    {
     "name": "stdout",
     "output_type": "stream",
     "text": [
      "Train Log Loss : 1.2864905853263595\n",
      "Validation Log Loss : 2.060070905772884\n"
     ]
    }
   ],
   "source": [
    "xgb = XGBClassifier(n_estimators=350, n_jobs=-1,learning_rate=0.05, colsample_bytree=0.7, max_depth=5,subsample=0.7,objective='multi:softprob',num_class=12,eval_metric='mlogloss')\n",
    "xgb.fit(xtr, ytr)\n",
    "#Using Model Calibration\n",
    "clf = CalibratedClassifierCV(xgb, method=\"sigmoid\")\n",
    "clf.fit(xtr, ytr)\n",
    "\n",
    "pred_y=clf.predict_proba(xtr)\n",
    "print(\"Train Log Loss :\",log_loss(ytr, pred_y))\n",
    "\n",
    "\n",
    "pred_y=clf.predict_proba(xcv)\n",
    "print(\"Validation Log Loss :\",log_loss(ycv, pred_y))\n"
   ]
  },
  {
   "cell_type": "code",
   "execution_count": 83,
   "metadata": {},
   "outputs": [],
   "source": [
    "events_pred_xgb=clf.predict_proba(X_test_events)"
   ]
  },
  {
   "cell_type": "code",
   "execution_count": 85,
   "metadata": {},
   "outputs": [],
   "source": [
    "np.save('results/xgb_events.npy',events_pred_xgb)"
   ]
  },
  {
   "cell_type": "markdown",
   "metadata": {},
   "source": [
    "#### Observation:"
   ]
  },
  {
   "cell_type": "markdown",
   "metadata": {},
   "source": [
    "1. the train and validation log loss were 1.28 and 2.06 respectively\n",
    "2. The model appears to slightly overfit"
   ]
  },
  {
   "cell_type": "markdown",
   "metadata": {},
   "source": [
    "### 7.2.4: Logistic Regression\n"
   ]
  },
  {
   "cell_type": "markdown",
   "metadata": {},
   "source": [
    "##### Hyperparameter tuning"
   ]
  },
  {
   "cell_type": "code",
   "execution_count": 87,
   "metadata": {},
   "outputs": [
    {
     "name": "stdout",
     "output_type": "stream",
     "text": [
      "For values of C =  0.001 The validation log loss is: 2.0982561817893224\n",
      "For values of C =  0.01 The validation log loss is: 2.019844834880824\n",
      "For values of C =  0.02 The validation log loss is: 2.0160115578199274\n",
      "For values of C =  0.1 The validation log loss is: 2.043084585773688\n",
      "For values of C =  0.15 The validation log loss is: 2.055436921152977\n",
      "For values of C =  1 The validation log loss is: 2.1074612177933965\n",
      "For values of C =  10 The validation log loss is: 2.13818998200252\n"
     ]
    }
   ],
   "source": [
    "# Train a Logistic regression+Calibration model using text features whicha re on-hot encoded\n",
    "alpha = [0.001,0.01,0.02,0.1,0.15,1,10]\n",
    "\n",
    "\n",
    "for i in alpha:\n",
    "    clf = LogisticRegression(C=i, class_weight='balanced', multi_class='multinomial',solver='lbfgs')\n",
    "    clf.fit(xtr, ytr)\n",
    "    #Using Model Calibration\n",
    "    sig_clf = CalibratedClassifierCV(clf, method=\"sigmoid\")\n",
    "    sig_clf.fit(xtr, ytr)\n",
    "    predict_y = sig_clf.predict_proba(xcv)\n",
    "    print('For values of C = ', i, \"The validation log loss is:\",log_loss(ycv, predict_y))\n",
    "\n"
   ]
  },
  {
   "cell_type": "markdown",
   "metadata": {},
   "source": [
    "#### C=0.02 gives best results"
   ]
  },
  {
   "cell_type": "code",
   "execution_count": 89,
   "metadata": {},
   "outputs": [
    {
     "name": "stdout",
     "output_type": "stream",
     "text": [
      "The train log loss for best C is: 1.840631737548809\n",
      "The validation log loss for best C is: 2.0160115578199274\n"
     ]
    }
   ],
   "source": [
    "clf = LogisticRegression(C=0.02, class_weight='balanced', multi_class='multinomial', solver='lbfgs')\n",
    "clf.fit(xtr, ytr)\n",
    "sig_clf = CalibratedClassifierCV(clf, method=\"sigmoid\")\n",
    "sig_clf.fit(xtr, ytr)\n",
    "\n",
    "predict_y = sig_clf.predict_proba(xtr)\n",
    "loss=log_loss(ytr, predict_y)\n",
    "print(\"The train log loss for best C is:\",loss)\n",
    "predict_y = sig_clf.predict_proba(xcv)\n",
    "loss=log_loss(ycv, predict_y)\n",
    "print(\"The validation log loss for best C is:\",loss)"
   ]
  },
  {
   "cell_type": "code",
   "execution_count": 90,
   "metadata": {},
   "outputs": [],
   "source": [
    "events_pred_lr=clf.predict_proba(X_test_events)"
   ]
  },
  {
   "cell_type": "code",
   "execution_count": 91,
   "metadata": {},
   "outputs": [],
   "source": [
    "np.save('results/lr_events.npy',events_pred_lr)"
   ]
  },
  {
   "cell_type": "markdown",
   "metadata": {},
   "source": [
    "## 7.3: Model Ensembeling"
   ]
  },
  {
   "cell_type": "markdown",
   "metadata": {},
   "source": [
    "### 7.3.1 Approach 1: Ensembleing Machine learning models"
   ]
  },
  {
   "cell_type": "markdown",
   "metadata": {},
   "source": [
    "1. for predicting test data with no events information we use logistic regression from section 7.1.2 and Xgboost from 7.1.5 to get probabilities and average the predictions\n",
    "\n",
    "2. For predicting test data which contains events information,  we use logistic regression from section 7.2.4 and XGboost from 7.2.5 to get probabilities average the predictions\n",
    "\n",
    "3. Finally we concatenate the predictions"
   ]
  },
  {
   "cell_type": "code",
   "execution_count": 94,
   "metadata": {},
   "outputs": [],
   "source": [
    "from IPython.display import Image"
   ]
  },
  {
   "cell_type": "code",
   "execution_count": 95,
   "metadata": {},
   "outputs": [
    {
     "data": {
      "image/jpeg": "[encoded data removed]",
      "text/plain": [
       "<IPython.core.display.Image object>"
      ]
     },
     "execution_count": 95,
     "metadata": {},
     "output_type": "execute_result"
    }
   ],
   "source": [
    "Image('diag2.jpg')"
   ]
  },
  {
   "cell_type": "code",
   "execution_count": 97,
   "metadata": {},
   "outputs": [],
   "source": [
    "lr1=np.load(\"results/lr_noevents.npy\")\n",
    "lr2=np.load(\"results/lr_events.npy\")\n",
    "\n",
    "xgb1=np.load(\"results/xgb_noevents.npy\")\n",
    "xgb2=np.load(\"results/xgb_events.npy\")"
   ]
  },
  {
   "cell_type": "code",
   "execution_count": 98,
   "metadata": {},
   "outputs": [],
   "source": [
    "w1=0.5\n",
    "w2=0.5\n",
    "w3=0.3\n",
    "w4=0.5\n",
    "\n",
    "test1=(w1*lr1)+(w2*xgb1)\n",
    "\n",
    "test2=(w3*lr2)+(w4*xgb2)"
   ]
  },
  {
   "cell_type": "code",
   "execution_count": 99,
   "metadata": {},
   "outputs": [],
   "source": [
    "gatrain=pd.read_csv('data/gender_age_train.csv',index_col = 'device_id')\n",
    "targetencoder = LabelEncoder().fit(gatrain.group)\n",
    "y = targetencoder.transform(gatrain.group)\n",
    "nclasses = len(targetencoder.classes_)"
   ]
  },
  {
   "cell_type": "code",
   "execution_count": 100,
   "metadata": {},
   "outputs": [
    {
     "data": {
      "text/plain": [
       "(112071, 12)"
      ]
     },
     "execution_count": 100,
     "metadata": {},
     "output_type": "execute_result"
    }
   ],
   "source": [
    "pred_1 = pd.DataFrame(test1, index = gatest_noevents.index, columns=targetencoder.classes_)\n",
    "pred_2 = pd.DataFrame(test2, index = gatest_events.index, columns=targetencoder.classes_)\n",
    "final_pred=pd.concat([pred_1,pred_2], axis=0)\n",
    "final_pred.shape"
   ]
  },
  {
   "cell_type": "code",
   "execution_count": 101,
   "metadata": {},
   "outputs": [],
   "source": [
    "final_pred.to_csv('final1.csv',index=True)"
   ]
  },
  {
   "cell_type": "markdown",
   "metadata": {},
   "source": [
    "### 7.3.2 Approach 1: Ensembeling Neural Networks"
   ]
  },
  {
   "cell_type": "markdown",
   "metadata": {},
   "source": [
    "1. for predicting test data with no events information we use nerual network from section 7.1.3 to get probabilities\n",
    "\n",
    "2. For predicting test data which contains events information, we use a neural networks, we use neural networks from sections 7.2.1 and 7.2.2 and average the predictions\n",
    "\n",
    "3. Finally we concatenate the predictions"
   ]
  },
  {
   "cell_type": "code",
   "execution_count": 150,
   "metadata": {},
   "outputs": [
    {
     "data": {
      "image/jpeg": "[encoded data removed]",
      "text/plain": [
       "<IPython.core.display.Image object>"
      ]
     },
     "execution_count": 150,
     "metadata": {},
     "output_type": "execute_result"
    }
   ],
   "source": [
    "Image('diag.jpg')"
   ]
  },
  {
   "cell_type": "code",
   "execution_count": 73,
   "metadata": {},
   "outputs": [],
   "source": [
    "lr=np.load(\"results/lr_noevents.npy\")\n",
    "noevents_nn1=np.load(\"results/nn1_noevents.npy\")\n",
    "noevents_nn2=np.load(\"results/nn2_noevents.npy\")\n",
    "\n",
    "events_nn1=np.load(\"results/newnn1_events.npy\")\n",
    "events_nn2=np.load(\"results/newnn2_events.npy\")"
   ]
  },
  {
   "cell_type": "code",
   "execution_count": 74,
   "metadata": {},
   "outputs": [],
   "source": [
    "w1=0.5\n",
    "w2=0.5\n",
    "\n",
    "test1=(1*noevents_nn1)\n",
    "\n",
    "test2=(0.5*events_nn1)+(0.5*events_nn2)"
   ]
  },
  {
   "cell_type": "code",
   "execution_count": 75,
   "metadata": {},
   "outputs": [],
   "source": [
    "gatrain=pd.read_csv('data/gender_age_train.csv',index_col = 'device_id')"
   ]
  },
  {
   "cell_type": "code",
   "execution_count": 76,
   "metadata": {},
   "outputs": [],
   "source": [
    "targetencoder = LabelEncoder().fit(gatrain.group)\n",
    "y = targetencoder.transform(gatrain.group)\n",
    "nclasses = len(targetencoder.classes_)"
   ]
  },
  {
   "cell_type": "code",
   "execution_count": 153,
   "metadata": {},
   "outputs": [
    {
     "data": {
      "text/plain": [
       "(112071, 12)"
      ]
     },
     "execution_count": 153,
     "metadata": {},
     "output_type": "execute_result"
    }
   ],
   "source": [
    "pred_1 = pd.DataFrame(test1, index = gatest_noevents.index, columns=targetencoder.classes_)\n",
    "pred_2 = pd.DataFrame(test2, index = gatest_events.index, columns=targetencoder.classes_)\n",
    "final_pred=pd.concat([pred_1,pred_2], axis=0)\n",
    "final_pred.shape"
   ]
  },
  {
   "cell_type": "code",
   "execution_count": 154,
   "metadata": {},
   "outputs": [],
   "source": [
    "final_pred.to_csv('final1.csv',index=True)"
   ]
  },
  {
   "cell_type": "markdown",
   "metadata": {},
   "source": [
    "# Section 8: Results:"
   ]
  },
  {
   "cell_type": "markdown",
   "metadata": {},
   "source": [
    "### 8.1: Machine Learning model Ensemble "
   ]
  },
  {
   "cell_type": "markdown",
   "metadata": {},
   "source": [
    "**Private Score:**2.278\n",
    "\n",
    "**Public Score:**2.275"
   ]
  },
  {
   "cell_type": "markdown",
   "metadata": {},
   "source": [
    "Machine learning Ensemble seems to perform okay, but not enough to get in Top 10% of leaderboard"
   ]
  },
  {
   "cell_type": "markdown",
   "metadata": {},
   "source": [
    "### 8.2: Neural Network Ensemble "
   ]
  },
  {
   "cell_type": "code",
   "execution_count": 155,
   "metadata": {},
   "outputs": [
    {
     "data": {
      "image/jpeg": "[encoded data removed]",
      "text/plain": [
       "<IPython.core.display.Image object>"
      ]
     },
     "execution_count": 155,
     "metadata": {},
     "output_type": "execute_result"
    }
   ],
   "source": [
    "Image('score.jpg')"
   ]
  },
  {
   "cell_type": "markdown",
   "metadata": {},
   "source": [
    "**Private Score:**2.23900\n",
    "\n",
    "**Public Score:**2.23393"
   ]
  },
  {
   "cell_type": "markdown",
   "metadata": {},
   "source": [
    "#### Both these  come under the Top 10% of leaderboard scores"
   ]
  },
  {
   "cell_type": "code",
   "execution_count": 156,
   "metadata": {},
   "outputs": [
    {
     "data": {
      "image/jpeg": "[encoded data removed]",
      "text/plain": [
       "<IPython.core.display.Image object>"
      ]
     },
     "execution_count": 156,
     "metadata": {},
     "output_type": "execute_result"
    }
   ],
   "source": [
    "Image('Private-leaderboard.jpg')"
   ]
  },
  {
   "cell_type": "markdown",
   "metadata": {},
   "source": [
    "**152nd out 1638 rank in private leaderboard**"
   ]
  },
  {
   "cell_type": "code",
   "execution_count": 157,
   "metadata": {},
   "outputs": [
    {
     "data": {
      "image/jpeg": "[encoded data removed]",
      "text/plain": [
       "<IPython.core.display.Image object>"
      ]
     },
     "execution_count": 157,
     "metadata": {},
     "output_type": "execute_result"
    }
   ],
   "source": [
    "Image('Public-leaderboard.jpg')"
   ]
  },
  {
   "cell_type": "markdown",
   "metadata": {},
   "source": [
    "**146th out 1638 in Public Leaderboard**"
   ]
  },
  {
   "cell_type": "markdown",
   "metadata": {},
   "source": [
    "## Summary of models\n",
    "#### Approach 1:"
   ]
  },
  {
   "cell_type": "code",
   "execution_count": 161,
   "metadata": {},
   "outputs": [
    {
     "name": "stdout",
     "output_type": "stream",
     "text": [
      "+---------------------+------------+--------------+\n",
      "|        Model        |    Data    |  CV Log-loss |\n",
      "+---------------------+------------+--------------+\n",
      "| Logistic Regression | Whole data |    2.3379    |\n",
      "|    Neural Network   | Whole data |    2.3969    |\n",
      "+---------------------+------------+--------------+\n"
     ]
    }
   ],
   "source": [
    "from prettytable import PrettyTable\n",
    "\n",
    "pt = PrettyTable()\n",
    "pt.field_names = [\"Model\", \"Data\", \" CV Log-loss\"]\n",
    "pt.add_row([\"Logistic Regression\", \"Whole data\",  2.3379])\n",
    "pt.add_row([\"Neural Network\", \"Whole data\",  2.3969])\n",
    "\n",
    "print(pt)            "
   ]
  },
  {
   "cell_type": "markdown",
   "metadata": {},
   "source": [
    "#### Approach 2:"
   ]
  },
  {
   "cell_type": "code",
   "execution_count": 103,
   "metadata": {},
   "outputs": [
    {
     "name": "stdout",
     "output_type": "stream",
     "text": [
      "+---------------------+----------------+----------------------+\n",
      "|        Model        |      Data      |  Validation Log-loss |\n",
      "+---------------------+----------------+----------------------+\n",
      "| Logistic Regression | without events |        2.3891        |\n",
      "|       XGboost       | without events |        2.3929        |\n",
      "| Avg Neural Network1 | without events |        2.3518        |\n",
      "| Avg Neural Network2 | without events |        2.3792        |\n",
      "| Logistic Regression |     events     |       2.01601        |\n",
      "|       XGboost       |     events     |       2.06007        |\n",
      "| Avg Neural Network1 |     events     |        1.9166        |\n",
      "| Avg Neural Network2 |     events     |        1.9078        |\n",
      "+---------------------+----------------+----------------------+\n"
     ]
    }
   ],
   "source": [
    "from prettytable import PrettyTable\n",
    "\n",
    "pt = PrettyTable()\n",
    "pt.field_names = [\"Model\", \"Data\", \" Validation Log-loss\"]\n",
    "pt.add_row([\"Logistic Regression\", \"without events\",  2.3891])\n",
    "pt.add_row([\"XGboost\", \"without events\",  2.3929])\n",
    "pt.add_row([\"Avg Neural Network1\", \"without events\",  2.3518])\n",
    "pt.add_row([\"Avg Neural Network2\", \"without events\",  2.3792])\n",
    "\n",
    "pt.add_row([\"Logistic Regression\", \"events\",  2.01601])\n",
    "pt.add_row([\"XGboost\", \"events\",  2.06007])\n",
    "pt.add_row([\"Avg Neural Network1\", \"events\",  1.9166])\n",
    "pt.add_row([\"Avg Neural Network2\", \"events\",  1.9078])\n",
    "\n",
    "print(pt)            "
   ]
  },
  {
   "cell_type": "markdown",
   "metadata": {},
   "source": [
    "## Overall Conclusions and Thoughts:"
   ]
  },
  {
   "cell_type": "markdown",
   "metadata": {},
   "source": [
    "1. The data has a lot a missing values, about 70% of the data does not contain events information\n",
    "2. The hardest part of this problem was creating features, as the data was distributed thorughtout various tables each having its own primary key\n",
    "4. The data was split into 2 grps, devices which conatins events files and not contain events files, modelling was done seperately and its predictions were concatenated. This gave best results\n",
    "5. Nerual Network ensembles were used, to achieve better log-loss\n",
    "6. The best score on private leaderboard was 2.2390 and public leaderboard was 2.23391"
   ]
  }
 ],
 "metadata": {
  "kernelspec": {
   "display_name": "Python 3",
   "language": "python",
   "name": "python3"
  },
  "language_info": {
   "codemirror_mode": {
    "name": "ipython",
    "version": 3
   },
   "file_extension": ".py",
   "mimetype": "text/x-python",
   "name": "python",
   "nbconvert_exporter": "python",
   "pygments_lexer": "ipython3",
   "version": "3.6.5"
  }
 },
 "nbformat": 4,
 "nbformat_minor": 2
}
